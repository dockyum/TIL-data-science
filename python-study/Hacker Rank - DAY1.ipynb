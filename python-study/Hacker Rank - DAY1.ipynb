{
 "cells": [
  {
   "cell_type": "markdown",
   "metadata": {},
   "source": [
    "# List Comprehension\n",
    "- short list creater\n",
    "\n",
    "### Syntax\n",
    "```python\n",
    "    expression for item in (string,tuple,list) if cocntion\n",
    "```"
   ]
  },
  {
   "cell_type": "code",
   "execution_count": 131,
   "metadata": {},
   "outputs": [
    {
     "name": "stdout",
     "output_type": "stream",
     "text": [
      "2\n",
      "3\n",
      "4\n",
      "5\n"
     ]
    },
    {
     "data": {
      "text/plain": [
       "[[2], [3], [4], [5]]"
      ]
     },
     "execution_count": 131,
     "metadata": {},
     "output_type": "execute_result"
    }
   ],
   "source": [
    "## list comprehension\n",
    "nums = [list(map(int, input().split())) for i in range(n)]\n",
    "nums"
   ]
  },
  {
   "cell_type": "code",
   "execution_count": 134,
   "metadata": {},
   "outputs": [
    {
     "name": "stdout",
     "output_type": "stream",
     "text": [
      "2 3 4 5\n",
      "<map object at 0x7fc3fd59d880>\n"
     ]
    }
   ],
   "source": [
    "n = [map(int, input().split())]\n",
    "print(n[0])"
   ]
  },
  {
   "cell_type": "code",
   "execution_count": null,
   "metadata": {},
   "outputs": [],
   "source": [
    "num = [ list(map(int, input().split())) for i in range(n)]"
   ]
  },
  {
   "cell_type": "code",
   "execution_count": 97,
   "metadata": {},
   "outputs": [
    {
     "name": "stdout",
     "output_type": "stream",
     "text": [
      "[[1, 2, 3], [3, 4, 5], [2, 3, 5], [3, 4, 5]]\n"
     ]
    }
   ],
   "source": [
    "print(nums)"
   ]
  },
  {
   "cell_type": "code",
   "execution_count": 77,
   "metadata": {},
   "outputs": [
    {
     "name": "stdout",
     "output_type": "stream",
     "text": [
      "<class 'function'>\n",
      "<class 'function'>\n",
      "[<function <listcomp>.<lambda> at 0x7fc3fb503040>, <function <listcomp>.<lambda> at 0x7fc3fb5034c0>, <function <listcomp>.<lambda> at 0x7fc3fb5039d0>]\n"
     ]
    }
   ],
   "source": [
    "a = [1,2,3]\n",
    "hi_lambda = lambda x: x+ 5\n",
    "print(type(hi_lambda))\n",
    "print(type(lambda x: x+ 5))\n",
    "nums = [ hi_lambda(i) for i in a]\n",
    "nums = [ lambda x: x+ 5 for i in a]\n",
    "print(nums)"
   ]
  },
  {
   "cell_type": "code",
   "execution_count": 66,
   "metadata": {},
   "outputs": [
    {
     "name": "stdout",
     "output_type": "stream",
     "text": [
      "4 7\n",
      "n is : 4 , k is : 7\n"
     ]
    }
   ],
   "source": [
    "n, k = map(int, input().split())\n",
    "print(\"n is : {} , k is : {}\".format(n,k))"
   ]
  },
  {
   "cell_type": "code",
   "execution_count": 69,
   "metadata": {},
   "outputs": [
    {
     "name": "stdout",
     "output_type": "stream",
     "text": [
      "[0, 1, 2, 3]\n"
     ]
    }
   ],
   "source": [
    "ls = [i for i in range(n)]\n",
    "print(ls)"
   ]
  },
  {
   "cell_type": "code",
   "execution_count": 94,
   "metadata": {},
   "outputs": [
    {
     "data": {
      "text/plain": [
       "['This', 'test', 'string', 'is', 'from', 'Andrew', 'a']"
      ]
     },
     "execution_count": 94,
     "metadata": {},
     "output_type": "execute_result"
    }
   ],
   "source": [
    "sorted(\"This is a test string from Andrew\".split(), key=str.lower, reverse=True)"
   ]
  },
  {
   "cell_type": "code",
   "execution_count": 91,
   "metadata": {},
   "outputs": [
    {
     "data": {
      "text/plain": [
       "[3, 2, 1, 0]"
      ]
     },
     "execution_count": 91,
     "metadata": {},
     "output_type": "execute_result"
    }
   ],
   "source": [
    "ls.sort(reverse=True)\n",
    "ls"
   ]
  },
  {
   "cell_type": "code",
   "execution_count": 102,
   "metadata": {},
   "outputs": [],
   "source": [
    "k =1\n",
    "nums.sort(key=lambda x:x[k])"
   ]
  },
  {
   "cell_type": "code",
   "execution_count": 104,
   "metadata": {},
   "outputs": [
    {
     "name": "stdout",
     "output_type": "stream",
     "text": [
      "1_2_3\n",
      "2_3_5\n",
      "3_4_5\n",
      "3_4_5\n"
     ]
    }
   ],
   "source": [
    "for row in nums:\n",
    "    print(*row, sep='_')"
   ]
  },
  {
   "cell_type": "markdown",
   "metadata": {},
   "source": [
    "## 예제\n",
    "```\n",
    "3 4 \n",
    "3 4 5\n",
    "5 6 7\n",
    "6 7 8\n",
    "1\n",
    "```"
   ]
  },
  {
   "cell_type": "code",
   "execution_count": null,
   "metadata": {},
   "outputs": [],
   "source": [
    "## index 받아서 map으로 각각에 넣어줌\n",
    "n,m = map(int, input().split())\n",
    "\n",
    "## 열의 수 만큼 for문 돌려서 input 받고, 받은 input을 list로 만들어서 nums에 저장\n",
    "## nums는 여러 list가 있는 list\n",
    "nums = [list(map(int, input().split())) for i in range(n)]\n",
    "\n",
    "## 정렬 기준 값 k 받음\n",
    "k = int(input())\n",
    "\n",
    "## nums라는 list를 index: k기준으로 sorting\n",
    "nums.sort(key=lambda x: x[k])\n",
    "\n",
    "## nums list의 요소를 순서대로 출력\n",
    "for line in nums:\n",
    "    print(*line, sep=' ')"
   ]
  },
  {
   "cell_type": "code",
   "execution_count": null,
   "metadata": {},
   "outputs": [],
   "source": [
    "## index 받아서 map으로 각각에 넣어줌\n",
    "n, m = map(int, input().split())\n",
    "\n",
    "## input을 n의 개수만큼 받아 rows 라는 list로 만듬\n",
    "rows = [input() for _ in range(n)]\n",
    "\n",
    "## 정렬 기준 값 k 받음\n",
    "k = int(input())\n",
    "\n",
    "## \"k 번째 숫자를 기준으로 sorting한 새로운 함수 rows\"의 row를 for문으로 뽑음\n",
    "for i in sorted(rows, key=lambda x: int(x.split()[k])):\n",
    "    print(i)"
   ]
  },
  {
   "cell_type": "code",
   "execution_count": 146,
   "metadata": {},
   "outputs": [
    {
     "name": "stdout",
     "output_type": "stream",
     "text": [
      "[[0, 0, 0], [0, 0, 1], [0, 0, 2], [0, 1, 0], [0, 1, 1], [1, 0, 0], [1, 0, 1], [1, 1, 0], [1, 1, 2]]\n"
     ]
    }
   ],
   "source": [
    "## [i,j,k] 수열 만들고 합이 n이 아닌 것들을 뺍니다.\n",
    "\n",
    "x, y, z, n = 1,1,2,3\n",
    "a = [ [i,j,k] for i in range(x+1) for j in range(y+1) for k in range(z+1) if i+j+k != n]\n",
    "print(a)"
   ]
  },
  {
   "cell_type": "code",
   "execution_count": 157,
   "metadata": {},
   "outputs": [
    {
     "name": "stdout",
     "output_type": "stream",
     "text": [
      "5\n",
      "2 3 6 6 5\n"
     ]
    },
    {
     "data": {
      "text/plain": [
       "5"
      ]
     },
     "execution_count": 157,
     "metadata": {},
     "output_type": "execute_result"
    }
   ],
   "source": [
    "n = int(input())\n",
    "arr = map(int, input().split())\n",
    "ls = list(sorted(set(arr), reverse=True))\n",
    "ls[1]"
   ]
  },
  {
   "cell_type": "markdown",
   "metadata": {},
   "source": [
    "## input\n",
    "```python\n",
    "5\n",
    "Harry\n",
    "37.21\n",
    "Berry\n",
    "37.21\n",
    "Tina\n",
    "37.2\n",
    "Akriti\n",
    "41\n",
    "Harsh\n",
    "39\n",
    "```"
   ]
  },
  {
   "cell_type": "code",
   "execution_count": 159,
   "metadata": {},
   "outputs": [
    {
     "name": "stdout",
     "output_type": "stream",
     "text": [
      "5\n",
      "Harry\n",
      "37.21\n",
      "Berry\n",
      "37.21\n",
      "Tina\n",
      "37.2\n",
      "Akriti\n",
      "41\n",
      "Harsh\n",
      "39\n",
      "[['Harry', 37.21], ['Berry', 37.21], ['Tina', 37.2], ['Akriti', 41.0], ['Harsh', 39.0]]\n"
     ]
    }
   ],
   "source": [
    "record = [[input(),float(input())] for _ in range(int(input()))]\n",
    "print(record)"
   ]
  },
  {
   "cell_type": "code",
   "execution_count": 167,
   "metadata": {
    "scrolled": true
   },
   "outputs": [
    {
     "name": "stdout",
     "output_type": "stream",
     "text": [
      "5\n",
      "h\n",
      "37\n",
      "b\n",
      "37\n",
      "t\n",
      "36\n",
      "a\n",
      "41\n",
      "r\n",
      "39\n",
      "{41.0, 36.0, 37.0, 39.0}\n"
     ]
    }
   ],
   "source": [
    "# 틀린 풀이\n",
    "\n",
    "## 첫 input()의 숫자만큼 for문을 돌려 이름과 점수를 받는다\n",
    "record = [[input(),float(input())] for _ in range(int(input()))]\n",
    "\n",
    "## record의 길이만큼 for문을 돌려 record 점수를 수집한 list를 만든다 -> 솔팅을 안함\n",
    "score_ls = [(record[i][1] for i in range(len(record)))]\n",
    "\n",
    "## list의 두번째 값과 점수가 같은 이름을 뽑아 list로 만든다\n",
    "second_person = [record[i][0] for i in range(len(record)) if record[i][1] == list(score_ls)[1]]\n",
    "\n",
    "print(score_ls)"
   ]
  },
  {
   "cell_type": "code",
   "execution_count": 2,
   "metadata": {
    "scrolled": true
   },
   "outputs": [
    {
     "name": "stdout",
     "output_type": "stream",
     "text": [
      "5\n",
      "h\n",
      "11\n",
      "b\n",
      "11\n",
      "t\n",
      "9\n",
      "a\n",
      "15\n",
      "r\n",
      "21\n",
      "b\n",
      "h\n"
     ]
    }
   ],
   "source": [
    "records = [[input(),float(input())] for _ in range(int(input()))]\n",
    "\n",
    "## records 를 돌려 점수만 모으고 이걸 set로 만든것을 sorted한다\n",
    "scores = sorted({i[1] for i in records})\n",
    "\n",
    "## \n",
    "result = sorted(i[0] for i in records if i[1] == scores[1])\n",
    "\n",
    "print('\\n'.join(result))"
   ]
  },
  {
   "cell_type": "code",
   "execution_count": null,
   "metadata": {},
   "outputs": [],
   "source": [
    "n = int(input())\n",
    "student_marks = {}\n",
    "for _ in range(n):\n",
    "    name, *board = input().split()\n",
    "    scores = list(map(float, line))\n",
    "    student_marks[name] = scores\n",
    "query_name = input()\n",
    "\n"
   ]
  },
  {
   "cell_type": "code",
   "execution_count": 12,
   "metadata": {},
   "outputs": [
    {
     "name": "stdout",
     "output_type": "stream",
     "text": [
      "Krishna 67 68 69\n",
      "Krishna 67 68 69\n",
      "Krishna 67 68 69\n",
      "Krishna 67 68 69\n",
      "<class 'list'>\n"
     ]
    }
   ],
   "source": [
    "## argument로 list를 바로 만들 수 있어요!\n",
    "for _ in range(4):\n",
    "    name, *scores = input().split()\n",
    "    \n",
    "print(type(scores))"
   ]
  },
  {
   "cell_type": "markdown",
   "metadata": {},
   "source": [
    "# Map()\n",
    "\n",
    "## syntax\n",
    "```python\n",
    "    map(function, iterable )\n",
    "```\n",
    "\n",
    "iterable에 있는 요소를 순서대로 function 에 넣는 함수.\n",
    "\n",
    "return type은 `<map object>`\n"
   ]
  },
  {
   "cell_type": "code",
   "execution_count": 50,
   "metadata": {},
   "outputs": [
    {
     "name": "stdout",
     "output_type": "stream",
     "text": [
      "Krishna 67 68 69\n",
      "Krishna 67 68 69\n",
      "Krishna\n",
      "68.00\n"
     ]
    }
   ],
   "source": [
    "from decimal import Decimal\n",
    "\n",
    "student_marks = {}\n",
    "for _ in range(2):\n",
    "    name, *line = input().split()\n",
    "    scores = list(map(float, line))\n",
    "    student_marks[name] = scores\n",
    "query_name = input()\n",
    "\n",
    "_sum = sum(student_marks[query_name])\n",
    "\n",
    "avg = Decimal( sum(student_marks[query_name]) / len(student_marks[query_name]) )\n",
    "\n",
    "print(round(avg,2))"
   ]
  },
  {
   "cell_type": "markdown",
   "metadata": {},
   "source": [
    "# List Function()s\n",
    "\n",
    "### insert()\n",
    "\n",
    "```python\n",
    "    list.insert(index, element)\n",
    "```\n",
    "\n",
    "### print()\n",
    "\n",
    "```python\n",
    "    print()\n",
    "```\n",
    "\n",
    "### remove()\n",
    "\n",
    "```python\n",
    "    list.remove(element)\n",
    "```\n",
    "\n",
    "remove `element` in the `list`\n",
    "\n",
    "### append()\n",
    "\n",
    "```python\n",
    "    list.append(item)\n",
    "```\n",
    "\n",
    "add `item` at the end of the `list`\n",
    "\n",
    "### sort()\n",
    "\n",
    "```python\n",
    "    list.sort(key=function , reverse=True)\n",
    "```\n",
    "\n",
    "sort `list` by `function`\n",
    "\n",
    "### pop()\n",
    "\n",
    "```python\n",
    "    list.pop(index)\n",
    "```\n",
    "\n",
    "remove `index` item in the `list` (default value is [-1])\n",
    "and return the `index` item\n",
    "\n",
    "### reverse()\n",
    "\n",
    "```python\n",
    "    list.reverse()\n",
    "```\n",
    "\n",
    "update list reverse"
   ]
  },
  {
   "cell_type": "code",
   "execution_count": null,
   "metadata": {},
   "outputs": [],
   "source": [
    "N = int(input())\n",
    "ls = []\n",
    "\n",
    "for _ in range(N):\n",
    "    str = input()\n",
    "    if \"insert\" in str:\n",
    "        ls.insert(str.split()[1],str.split()[2])\n",
    "    elif \"print\" in str:\n",
    "        print(ls)\n",
    "    elif \"remove\" in str:\n",
    "        ls.remove(str.split()[1])\n",
    "    elif \"append\" in str:\n",
    "        ls.append(str.split()[1])\n",
    "    elif \"sort\" in str:\n",
    "        ls.sort()\n",
    "    elif \"pop\" in str:\n",
    "        ls.pop()\n",
    "    elif \"reverse\" in str:\n",
    "        ls.reverse()"
   ]
  }
 ],
 "metadata": {
  "kernelspec": {
   "display_name": "Python 3",
   "language": "python",
   "name": "python3"
  },
  "language_info": {
   "codemirror_mode": {
    "name": "ipython",
    "version": 3
   },
   "file_extension": ".py",
   "mimetype": "text/x-python",
   "name": "python",
   "nbconvert_exporter": "python",
   "pygments_lexer": "ipython3",
   "version": "3.8.3"
  }
 },
 "nbformat": 4,
 "nbformat_minor": 4
}
