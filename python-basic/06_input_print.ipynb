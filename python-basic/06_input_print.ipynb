{
 "cells": [
  {
   "cell_type": "markdown",
   "metadata": {},
   "source": [
    "# 입력과 출력"
   ]
  },
  {
   "cell_type": "code",
   "execution_count": 2,
   "metadata": {},
   "outputs": [
    {
     "name": "stdout",
     "output_type": "stream",
     "text": [
      "insert string:python\n",
      "<class 'str'> python\n"
     ]
    }
   ],
   "source": [
    "#입력\n",
    "value = input(\"insert string:\")\n",
    "print(type(value),value)"
   ]
  },
  {
   "cell_type": "code",
   "execution_count": 3,
   "metadata": {},
   "outputs": [
    {
     "name": "stdout",
     "output_type": "stream",
     "text": [
      "insert string:1234\n",
      "<class 'int'> 1234\n"
     ]
    }
   ],
   "source": [
    "value = input(\"insert string:\")\n",
    "value = int(value)\n",
    "print(type(value),value)"
   ]
  },
  {
   "cell_type": "code",
   "execution_count": 4,
   "metadata": {},
   "outputs": [
    {
     "name": "stdout",
     "output_type": "stream",
     "text": [
      "insert string:1234\n",
      "<class 'int'> 1234\n"
     ]
    }
   ],
   "source": [
    "value = int(input(\"insert string:\"))\n",
    "print(type(value),value)"
   ]
  },
  {
   "cell_type": "code",
   "execution_count": 5,
   "metadata": {},
   "outputs": [
    {
     "name": "stdout",
     "output_type": "stream",
     "text": [
      "1234\n"
     ]
    }
   ],
   "source": [
    "#출력\n",
    "print(value)"
   ]
  },
  {
   "cell_type": "code",
   "execution_count": 6,
   "metadata": {},
   "outputs": [
    {
     "name": "stdout",
     "output_type": "stream",
     "text": [
      "fast-campus\n"
     ]
    }
   ],
   "source": [
    "print(\"fast\",\"campus\",sep=\"-\")"
   ]
  },
  {
   "cell_type": "code",
   "execution_count": 12,
   "metadata": {},
   "outputs": [
    {
     "name": "stdout",
     "output_type": "stream",
     "text": [
      "fast\tcampus data\n",
      "science\n"
     ]
    }
   ],
   "source": [
    "print(\"fast\",end=\"\\t\")\n",
    "print(\"campus\",end=\" \")\n",
    "print(\"data\")\n",
    "print(\"science\")"
   ]
  },
  {
   "cell_type": "code",
   "execution_count": 3,
   "metadata": {},
   "outputs": [
    {
     "data": {
      "text/plain": [
       "(1234, 'fast')"
      ]
     },
     "execution_count": 3,
     "metadata": {},
     "output_type": "execute_result"
    }
   ],
   "source": [
    "#string format\n",
    "a,b = 1234 , \"fast\"\n",
    "a,b"
   ]
  },
  {
   "cell_type": "code",
   "execution_count": 20,
   "metadata": {},
   "outputs": [
    {
     "name": "stdout",
     "output_type": "stream",
     "text": [
      "data1 : 1234 data2 : fast\n"
     ]
    }
   ],
   "source": [
    "#data1 : 1234, data2 : fast\n",
    "result = \"data1 : \"+ str(a) + \" data2 : \" + b\n",
    "print(result)"
   ]
  },
  {
   "cell_type": "code",
   "execution_count": 22,
   "metadata": {},
   "outputs": [
    {
     "name": "stdout",
     "output_type": "stream",
     "text": [
      "data1:1234 data2:fast\n"
     ]
    }
   ],
   "source": [
    "result = \"data1:{} data2:{}\".format(a,b)\n",
    "print(result)"
   ]
  },
  {
   "cell_type": "markdown",
   "metadata": {},
   "source": [
    "### quiz\n",
    " - 두개의 정수 값을 입력 받아서 두 정수 값을 더해서 결과로 출력하는 코드를 입력하세요\n",
    "\n",
    "```\n",
    "insert number1 : _____\n",
    "insert number2 : _____\n",
    "    \n",
    "number1 : _____ , number2 : _____, number1+2 : _____\n",
    "```"
   ]
  },
  {
   "cell_type": "code",
   "execution_count": 2,
   "metadata": {},
   "outputs": [
    {
     "name": "stdout",
     "output_type": "stream",
     "text": [
      "insert number1 : 3\n",
      "insert number2 : 5\n",
      "number1 : 3, number2 : 5, number1+2 : 8\n"
     ]
    }
   ],
   "source": [
    "value1 = int(input(\"insert number1 : \"))\n",
    "value2 = int(input(\"insert number2 : \"))\n",
    "value3 = value1+value2\n",
    "result = \"number1 : {}, number2 : {}, number1+2 : {}\".format(value1,value2,value3)\n",
    "\n",
    "print(result)"
   ]
  }
 ],
 "metadata": {
  "kernelspec": {
   "display_name": "Python 3",
   "language": "python",
   "name": "python3"
  },
  "language_info": {
   "codemirror_mode": {
    "name": "ipython",
    "version": 3
   },
   "file_extension": ".py",
   "mimetype": "text/x-python",
   "name": "python",
   "nbconvert_exporter": "python",
   "pygments_lexer": "ipython3",
   "version": "3.8.3"
  }
 },
 "nbformat": 4,
 "nbformat_minor": 4
}
