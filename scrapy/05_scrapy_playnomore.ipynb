{
 "cells": [
  {
   "cell_type": "markdown",
   "metadata": {},
   "source": [
    "# playnomore crawling\n",
    "- fake user agent 사용\n",
    "    - `$ pip install fake_useragent scrapy-fake-useragent`\n",
    "- argument 설정"
   ]
  },
  {
   "cell_type": "code",
   "execution_count": 1,
   "metadata": {},
   "outputs": [
    {
     "name": "stdout",
     "output_type": "stream",
     "text": [
      "Requirement already satisfied: fake_useragent in /opt/anaconda3/lib/python3.8/site-packages (0.1.11)\n",
      "Collecting scrapy-fake-useragent\n",
      "  Downloading scrapy_fake_useragent-1.4.4-py2.py3-none-any.whl (6.8 kB)\n",
      "Collecting faker\n",
      "  Downloading Faker-5.3.0-py3-none-any.whl (1.1 MB)\n",
      "\u001b[K     |████████████████████████████████| 1.1 MB 1.8 MB/s eta 0:00:01\n",
      "\u001b[?25hRequirement already satisfied: python-dateutil>=2.4 in /opt/anaconda3/lib/python3.8/site-packages (from faker->scrapy-fake-useragent) (2.8.1)\n",
      "Collecting text-unidecode==1.3\n",
      "  Downloading text_unidecode-1.3-py2.py3-none-any.whl (78 kB)\n",
      "\u001b[K     |████████████████████████████████| 78 kB 3.5 MB/s eta 0:00:01\n",
      "\u001b[?25hRequirement already satisfied: six>=1.5 in /opt/anaconda3/lib/python3.8/site-packages (from python-dateutil>=2.4->faker->scrapy-fake-useragent) (1.15.0)\n",
      "Installing collected packages: text-unidecode, faker, scrapy-fake-useragent\n",
      "Successfully installed faker-5.3.0 scrapy-fake-useragent-1.4.4 text-unidecode-1.3\n"
     ]
    }
   ],
   "source": [
    "!pip install fake_useragent scrapy-fake-useragent"
   ]
  },
  {
   "cell_type": "code",
   "execution_count": 2,
   "metadata": {},
   "outputs": [],
   "source": [
    "import scrapy\n",
    "import requests\n",
    "\n",
    "from scrapy.http import TextResponse\n",
    "from fake_useragent import UserAgent"
   ]
  },
  {
   "cell_type": "markdown",
   "metadata": {},
   "source": [
    "## 1. 프로젝트 생성"
   ]
  },
  {
   "cell_type": "code",
   "execution_count": 3,
   "metadata": {},
   "outputs": [
    {
     "name": "stdout",
     "output_type": "stream",
     "text": [
      "New Scrapy project 'playnomore', using template directory '/opt/anaconda3/lib/python3.8/site-packages/scrapy/templates/project', created in:\r\n",
      "    /Users/dokyum/Workspace/DSS - /TIL-data-science/scrapy/playnomore\r\n",
      "\r\n",
      "You can start your first spider with:\r\n",
      "    cd playnomore\r\n",
      "    scrapy genspider example example.com\r\n"
     ]
    }
   ],
   "source": [
    "!scrapy startproject playnomore"
   ]
  },
  {
   "cell_type": "markdown",
   "metadata": {},
   "source": [
    "## 2. xpath 확인\n",
    "- item links data\n",
    "- detail item data"
   ]
  },
  {
   "cell_type": "markdown",
   "metadata": {},
   "source": [
    "## 3. items.py 코드 작성"
   ]
  },
  {
   "cell_type": "markdown",
   "metadata": {},
   "source": [
    "## 4. spider.py 코드 작성\n",
    "- fake user agent 사용"
   ]
  },
  {
   "cell_type": "markdown",
   "metadata": {},
   "source": [
    "## 5. scrapy crawl"
   ]
  },
  {
   "cell_type": "markdown",
   "metadata": {},
   "source": [
    "## 6. 카테고리 설정 > 프로젝트 실행\n",
    "- 카테고리 아규먼트 설정을 위한 spider.py 구조 변경"
   ]
  },
  {
   "cell_type": "code",
   "execution_count": null,
   "metadata": {},
   "outputs": [],
   "source": []
  }
 ],
 "metadata": {
  "kernelspec": {
   "display_name": "Python 3",
   "language": "python",
   "name": "python3"
  },
  "language_info": {
   "codemirror_mode": {
    "name": "ipython",
    "version": 3
   },
   "file_extension": ".py",
   "mimetype": "text/x-python",
   "name": "python",
   "nbconvert_exporter": "python",
   "pygments_lexer": "ipython3",
   "version": "3.8.3"
  }
 },
 "nbformat": 4,
 "nbformat_minor": 4
}
