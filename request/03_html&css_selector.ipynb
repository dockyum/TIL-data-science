{
 "cells": [
  {
   "cell_type": "markdown",
   "metadata": {},
   "source": [
    "# HTML\n",
    "- Hyper Text Markup Language의 약자\n",
    "- 웹 문서를 작성하는 마크업 언어\n",
    "- 웹페이지를 구성하는 언어\n",
    "    - html : 화면의 레이아웃이나 텍스트\n",
    "    - css : 화면의 생상 크기 등의 스타일\n",
    "    - javascript : 화면의 클릭, 드래그 등의 이벤트"
   ]
  },
  {
   "cell_type": "markdown",
   "metadata": {},
   "source": [
    "## html의 구성요소\n",
    "- Document\n",
    "    - 페이지 전체\n",
    "- Element\n",
    "    - 계층적 구조로 이루어져 있으며 모여서 Document를 이룸\n",
    "    - 시작 태그와 끝 태그로 구성\n",
    "- Tag\n",
    "    - 시작 태그와 끝 태그로 엘리먼트를 구성\n",
    "    - 시작 태그에는 여러가지 속성값들이 들어 있음\n",
    "    - 태그와 태그 사이에는 문자열 데이터가 들어 있음\n",
    "    - 태그의 이름에 따라서 태그의 목적이 달라짐\n",
    "- Attribute\n",
    "    - 시작 태그 안에 포함되는 속성값\n",
    "    - id, class : 엘리먼트를 선택하기 위한 목적으로 만들어진 속성값\n",
    "    - 기타 등등"
   ]
  },
  {
   "cell_type": "code",
   "execution_count": 8,
   "metadata": {},
   "outputs": [
    {
     "data": {
      "text/html": [
       "<div class=\"wrapper\" style=\"background-color: red\">\n",
       "    <button id=\"btn-1\" class=\"bt no1\" type=\"button\">html 1</button>\n",
       "    <button id=\"btn-2\" class=\"bt no2\" type=\"button\" style=\"color: blue\">html 2</button>\n",
       "</div>\n"
      ],
      "text/plain": [
       "<IPython.core.display.HTML object>"
      ]
     },
     "metadata": {},
     "output_type": "display_data"
    }
   ],
   "source": [
    "%%html\n",
    "<div class=\"wrapper\" style=\"background-color: red\">\n",
    "    <button id=\"btn-1\" class=\"bt no1\" type=\"button\">html 1</button>\n",
    "    <button id=\"btn-2\" class=\"bt no2\" type=\"button\" style=\"color: blue\">html 2</button>\n",
    "</div>"
   ]
  },
  {
   "cell_type": "markdown",
   "metadata": {},
   "source": [
    "## 속성값\n",
    "- id\n",
    "    - 웹페이지에서 유일한 값\n",
    "- class\n",
    "    - 웹 페이지 내에서 여러가지의 값 사용이 가능\n",
    "    - 하나의 엘리먼트에 여러가지 값 사용이 가능"
   ]
  },
  {
   "cell_type": "markdown",
   "metadata": {},
   "source": [
    "## 태그의 종류\n",
    "크롤링 할 때 사용하는 위주로\\\n",
    "- Head : 제목을 나타낼 때 사용"
   ]
  },
  {
   "cell_type": "code",
   "execution_count": 9,
   "metadata": {},
   "outputs": [
    {
     "data": {
      "text/html": [
       "<h1>python</h1>\n",
       "<h6>html</h6>\n"
      ],
      "text/plain": [
       "<IPython.core.display.HTML object>"
      ]
     },
     "metadata": {},
     "output_type": "display_data"
    }
   ],
   "source": [
    "%%html\n",
    "<h1>python</h1>\n",
    "<h6>html</h6>"
   ]
  },
  {
   "cell_type": "markdown",
   "metadata": {},
   "source": [
    "- p : 한 줄의 문자열을 출력"
   ]
  },
  {
   "cell_type": "code",
   "execution_count": 10,
   "metadata": {},
   "outputs": [
    {
     "data": {
      "text/html": [
       "<p>python is fun</p>\n",
       "<p>tomorrow have no class</p>\n"
      ],
      "text/plain": [
       "<IPython.core.display.HTML object>"
      ]
     },
     "metadata": {},
     "output_type": "display_data"
    }
   ],
   "source": [
    "%%html\n",
    "<p>python is fun</p>\n",
    "<p>tomorrow have no class</p>"
   ]
  },
  {
   "cell_type": "markdown",
   "metadata": {},
   "source": [
    "- span : 한 블럭의 문자열을 출력"
   ]
  },
  {
   "cell_type": "code",
   "execution_count": 12,
   "metadata": {},
   "outputs": [
    {
     "data": {
      "text/html": [
       "<span>python is fun</span>\n",
       "<span>tomorrow have no class</span>\n"
      ],
      "text/plain": [
       "<IPython.core.display.HTML object>"
      ]
     },
     "metadata": {},
     "output_type": "display_data"
    }
   ],
   "source": [
    "%%html\n",
    "<span>python is fun</span>\n",
    "<span>tomorrow have no class</span>"
   ]
  },
  {
   "cell_type": "markdown",
   "metadata": {},
   "source": [
    "- div : 레이아웃을 나타내는 태그, 가장 많이 사용"
   ]
  },
  {
   "cell_type": "code",
   "execution_count": 13,
   "metadata": {},
   "outputs": [
    {
     "data": {
      "text/html": [
       "<div>\n",
       "    <p>html 1</p>\n",
       "    <p>html 2</p>    \n",
       "</div>\n",
       "<div>\n",
       "    <p>html 3</p>\n",
       "</div>\n"
      ],
      "text/plain": [
       "<IPython.core.display.HTML object>"
      ]
     },
     "metadata": {},
     "output_type": "display_data"
    }
   ],
   "source": [
    "%%html\n",
    "<div>\n",
    "    <p>html 1</p>\n",
    "    <p>html 2</p>    \n",
    "</div>\n",
    "<div>\n",
    "    <p>html 3</p>\n",
    "</div>"
   ]
  },
  {
   "cell_type": "markdown",
   "metadata": {},
   "source": [
    "- table : 로우와 컬럼이 있는 테이블 모양을 나타낼 때 사용되는 태그"
   ]
  },
  {
   "cell_type": "code",
   "execution_count": 17,
   "metadata": {},
   "outputs": [
    {
     "data": {
      "text/html": [
       "<table>\n",
       "    <caption>테이블 제목</caption>\n",
       "    <thead>\n",
       "        <tr>\n",
       "            <th>코드</th>\n",
       "            <th>회사명</th>\n",
       "        </tr>\n",
       "    </thead>\n",
       "    <tbody>\n",
       "        <tr>\n",
       "            <td>0001</td>\n",
       "            <td>삼성전자</td>\n",
       "        </tr>\n",
       "        <tr>\n",
       "            <th>0002</th>\n",
       "            <td>skt</td>\n",
       "        </tr>\n",
       "    </tbody>\n",
       "</table>\n"
      ],
      "text/plain": [
       "<IPython.core.display.HTML object>"
      ]
     },
     "metadata": {},
     "output_type": "display_data"
    }
   ],
   "source": [
    "%%html\n",
    "<table>\n",
    "    <caption>테이블 제목</caption>\n",
    "    <thead>\n",
    "        <tr>\n",
    "            <th>코드</th>\n",
    "            <th>회사명</th>\n",
    "        </tr>\n",
    "    </thead>\n",
    "    <tbody>\n",
    "        <tr>\n",
    "            <td>0001</td>\n",
    "            <td>삼성전자</td>\n",
    "        </tr>\n",
    "        <tr>\n",
    "            <th>0002</th>\n",
    "            <td>skt</td>\n",
    "        </tr>\n",
    "    </tbody>\n",
    "</table>"
   ]
  },
  {
   "cell_type": "markdown",
   "metadata": {},
   "source": [
    "- ul, li : 리스트를 나타내는 태그"
   ]
  },
  {
   "cell_type": "code",
   "execution_count": 18,
   "metadata": {},
   "outputs": [
    {
     "data": {
      "text/html": [
       "<ul>\n",
       "    <li>data1</li>\n",
       "    <li>data2</li>\n",
       "    <li>data3</li>\n",
       "    <li>data4</li>\n",
       "</ul>\n"
      ],
      "text/plain": [
       "<IPython.core.display.HTML object>"
      ]
     },
     "metadata": {},
     "output_type": "display_data"
    }
   ],
   "source": [
    "%%html\n",
    "<ul>\n",
    "    <li>data1</li>\n",
    "    <li>data2</li>\n",
    "    <li>data3</li>\n",
    "    <li>data4</li>\n",
    "</ul>"
   ]
  },
  {
   "cell_type": "markdown",
   "metadata": {},
   "source": [
    "- a : 링크를 출력하는 태그\n",
    "    - href 속성값에 이동할 url 데이터를 넣습니다."
   ]
  },
  {
   "cell_type": "code",
   "execution_count": 19,
   "metadata": {},
   "outputs": [
    {
     "data": {
      "text/html": [
       "<a href=\"http://fastcampus.co.kr\" target=\"_blank\">FC</a>\n"
      ],
      "text/plain": [
       "<IPython.core.display.HTML object>"
      ]
     },
     "metadata": {},
     "output_type": "display_data"
    }
   ],
   "source": [
    "%%html\n",
    "<a href=\"http://fastcampus.co.kr\" target=\"_blank\">FC</a>"
   ]
  },
  {
   "cell_type": "code",
   "execution_count": 22,
   "metadata": {},
   "outputs": [
    {
     "data": {
      "text/html": [
       "<img style=\"width: 200px\" src=\"https://storage.googleapis.com/static.fastcampus.co.kr/prod/uploads/202011/143922-15/price-thumbnail-2x.jpg\">\n"
      ],
      "text/plain": [
       "<IPython.core.display.HTML object>"
      ]
     },
     "metadata": {},
     "output_type": "display_data"
    }
   ],
   "source": [
    "%%html\n",
    "<img style=\"width: 200px\" src=\"https://storage.googleapis.com/static.fastcampus.co.kr/prod/uploads/202011/143922-15/price-thumbnail-2x.jpg\">"
   ]
  },
  {
   "cell_type": "markdown",
   "metadata": {},
   "source": [
    "- iframe : 외부 url 링크의 페이지를 보여주기 위한 태그"
   ]
  },
  {
   "cell_type": "code",
   "execution_count": 25,
   "metadata": {},
   "outputs": [
    {
     "data": {
      "text/html": [
       "<iframe src=\"https://fastcampus.co.kr\" width=\"100%\" height=\"400px\"></iframe>\n"
      ],
      "text/plain": [
       "<IPython.core.display.HTML object>"
      ]
     },
     "metadata": {},
     "output_type": "display_data"
    }
   ],
   "source": [
    "%%html\n",
    "<iframe src=\"https://fastcampus.co.kr\" width=\"100%\" height=\"400px\"></iframe>"
   ]
  },
  {
   "cell_type": "markdown",
   "metadata": {},
   "source": [
    "- input\n",
    "    - text\n",
    "    - password\n",
    "    - radio\n",
    "    - checkbox"
   ]
  },
  {
   "cell_type": "code",
   "execution_count": 29,
   "metadata": {
    "scrolled": true
   },
   "outputs": [
    {
     "data": {
      "text/html": [
       "<input type=\"text\"></input>\n",
       "<input type=\"password\" placeholder=\"password\"></input>\n",
       "<input type=\"radio\" name=\"data\">radio 1</input>\n",
       "<input type=\"radio\" name=\"data\" >radio 2</input>\n",
       "<input type=\"checkbox\">checkbox 1</input>\n"
      ],
      "text/plain": [
       "<IPython.core.display.HTML object>"
      ]
     },
     "metadata": {},
     "output_type": "display_data"
    }
   ],
   "source": [
    "%%html\n",
    "<input type=\"text\"></input>\n",
    "<input type=\"password\" placeholder=\"password\"></input>\n",
    "<input type=\"radio\" name=\"data\">radio 1</input>\n",
    "<input type=\"radio\" name=\"data\" >radio 2</input>\n",
    "<input type=\"checkbox\">checkbox 1</input>"
   ]
  },
  {
   "cell_type": "markdown",
   "metadata": {},
   "source": [
    "- select, option\n",
    "    - 옵션을 선택할 수 있는 드랍다운 형태의 태그"
   ]
  },
  {
   "cell_type": "code",
   "execution_count": 30,
   "metadata": {
    "scrolled": true
   },
   "outputs": [
    {
     "data": {
      "text/html": [
       "<select>\n",
       "    <option>data 1</option>\n",
       "    <option>data 2</option>    \n",
       "</select>\n"
      ],
      "text/plain": [
       "<IPython.core.display.HTML object>"
      ]
     },
     "metadata": {},
     "output_type": "display_data"
    }
   ],
   "source": [
    "%%html\n",
    "<select>\n",
    "    <option>data 1</option>\n",
    "    <option>data 2</option>    \n",
    "</select>"
   ]
  },
  {
   "cell_type": "markdown",
   "metadata": {},
   "source": [
    "# CSS_selector\n",
    "- HTML 엘리먼트에 CSS 스타일을 적용할 때 엘리먼트를 선택하기 위한 방법\n",
    "- 선택하는 방법\n",
    "    - tag 이름\n",
    "    - id 값\n",
    "    - class 값\n",
    "    - attribute 값"
   ]
  },
  {
   "cell_type": "markdown",
   "metadata": {},
   "source": [
    "## 태그 이름으로 선택\n",
    "- css-selector : `div`"
   ]
  },
  {
   "cell_type": "markdown",
   "metadata": {},
   "source": [
    "## id 값으로 선택\n",
    "- `#text`"
   ]
  },
  {
   "cell_type": "markdown",
   "metadata": {},
   "source": [
    "### 클래스 값으로 선택\n",
    "- `.no2`"
   ]
  },
  {
   "cell_type": "markdown",
   "metadata": {},
   "source": [
    "### 속성값으로 선택\n",
    "- `[val=\"d4\"]`, `[id=\"da4\"]`"
   ]
  },
  {
   "cell_type": "markdown",
   "metadata": {},
   "source": [
    "### 혼합해서 사용\n",
    "- `span.no5`"
   ]
  },
  {
   "cell_type": "code",
   "execution_count": 36,
   "metadata": {},
   "outputs": [
    {
     "data": {
      "text/html": [
       "<div id=\"wrap\" class=\"dss\">data 1</div>\n",
       "<p id=\"txt\" class=\"dss-txt no1\">data 2</p>\n",
       "<span class=\"dss no2\" value=\"d3\">data 3</span>\n",
       "<span id=\"da4\" class=\"dss no2\"  value=\"d4\">data 4</span>\n",
       "<span class=\"no5\" value=\"d3\">data 5</span>\n"
      ],
      "text/plain": [
       "<IPython.core.display.HTML object>"
      ]
     },
     "metadata": {},
     "output_type": "display_data"
    }
   ],
   "source": [
    "%%html\n",
    "<div id=\"wrap\" class=\"dss\">data 1</div>\n",
    "<p id=\"txt\" class=\"dss-txt no1\">data 2</p>\n",
    "<span class=\"dss no2\" value=\"d3\">data 3</span>\n",
    "<span id=\"da4\" class=\"dss no2\"  value=\"d4\">data 4</span>\n",
    "<span class=\"no5\" value=\"d3\">data 5</span>"
   ]
  },
  {
   "cell_type": "markdown",
   "metadata": {},
   "source": [
    "## not selector\n",
    "- 선택된 엘리먼트에서 특정 조건의 엘리먼트를 제거해서 선택\n",
    "- data2 엘리먼트만 제외한 ds 클래스를 선택\n",
    "- `.ds:not(.dss2)`"
   ]
  },
  {
   "cell_type": "markdown",
   "metadata": {},
   "source": [
    "### nth-child\n",
    "- n 번째의 엘리먼트를 선택\n",
    "- `.ds:nth-child(3)`\n",
    "- `<span>data 0 </span>` 가 추가되면 data2를 선택"
   ]
  },
  {
   "cell_type": "code",
   "execution_count": 39,
   "metadata": {},
   "outputs": [
    {
     "data": {
      "text/html": [
       "<div>\n",
       "    <span>data 0</span>\n",
       "    <p class=\"ds dss1\">data 1</p>\n",
       "    <p class=\"ds dss2\">data 2</p>\n",
       "    <p class=\"ds dss3\">data 3</p>\n",
       "    <p class=\"ds dss4\">data 4</p>\n",
       "</div>\n"
      ],
      "text/plain": [
       "<IPython.core.display.HTML object>"
      ]
     },
     "metadata": {},
     "output_type": "display_data"
    }
   ],
   "source": [
    "%%html\n",
    "<div>\n",
    "    <span>data 0</span>\n",
    "    <p class=\"ds dss1\">data 1</p>\n",
    "    <p class=\"ds dss2\">data 2</p>\n",
    "    <p class=\"ds dss3\">data 3</p>\n",
    "    <p class=\"ds dss4\">data 4</p>\n",
    "</div>"
   ]
  },
  {
   "cell_type": "markdown",
   "metadata": {},
   "source": [
    "### 계층구조로 엘리먼트 선택\n",
    "- 바로 아래 단계의 엘리먼트 선택\n",
    "    - `.wrap-1 > h5` : inner 1 선택\n",
    "- 모든 하위 엘리먼트를 선택\n",
    "    - `.wrap-1 h5`: inner 1, inner 2"
   ]
  },
  {
   "cell_type": "code",
   "execution_count": 40,
   "metadata": {},
   "outputs": [
    {
     "data": {
      "text/html": [
       "<div  class=\"wrap-1\">\n",
       "    <h5>inner 1</h5>\n",
       "    <div class=\"wrap-2\">\n",
       "        <h5>inner 2</h5>\n",
       "    </div>\n",
       "</div>\n"
      ],
      "text/plain": [
       "<IPython.core.display.HTML object>"
      ]
     },
     "metadata": {},
     "output_type": "display_data"
    }
   ],
   "source": [
    "%%html\n",
    "<div  class=\"wrap-1\">\n",
    "    <h5>inner 1</h5>\n",
    "    <div class=\"wrap-2\">\n",
    "        <h5>inner 2</h5>\n",
    "    </div>\n",
    "</div>"
   ]
  },
  {
   "cell_type": "code",
   "execution_count": null,
   "metadata": {},
   "outputs": [],
   "source": []
  }
 ],
 "metadata": {
  "kernelspec": {
   "display_name": "Python 3",
   "language": "python",
   "name": "python3"
  },
  "language_info": {
   "codemirror_mode": {
    "name": "ipython",
    "version": 3
   },
   "file_extension": ".py",
   "mimetype": "text/x-python",
   "name": "python",
   "nbconvert_exporter": "python",
   "pygments_lexer": "ipython3",
   "version": "3.8.3"
  }
 },
 "nbformat": 4,
 "nbformat_minor": 4
}
