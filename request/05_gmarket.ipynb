{
 "cells": [
  {
   "cell_type": "markdown",
   "metadata": {},
   "source": [
    "# Gmarket 베스트 상품 200개 크롤링\n",
    "- 상품명, 원가, 판매가\n",
    "- 썸네일 이미지\n",
    "- 확인\n",
    "    - https://www.gmarket.co.kr/robots.txt"
   ]
  },
  {
   "cell_type": "code",
   "execution_count": 2,
   "metadata": {},
   "outputs": [],
   "source": [
    "import requests\n",
    "from bs4 import BeautifulSoup"
   ]
  },
  {
   "cell_type": "code",
   "execution_count": 3,
   "metadata": {},
   "outputs": [
    {
     "data": {
      "text/plain": [
       "<Response [200]>"
      ]
     },
     "execution_count": 3,
     "metadata": {},
     "output_type": "execute_result"
    }
   ],
   "source": [
    "response = requests.get(\"http://corners.gmarket.co.kr/Bestsellers\")\n",
    "response"
   ]
  },
  {
   "cell_type": "code",
   "execution_count": 4,
   "metadata": {},
   "outputs": [],
   "source": [
    "dom = BeautifulSoup(response.content, \"html.parser\")"
   ]
  },
  {
   "cell_type": "code",
   "execution_count": 6,
   "metadata": {},
   "outputs": [
    {
     "data": {
      "text/plain": [
       "200"
      ]
     },
     "execution_count": 6,
     "metadata": {},
     "output_type": "execute_result"
    }
   ],
   "source": [
    "selector = \"#gBestWrap > div > div:nth-child(5) > div:nth-child(3) > ul > li\"\n",
    "elements = dom.select(selector)\n",
    "len(elements)"
   ]
  },
  {
   "cell_type": "code",
   "execution_count": 8,
   "metadata": {},
   "outputs": [
    {
     "data": {
      "text/plain": [
       "<li>\n",
       "<p class=\"no2\" id=\"no2\">2</p>\n",
       "<div class=\"thumb\">\n",
       "<a href=\"http://item.gmarket.co.kr/Item?goodscode=1655242371&amp;ver=637443511951544198\" onclick=\"pdsClickLog('200000680', 'Item', {'ASN': 2, 'goodsCode': '1655242371'});\"><img alt=\"[구글플레이](카드가능) 기프트코드 10만원/구글 10000크레딧 증정\" class=\"lazy\" data-original=\"http://gdimg.gmarket.co.kr/1655242371/still/300\" height=\"210\" src=\"http://image.gmarket.co.kr/challenge/neo_image/no_image.gif\" width=\"210\"/></a>\n",
       "</div>\n",
       "<!--div class=\"goods-view\">\n",
       "\t\t\t\t\t\t\t\t\t<a href=\"http://minishop.gmarket.co.kr/happymoney2012\"><span class=\"view\">판매자 다른상품 보기</span>(주)한국선불카드</a>\n",
       "\t\t\t\t\t\t\t\t</div-->\n",
       "<a class=\"itemname\" href=\"http://item.gmarket.co.kr/Item?goodscode=1655242371&amp;ver=637443511951544198\" onclick=\"pdsClickLog('200000680', 'Item', {'ASN': 2, 'goodsCode': '1655242371'});\">[구글플레이](카드가능) 기프트코드 10만원/구글 10000크레딧 증정</a>\n",
       "<div class=\"item_price\">\n",
       "<div class=\"o-price\"><span><span>100,000원</span></span></div>\n",
       "<div class=\"s-price\">\n",
       "<strong><span><span>97,000원</span></span></strong>\n",
       "<span><span class=\"sale\"></span><em>3%</em></span>\n",
       "</div>\n",
       "<div class=\"icon\">\n",
       "</div>\n",
       "</div>\n",
       "</li>"
      ]
     },
     "execution_count": 8,
     "metadata": {},
     "output_type": "execute_result"
    }
   ],
   "source": [
    "elements[1]"
   ]
  },
  {
   "cell_type": "code",
   "execution_count": null,
   "metadata": {},
   "outputs": [],
   "source": [
    "# 코드, 제목, 링크, 원가, 판매가, 할인율"
   ]
  },
  {
   "cell_type": "code",
   "execution_count": null,
   "metadata": {},
   "outputs": [],
   "source": []
  }
 ],
 "metadata": {
  "kernelspec": {
   "display_name": "Python 3",
   "language": "python",
   "name": "python3"
  },
  "language_info": {
   "codemirror_mode": {
    "name": "ipython",
    "version": 3
   },
   "file_extension": ".py",
   "mimetype": "text/x-python",
   "name": "python",
   "nbconvert_exporter": "python",
   "pygments_lexer": "ipython3",
   "version": "3.8.3"
  }
 },
 "nbformat": 4,
 "nbformat_minor": 4
}
