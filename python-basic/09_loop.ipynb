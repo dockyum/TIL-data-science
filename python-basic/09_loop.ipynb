{
 "cells": [
  {
   "cell_type": "markdown",
   "metadata": {},
   "source": [
    "# 반복문\n",
    "- while, for\n",
    "- break, continue\n",
    "- list comprehension"
   ]
  },
  {
   "cell_type": "markdown",
   "metadata": {},
   "source": [
    "## while\n",
    "- condition이 false가 될 때까지 반복적으로 실행\n",
    "```\n",
    "while <condition>:\n",
    "    <code>\n",
    "```\n",
    "- 무한 루프에 빠질 위험이 있기에 주의해서 사용\n"
   ]
  },
  {
   "cell_type": "code",
   "execution_count": 4,
   "metadata": {},
   "outputs": [
    {
     "name": "stdout",
     "output_type": "stream",
     "text": [
      "3\n",
      "2\n",
      "1\n",
      "end : 0\n"
     ]
    }
   ],
   "source": [
    "data = 3\n",
    "while data:\n",
    "    print(data)\n",
    "    data -= 1\n",
    "print(\"end :\",data)"
   ]
  },
  {
   "cell_type": "code",
   "execution_count": 5,
   "metadata": {},
   "outputs": [
    {
     "name": "stdout",
     "output_type": "stream",
     "text": [
      "2\n",
      "1\n",
      "0\n",
      "end :  0\n"
     ]
    }
   ],
   "source": [
    "data = 3\n",
    "while data:\n",
    "    data -= 1\n",
    "    print(data)\n",
    "print(\"end : \",data)"
   ]
  },
  {
   "cell_type": "code",
   "execution_count": 17,
   "metadata": {},
   "outputs": [
    {
     "name": "stdout",
     "output_type": "stream",
     "text": [
      "total : 270 , avg : 90.0\n"
     ]
    }
   ],
   "source": [
    "# 학생이 국어 80, 영어 90, 수학 100. while 문을 이용해서 총점과 평균\n",
    "grades = {\"kor\" : 80, \"eng\" : 90 , \"math\" : 100}\n",
    "points = list(grades.values())\n",
    "#pop()을 쓸 경우 원본 데이터가 날아가기 때문에 깊은 복사를 써서 사용\n",
    "points_datas = points.copy()\n",
    "\n",
    "total, avg = 0, 0\n",
    "while points_datas :\n",
    "    total += points_datas.pop()\n",
    "avg = total / len(grades)\n",
    "print(\"total : {} , avg : {}\".format(total,avg))"
   ]
  },
  {
   "cell_type": "code",
   "execution_count": 18,
   "metadata": {},
   "outputs": [
    {
     "ename": "KeyboardInterrupt",
     "evalue": "",
     "output_type": "error",
     "traceback": [
      "\u001b[0;31m---------------------------------------------------------------------------\u001b[0m",
      "\u001b[0;31mKeyboardInterrupt\u001b[0m                         Traceback (most recent call last)",
      "\u001b[0;32m<ipython-input-18-e076fd6c0d61>\u001b[0m in \u001b[0;36m<module>\u001b[0;34m\u001b[0m\n\u001b[1;32m      1\u001b[0m \u001b[0;31m# 무한루프 => 나오려면 I + I , (Interrupt)\u001b[0m\u001b[0;34m\u001b[0m\u001b[0;34m\u001b[0m\u001b[0;34m\u001b[0m\u001b[0m\n\u001b[1;32m      2\u001b[0m \u001b[0;32mwhile\u001b[0m \u001b[0;32mTrue\u001b[0m\u001b[0;34m:\u001b[0m\u001b[0;34m\u001b[0m\u001b[0;34m\u001b[0m\u001b[0m\n\u001b[0;32m----> 3\u001b[0;31m     \u001b[0ma\u001b[0m \u001b[0;34m=\u001b[0m \u001b[0;36m1\u001b[0m\u001b[0;34m\u001b[0m\u001b[0;34m\u001b[0m\u001b[0m\n\u001b[0m",
      "\u001b[0;31mKeyboardInterrupt\u001b[0m: "
     ]
    }
   ],
   "source": [
    "# 무한루프 => 나오려면 I + I , (Interrupt)\n",
    "while True:\n",
    "    a = 1"
   ]
  },
  {
   "cell_type": "markdown",
   "metadata": {},
   "source": [
    "## quiz\n",
    "- ls의 값을 다 더하는 while 문 코드?\n",
    "```\n",
    "ls = [1,2,3,4,5,6,7,8,9,10]\n",
    "```"
   ]
  },
  {
   "cell_type": "code",
   "execution_count": 10,
   "metadata": {},
   "outputs": [
    {
     "data": {
      "text/plain": [
       "55"
      ]
     },
     "execution_count": 10,
     "metadata": {},
     "output_type": "execute_result"
    }
   ],
   "source": [
    "ls = [1,2,3,4,5,6,7,8,9,10]\n",
    "total = 0\n",
    "i = 0\n",
    "while len(ls) > i :\n",
    "    total +=  ls[i]\n",
    "    i += 1\n",
    "total"
   ]
  },
  {
   "cell_type": "code",
   "execution_count": 16,
   "metadata": {},
   "outputs": [
    {
     "data": {
      "text/plain": [
       "55"
      ]
     },
     "execution_count": 16,
     "metadata": {},
     "output_type": "execute_result"
    }
   ],
   "source": [
    "ls = [1,2,3,4,5,6,7,8,9,10]\n",
    "le = len(ls)\n",
    "total = 0\n",
    "while le:\n",
    "    total += ls[le-1]\n",
    "    le -= 1\n",
    "total"
   ]
  },
  {
   "cell_type": "code",
   "execution_count": 21,
   "metadata": {},
   "outputs": [
    {
     "data": {
      "text/plain": [
       "55"
      ]
     },
     "execution_count": 21,
     "metadata": {},
     "output_type": "execute_result"
    }
   ],
   "source": [
    "ls = [1,2,3,4,5,6,7,8,9,10]\n",
    "result = 0\n",
    "idx = len(ls)\n",
    "while idx:\n",
    "    idx -= 1\n",
    "    result += ls[idx]\n",
    "result"
   ]
  },
  {
   "cell_type": "markdown",
   "metadata": {},
   "source": [
    "## 2.break\n",
    "- 반복문의 중간에 break를 만나게 되면 중단\n"
   ]
  },
  {
   "cell_type": "code",
   "execution_count": 19,
   "metadata": {},
   "outputs": [
    {
     "name": "stdout",
     "output_type": "stream",
     "text": [
      "1\n",
      "2\n",
      "3\n",
      "4\n",
      "5\n",
      "6\n",
      "7\n",
      "8\n",
      "9\n",
      "10\n"
     ]
    },
    {
     "data": {
      "text/plain": [
       "10"
      ]
     },
     "execution_count": 19,
     "metadata": {},
     "output_type": "execute_result"
    }
   ],
   "source": [
    "data = 1\n",
    "while data:\n",
    "    print(data)\n",
    "    if data >= 10:\n",
    "        break\n",
    "    data += 1\n",
    "data    "
   ]
  },
  {
   "cell_type": "markdown",
   "metadata": {},
   "source": [
    "## 3.continue\n",
    "- 반복문이 실행되는 중간에 continue를 만나게 되면 <condition>으로 돌아감"
   ]
  },
  {
   "cell_type": "code",
   "execution_count": 25,
   "metadata": {},
   "outputs": [
    {
     "name": "stdout",
     "output_type": "stream",
     "text": [
      "1\n",
      "3\n"
     ]
    }
   ],
   "source": [
    "a = [1,2,3,4,\"q\"]\n",
    "idx = 0\n",
    "while True:\n",
    "    data = a[idx]\n",
    "    idx += 1\n",
    "    \n",
    "    if data ==\"q\":\n",
    "        break\n",
    "    elif data % 2 == 0:\n",
    "        continue\n",
    "        \n",
    "    print(data)"
   ]
  },
  {
   "cell_type": "markdown",
   "metadata": {},
   "source": [
    "## quiz :\n",
    "- q를 입력할 때까지 계속 값을 받아서 q를 입력할 때까지 입력 받은 모든 입력 데이터를 출력\n",
    "- 데이터를 입력받을 때 몇번째 입력인지도 출력"
   ]
  },
  {
   "cell_type": "code",
   "execution_count": 36,
   "metadata": {},
   "outputs": [
    {
     "name": "stdout",
     "output_type": "stream",
     "text": [
      "input : d\n",
      "1번째 입력입니다. d\n",
      "input : q\n",
      "['d']\n"
     ]
    }
   ],
   "source": [
    "value = []\n",
    "idx = 0\n",
    "while True:\n",
    "    txt = input(\"input : \")\n",
    "    if txt == \"q\":\n",
    "        break\n",
    "    value.append(txt)\n",
    "    idx += 1\n",
    "    print(\"{}번째 입력입니다.\".format(idx), txt)    \n",
    "print(value)"
   ]
  },
  {
   "cell_type": "code",
   "execution_count": 38,
   "metadata": {},
   "outputs": [
    {
     "name": "stdout",
     "output_type": "stream",
     "text": [
      "1번째 입력 (종료 : q) :data\n",
      "2번째 입력 (종료 : q) :science\n",
      "3번째 입력 (종료 : q) :python\n",
      "4번째 입력 (종료 : q) :q\n",
      "['data', 'science', 'python']\n"
     ]
    }
   ],
   "source": [
    "count, result = 0,[]\n",
    "\n",
    "while True:\n",
    "    count += 1\n",
    "    data = input(\"{}번째 입력 (종료 : q) :\".format(count))\n",
    "    \n",
    "    if data == \"q\":\n",
    "        break\n",
    "    \n",
    "    result.append(data)\n",
    "print(result)"
   ]
  },
  {
   "cell_type": "markdown",
   "metadata": {},
   "source": [
    "## 4.for\n",
    "- 순서가 있는 데이터의 집합(iterable : 리스트, 튜플)에서 데이터를 하나씩 꺼내서 변수에 대입 후, `code`를 실행\n",
    "\n",
    "    \n",
    "```\n",
    "for <변수> in <집합 : Iterable> :\n",
    "    <code>\n",
    "```\n",
    "\n",
    "\n",
    "- range\n",
    "- enumerate\n",
    "- zip"
   ]
  },
  {
   "cell_type": "code",
   "execution_count": 39,
   "metadata": {},
   "outputs": [
    {
     "name": "stdout",
     "output_type": "stream",
     "text": [
      "0 1 2 3 4 "
     ]
    }
   ],
   "source": [
    "ls = [0,1,2,3,4]\n",
    "for value in ls:\n",
    "    print(value,end=\" \")"
   ]
  },
  {
   "cell_type": "markdown",
   "metadata": {},
   "source": [
    "## dictionary.items() \n",
    "=> 딕셔너리를 for문을 돌리고 싶을 때 리스트와 튜플의 합성 형태로 만들어서 사용\n"
   ]
  },
  {
   "cell_type": "code",
   "execution_count": 24,
   "metadata": {},
   "outputs": [
    {
     "name": "stdout",
     "output_type": "stream",
     "text": [
      "1\n",
      "2\n",
      "1 A\n",
      "2 B\n"
     ]
    }
   ],
   "source": [
    "# dictionary를 사용한 for 반복문\n",
    "dic = {1:\"A\",2:\"B\"}\n",
    "for key in dic:\n",
    "    print(key)\n",
    "\n",
    "dic.items()\n",
    "\n",
    "for key, value in dic.items():\n",
    "    print(key,value)"
   ]
  },
  {
   "cell_type": "code",
   "execution_count": 21,
   "metadata": {},
   "outputs": [
    {
     "name": "stdout",
     "output_type": "stream",
     "text": [
      "270\n"
     ]
    }
   ],
   "source": [
    "# 학생이 국어 80, 영어 90, 수학 100. while 문을 이용해서 총점과 평균\n",
    "grades = {\"kor\" : 80, \"eng\" : 90 , \"math\" : 100}\n",
    "list(grades.items())\n",
    "total = 0\n",
    "for i in grades.items():\n",
    "    total += i[1]\n",
    "print(total)"
   ]
  },
  {
   "cell_type": "markdown",
   "metadata": {},
   "source": [
    "## zip 활용\n",
    "- 두 list를 동시에 for문을 돌리고 싶을 때\n",
    "```python\n",
    "    zip(list1, list2)\n",
    "```\n",
    " => `<class zip>` 으로 튜플과 리스트의 결합 형태로 나옴"
   ]
  },
  {
   "cell_type": "code",
   "execution_count": 29,
   "metadata": {},
   "outputs": [
    {
     "name": "stdout",
     "output_type": "stream",
     "text": [
      "kor 80\n",
      "eng 90\n",
      "math 100\n",
      "[('kor', 80), ('eng', 90), ('math', 100)]\n"
     ]
    }
   ],
   "source": [
    "subjects_ls = ['kor', 'eng' , 'math', 'jp']\n",
    "points_ls = [80, 90 ,100]\n",
    "for sub, pnt in zip(subjects_ls, points_ls):\n",
    "    print(sub, pnt)\n",
    "\n",
    "print(list(zip(subjects_ls, points_ls)))"
   ]
  },
  {
   "cell_type": "markdown",
   "metadata": {},
   "source": [
    "### quiz\n",
    "- for문을 이용하여 아래 리스트에 있는 숫자를 전부 더하시오\n",
    "\n",
    "```\n",
    "numbers = [1,3,5,8,10,14]\n",
    "result=>41\n",
    "```"
   ]
  },
  {
   "cell_type": "code",
   "execution_count": 46,
   "metadata": {},
   "outputs": [
    {
     "data": {
      "text/plain": [
       "41"
      ]
     },
     "execution_count": 46,
     "metadata": {},
     "output_type": "execute_result"
    }
   ],
   "source": [
    "total = 0\n",
    "numbers = [1,3,5,8,10,14]\n",
    "for num in numbers:\n",
    "    total += num\n",
    "total"
   ]
  },
  {
   "cell_type": "markdown",
   "metadata": {},
   "source": [
    "## dictionary.items() \n",
    "=> 딕셔너리를 for문을 돌리고 싶을 때 리스트와 튜플의 합성 형태로 만들어서 사용\n"
   ]
  },
  {
   "cell_type": "markdown",
   "metadata": {},
   "source": [
    "### 4.1 range\n",
    "- list를 간편하게 생성하는 함수\n",
    "- 함수 : 코드의 집합을 실행시켜주는 방법\n",
    "```\n",
    "range(end)\n",
    "range(start,end)\n",
    "range(start,end,stride)\n",
    "```"
   ]
  },
  {
   "cell_type": "code",
   "execution_count": 48,
   "metadata": {},
   "outputs": [
    {
     "data": {
      "text/plain": [
       "[1, 2, 3]"
      ]
     },
     "execution_count": 48,
     "metadata": {},
     "output_type": "execute_result"
    }
   ],
   "source": [
    "ls = [1,2,3]\n",
    "ls"
   ]
  },
  {
   "cell_type": "code",
   "execution_count": 49,
   "metadata": {},
   "outputs": [
    {
     "name": "stdout",
     "output_type": "stream",
     "text": [
      "data science data science data science "
     ]
    }
   ],
   "source": [
    "for _ in ls:\n",
    "    print(\"data science\",end=\" \")"
   ]
  },
  {
   "cell_type": "code",
   "execution_count": 50,
   "metadata": {},
   "outputs": [
    {
     "data": {
      "text/plain": [
       "[0, 1, 2]"
      ]
     },
     "execution_count": 50,
     "metadata": {},
     "output_type": "execute_result"
    }
   ],
   "source": [
    "list(range(3))"
   ]
  },
  {
   "cell_type": "code",
   "execution_count": 51,
   "metadata": {},
   "outputs": [
    {
     "name": "stdout",
     "output_type": "stream",
     "text": [
      "data science\n",
      "data science\n",
      "data science\n"
     ]
    }
   ],
   "source": [
    "for _ in range(3):\n",
    "    print(\"data science\")\n"
   ]
  },
  {
   "cell_type": "code",
   "execution_count": 54,
   "metadata": {},
   "outputs": [
    {
     "data": {
      "text/plain": [
       "[1, 2, 3]"
      ]
     },
     "execution_count": 54,
     "metadata": {},
     "output_type": "execute_result"
    }
   ],
   "source": [
    "list(range(1,4))"
   ]
  },
  {
   "cell_type": "code",
   "execution_count": 55,
   "metadata": {},
   "outputs": [
    {
     "data": {
      "text/plain": [
       "[2]"
      ]
     },
     "execution_count": 55,
     "metadata": {},
     "output_type": "execute_result"
    }
   ],
   "source": [
    "list(range(2,4,5))"
   ]
  },
  {
   "cell_type": "code",
   "execution_count": 57,
   "metadata": {},
   "outputs": [
    {
     "data": {
      "text/plain": [
       "[10, 9, 8, 7, 6, 5, 4, 3, 2, 1]"
      ]
     },
     "execution_count": 57,
     "metadata": {},
     "output_type": "execute_result"
    }
   ],
   "source": [
    "list(range(10,0,-1))"
   ]
  },
  {
   "cell_type": "markdown",
   "metadata": {},
   "source": [
    "### quiz\n",
    "- 5를 입력했을 때 아래와 같이 별이 출력되는 코드를 출력하시오\n",
    "\n",
    "```\n",
    " *\n",
    " **\n",
    " ***\n",
    " ****\n",
    " *****\n",
    "```"
   ]
  },
  {
   "cell_type": "code",
   "execution_count": 61,
   "metadata": {},
   "outputs": [
    {
     "name": "stdout",
     "output_type": "stream",
     "text": [
      "*\n",
      "**\n",
      "***\n",
      "****\n",
      "*****\n"
     ]
    }
   ],
   "source": [
    "idx = 1\n",
    "for _ in range(5):\n",
    "    print(\"*\"*idx)\n",
    "    idx += 1"
   ]
  },
  {
   "cell_type": "code",
   "execution_count": 65,
   "metadata": {},
   "outputs": [
    {
     "name": "stdout",
     "output_type": "stream",
     "text": [
      "*\n",
      "**\n",
      "***\n",
      "****\n",
      "*****\n"
     ]
    }
   ],
   "source": [
    "number = 5\n",
    "for num in range(1,number+1):\n",
    "    print(\"*\"*num)"
   ]
  },
  {
   "cell_type": "markdown",
   "metadata": {},
   "source": [
    "### quiz\n",
    "- 5를 입력했을 때 아래와 같이 별이 출력되는 코드를 출력하시오\n",
    "\n",
    "```\n",
    "     *\n",
    "    **\n",
    "   ***\n",
    "  ****\n",
    " *****\n",
    "```"
   ]
  },
  {
   "cell_type": "code",
   "execution_count": 67,
   "metadata": {},
   "outputs": [
    {
     "name": "stdout",
     "output_type": "stream",
     "text": [
      "     *\n",
      "    **\n",
      "   ***\n",
      "  ****\n",
      " *****\n"
     ]
    }
   ],
   "source": [
    "number = 5\n",
    "for num in range(1,number+1):\n",
    "    print(\" \"*(number-num),\"*\"*num)"
   ]
  },
  {
   "cell_type": "code",
   "execution_count": 70,
   "metadata": {},
   "outputs": [
    {
     "name": "stdout",
     "output_type": "stream",
     "text": [
      "    *\n",
      "   **\n",
      "  ***\n",
      " ****\n",
      "*****\n"
     ]
    }
   ],
   "source": [
    "number = 5\n",
    "for num in range(1,number+1):\n",
    "    space = number - num\n",
    "    print(\" \" * space + \"*\" * num)"
   ]
  },
  {
   "cell_type": "markdown",
   "metadata": {},
   "source": [
    "### quiz\n",
    "- 홀수만 입력 가능\n",
    "- 5를 입력하면 아래와 같이 별이 출력\n",
    "\n",
    "```\n",
    "    *\n",
    "   ***\n",
    "  *****\n",
    "```"
   ]
  },
  {
   "cell_type": "code",
   "execution_count": 86,
   "metadata": {},
   "outputs": [
    {
     "name": "stdout",
     "output_type": "stream",
     "text": [
      "홀수만 입력 : 4\n",
      " *\n",
      "***\n"
     ]
    }
   ],
   "source": [
    "number = int(input(\"홀수만 입력 : \"))\n",
    "for num in range(1,number+1):\n",
    "    if num % 2:\n",
    "        space = (number - num) // 2\n",
    "        print(\" \" * space + \"*\" * num)\n",
    "    else:\n",
    "        continue"
   ]
  },
  {
   "cell_type": "code",
   "execution_count": 90,
   "metadata": {},
   "outputs": [
    {
     "name": "stdout",
     "output_type": "stream",
     "text": [
      "  *\n",
      " ***\n",
      "*****\n"
     ]
    }
   ],
   "source": [
    "number = 5\n",
    "space = number // 2\n",
    "for num in range(1,number + 1,2):\n",
    "    print(\" \" * space + \"*\" * num)\n",
    "    space -= 1\n"
   ]
  },
  {
   "cell_type": "markdown",
   "metadata": {},
   "source": [
    "### quiz 7\n",
    "- 구구단의 단을 입력하면 해당 단을 출력하는 코드 작성\n"
   ]
  },
  {
   "cell_type": "code",
   "execution_count": 1,
   "metadata": {},
   "outputs": [
    {
     "name": "stdout",
     "output_type": "stream",
     "text": [
      "input number : 9\n",
      "9단\n",
      "9*1=9\n",
      "9*2=18\n",
      "9*3=27\n",
      "9*4=36\n",
      "9*5=45\n",
      "9*6=54\n",
      "9*7=63\n",
      "9*8=72\n",
      "9*9=81\n"
     ]
    }
   ],
   "source": [
    "number = int(input(\"input number : \"))\n",
    "print(\"{}단\".format(number))\n",
    "for num in range(1,10):\n",
    "    mul = number * num\n",
    "    print(\"{}*{}={}\".format(number,num,mul))\n",
    "\n",
    "# 7 1 7\n",
    "# 7 2 14"
   ]
  },
  {
   "cell_type": "code",
   "execution_count": 22,
   "metadata": {},
   "outputs": [
    {
     "name": "stdout",
     "output_type": "stream",
     "text": [
      "2*1=2\t2*2=4\t2*3=6\t2*4=8\t2*5=10\t2*6=12\t2*7=14\t2*8=16\t2*9=18\t\n",
      "3*1=3\t3*2=6\t3*3=9\t3*4=12\t3*5=15\t3*6=18\t3*7=21\t3*8=24\t3*9=27\t\n",
      "4*1=4\t4*2=8\t4*3=12\t4*4=16\t4*5=20\t4*6=24\t4*7=28\t4*8=32\t4*9=36\t\n",
      "5*1=5\t5*2=10\t5*3=15\t5*4=20\t5*5=25\t5*6=30\t5*7=35\t5*8=40\t5*9=45\t\n",
      "6*1=6\t6*2=12\t6*3=18\t6*4=24\t6*5=30\t6*6=36\t6*7=42\t6*8=48\t6*9=54\t\n",
      "7*1=7\t7*2=14\t7*3=21\t7*4=28\t7*5=35\t7*6=42\t7*7=49\t7*8=56\t7*9=63\t\n",
      "8*1=8\t8*2=16\t8*3=24\t8*4=32\t8*5=40\t8*6=48\t8*7=56\t8*8=64\t8*9=72\t\n",
      "9*1=9\t9*2=18\t9*3=27\t9*4=36\t9*5=45\t9*6=54\t9*7=63\t9*8=72\t9*9=81\t\n"
     ]
    }
   ],
   "source": [
    "for i in range(2,10):\n",
    "    for j in range(1,10):\n",
    "        print(\"{}*{}={}\".format(i,j,i*j),end='\\t')\n",
    "    print()\n",
    "    "
   ]
  },
  {
   "cell_type": "code",
   "execution_count": 21,
   "metadata": {},
   "outputs": [
    {
     "name": "stdout",
     "output_type": "stream",
     "text": [
      "2*1=2\t3*1=3\t4*1=4\t5*1=5\t6*1=6\t7*1=7\t8*1=8\t9*1=9\t\n",
      "2*2=4\t3*2=6\t4*2=8\t5*2=10\t6*2=12\t7*2=14\t8*2=16\t9*2=18\t\n",
      "2*3=6\t3*3=9\t4*3=12\t5*3=15\t6*3=18\t7*3=21\t8*3=24\t9*3=27\t\n",
      "2*4=8\t3*4=12\t4*4=16\t5*4=20\t6*4=24\t7*4=28\t8*4=32\t9*4=36\t\n",
      "2*5=10\t3*5=15\t4*5=20\t5*5=25\t6*5=30\t7*5=35\t8*5=40\t9*5=45\t\n",
      "2*6=12\t3*6=18\t4*6=24\t5*6=30\t6*6=36\t7*6=42\t8*6=48\t9*6=54\t\n",
      "2*7=14\t3*7=21\t4*7=28\t5*7=35\t6*7=42\t7*7=49\t8*7=56\t9*7=63\t\n",
      "2*8=16\t3*8=24\t4*8=32\t5*8=40\t6*8=48\t7*8=56\t8*8=64\t9*8=72\t\n",
      "2*9=18\t3*9=27\t4*9=36\t5*9=45\t6*9=54\t7*9=63\t8*9=72\t9*9=81\t\n"
     ]
    }
   ],
   "source": [
    "for i in range(1,10):\n",
    "    for j in range(2,10):\n",
    "        print(\"{}*{}={}\".format(j,i,j*i),end='\\t')\n",
    "    print()"
   ]
  },
  {
   "cell_type": "markdown",
   "metadata": {},
   "source": [
    "### quiz\n",
    "- 아래의 2개의 리스트 데이터를 dictionary data로 만드시오\n",
    "\n",
    "```\n",
    "subject=[\"kor\",\"eng\",\"math\",\"sci\"]\n",
    "points=[100,80,90,60]\n",
    "```\n",
    "\n",
    "- dictionary에 새로운 값 넣는 방법 : dic[key] = value"
   ]
  },
  {
   "cell_type": "code",
   "execution_count": 131,
   "metadata": {},
   "outputs": [
    {
     "data": {
      "text/plain": [
       "{'kor': 100, 'eng': 80, 'math': 90}"
      ]
     },
     "execution_count": 131,
     "metadata": {},
     "output_type": "execute_result"
    }
   ],
   "source": [
    "subject=[\"kor\",\"eng\",\"math\",\"sci\"]\n",
    "points=[100,80,90]\n",
    "\n",
    "count = len(points) if len(subject) > len(points) else len(subject)\n",
    "\n",
    "# rele = 0\n",
    "# if len(subject) > len(points):\n",
    "#     rele = len(points)\n",
    "# else:\n",
    "#     rele = len(subject)\n",
    "\n",
    "    \n",
    "    \n",
    "result = {}\n",
    "for idx in range(count):\n",
    "    result[subject[idx]] = points[idx]\n",
    "result"
   ]
  },
  {
   "cell_type": "markdown",
   "metadata": {},
   "source": [
    "### 4.2 enumerate\n",
    "- 리스트 데이터의 인덱스와 값을 동시에 사용할 수 있게 하는 함수\n"
   ]
  },
  {
   "cell_type": "code",
   "execution_count": 133,
   "metadata": {},
   "outputs": [
    {
     "name": "stdout",
     "output_type": "stream",
     "text": [
      "1 kor\n",
      "2 eng\n",
      "3 math\n",
      "4 sci\n"
     ]
    }
   ],
   "source": [
    "# 과목명과 과목번호를 같이 출력\n",
    "subjects=[\"kor\",\"eng\",\"math\",\"sci\"]\n",
    "\n",
    "for num in range(len(subjects)):\n",
    "    print(num + 1 ,subjects[num])"
   ]
  },
  {
   "cell_type": "code",
   "execution_count": 134,
   "metadata": {},
   "outputs": [
    {
     "data": {
      "text/plain": [
       "[(0, 'kor'), (1, 'eng'), (2, 'math'), (3, 'sci')]"
      ]
     },
     "execution_count": 134,
     "metadata": {},
     "output_type": "execute_result"
    }
   ],
   "source": [
    "list(enumerate(subjects))"
   ]
  },
  {
   "cell_type": "code",
   "execution_count": 135,
   "metadata": {},
   "outputs": [
    {
     "name": "stdout",
     "output_type": "stream",
     "text": [
      "1 kor\n",
      "2 eng\n",
      "3 math\n",
      "4 sci\n"
     ]
    }
   ],
   "source": [
    "for idx,subj in enumerate(subjects):\n",
    "    print(idx+1,subj)"
   ]
  },
  {
   "cell_type": "markdown",
   "metadata": {},
   "source": [
    "### 4.3 zip\n",
    "- 여러개의 리스트를 같은 인덱스끼리 묶어주는\n"
   ]
  },
  {
   "cell_type": "code",
   "execution_count": 2,
   "metadata": {},
   "outputs": [
    {
     "data": {
      "text/plain": [
       "[('kor', 100), ('eng', 80), ('math', 90), ('sci', 94)]"
      ]
     },
     "execution_count": 2,
     "metadata": {},
     "output_type": "execute_result"
    }
   ],
   "source": [
    "subjects=[\"kor\",\"eng\",\"math\",\"sci\"]\n",
    "points=[100,80,90,94]\n",
    "list(zip(subjects,points))"
   ]
  },
  {
   "cell_type": "code",
   "execution_count": 144,
   "metadata": {},
   "outputs": [
    {
     "data": {
      "text/plain": [
       "{'kor': 100, 'eng': 80, 'math': 90, 'sci': 94}"
      ]
     },
     "execution_count": 144,
     "metadata": {},
     "output_type": "execute_result"
    }
   ],
   "source": [
    "result ={}\n",
    "for subjects,points in zip(subjects,points):\n",
    "    result[subjects] =  points\n",
    "result"
   ]
  },
  {
   "cell_type": "code",
   "execution_count": 150,
   "metadata": {},
   "outputs": [
    {
     "data": {
      "text/plain": [
       "{'kor': 100, 'eng': 80, 'math': 90, 'sci': 94}"
      ]
     },
     "execution_count": 150,
     "metadata": {},
     "output_type": "execute_result"
    }
   ],
   "source": [
    "dict(zip(subjects,points))"
   ]
  },
  {
   "cell_type": "code",
   "execution_count": 3,
   "metadata": {},
   "outputs": [
    {
     "data": {
      "text/plain": [
       "<zip at 0x7fe8feb55300>"
      ]
     },
     "execution_count": 3,
     "metadata": {},
     "output_type": "execute_result"
    }
   ],
   "source": [
    "zip(subjects,points)"
   ]
  },
  {
   "cell_type": "markdown",
   "metadata": {},
   "source": [
    "#### *랜덤함수\n"
   ]
  },
  {
   "cell_type": "code",
   "execution_count": 152,
   "metadata": {},
   "outputs": [],
   "source": [
    "\n",
    "import random\n"
   ]
  },
  {
   "cell_type": "code",
   "execution_count": 153,
   "metadata": {},
   "outputs": [
    {
     "data": {
      "text/plain": [
       "5"
      ]
     },
     "execution_count": 153,
     "metadata": {},
     "output_type": "execute_result"
    }
   ],
   "source": [
    "# 1~10 까지 랜덤하게 수 뽑고 싶으면?\n",
    "random.randint(1,10)"
   ]
  },
  {
   "cell_type": "code",
   "execution_count": 156,
   "metadata": {},
   "outputs": [
    {
     "data": {
      "text/plain": [
       "1"
      ]
     },
     "execution_count": 156,
     "metadata": {},
     "output_type": "execute_result"
    }
   ],
   "source": [
    "# 특정 수 중 랜덤하게 수 뽑고 싶으면?\n",
    "random.choice([1,5,7])"
   ]
  },
  {
   "cell_type": "markdown",
   "metadata": {},
   "source": [
    "### quiz\n",
    "- 로또번호 출력\n",
    "- 1~45 까지 중복되지 않게 6개"
   ]
  },
  {
   "cell_type": "code",
   "execution_count": 192,
   "metadata": {},
   "outputs": [
    {
     "data": {
      "text/plain": [
       "[1, 5, 10, 15, 22, 36]"
      ]
     },
     "execution_count": 192,
     "metadata": {},
     "output_type": "execute_result"
    }
   ],
   "source": [
    "result = []\n",
    "\n",
    "ball = list(range(45))\n",
    "\n",
    "while len(result) < 6:\n",
    "\n",
    "    pick = random.choice(ball)\n",
    "    \n",
    "    if (pick not in result):\n",
    "    \n",
    "        result.append(pick) \n",
    "\n",
    "result.sort()\n",
    "\n",
    "result"
   ]
  },
  {
   "cell_type": "code",
   "execution_count": 193,
   "metadata": {},
   "outputs": [
    {
     "data": {
      "text/plain": [
       "[5, 9, 12, 29, 37, 39]"
      ]
     },
     "execution_count": 193,
     "metadata": {},
     "output_type": "execute_result"
    }
   ],
   "source": [
    "result = []\n",
    "\n",
    "while True:\n",
    "    \n",
    "    number = random.randint(1,45)\n",
    "    \n",
    "    if number not in result:\n",
    "        \n",
    "        result.append(number)\n",
    "        \n",
    "    if len(result) == 6:\n",
    "        \n",
    "        result.sort()\n",
    "        \n",
    "        break\n",
    "\n",
    "result"
   ]
  },
  {
   "cell_type": "markdown",
   "metadata": {},
   "source": [
    "## list comprehension\n",
    "- list data를 만들어주는 방법\n",
    "- for 문 보다 빠르게 동작합니다"
   ]
  },
  {
   "cell_type": "code",
   "execution_count": 23,
   "metadata": {},
   "outputs": [
    {
     "data": {
      "text/plain": [
       "[0, 1, 4, 9, 16]"
      ]
     },
     "execution_count": 23,
     "metadata": {},
     "output_type": "execute_result"
    }
   ],
   "source": [
    "ls = [0,1,2,3,4]\n",
    "ls2 = [i**2 for i in ls]\n",
    "ls2"
   ]
  },
  {
   "cell_type": "code",
   "execution_count": 25,
   "metadata": {},
   "outputs": [
    {
     "data": {
      "text/plain": [
       "['짝수', '홀수', '짝수', '홀수', '짝수']"
      ]
     },
     "execution_count": 25,
     "metadata": {},
     "output_type": "execute_result"
    }
   ],
   "source": [
    "## with 삼항연산\n",
    "ls = [0,1,2,3,4]\n",
    "ls2 = [ \"홀수\" if i % 2 else \"짝수\" for i in ls]\n",
    "ls2"
   ]
  },
  {
   "cell_type": "code",
   "execution_count": 29,
   "metadata": {},
   "outputs": [
    {
     "data": {
      "text/plain": [
       "[1, 3, 5, 7, 9]"
      ]
     },
     "execution_count": 29,
     "metadata": {},
     "output_type": "execute_result"
    }
   ],
   "source": [
    "## filter\n",
    "ls = range(10)\n",
    "ls2 = [ i for i in ls if i % 2]\n",
    "ls2"
   ]
  },
  {
   "cell_type": "code",
   "execution_count": 35,
   "metadata": {},
   "outputs": [
    {
     "data": {
      "text/plain": [
       "['clear', 'copy', 'count']"
      ]
     },
     "execution_count": 35,
     "metadata": {},
     "output_type": "execute_result"
    }
   ],
   "source": [
    "ls = [1,2,3]\n",
    "ls2 = [ func for func in dir(ls) if func[:2] != \"__\" and func[0] == \"c\"]\n",
    "ls2"
   ]
  },
  {
   "cell_type": "code",
   "execution_count": null,
   "metadata": {},
   "outputs": [],
   "source": [
    "## for문과 list comprehension 성능비교"
   ]
  },
  {
   "cell_type": "code",
   "execution_count": 49,
   "metadata": {},
   "outputs": [
    {
     "name": "stdout",
     "output_type": "stream",
     "text": [
      "1.19 ms ± 144 µs per loop (mean ± std. dev. of 7 runs, 1000 loops each)\n"
     ]
    }
   ],
   "source": [
    "%%timeit\n",
    "ls = []\n",
    "for num in range(1,10001):\n",
    "    if num % 3 == 0:\n",
    "        ls.append(num)\n",
    "len(ls)"
   ]
  },
  {
   "cell_type": "code",
   "execution_count": 50,
   "metadata": {},
   "outputs": [
    {
     "name": "stdout",
     "output_type": "stream",
     "text": [
      "793 µs ± 30.9 µs per loop (mean ± std. dev. of 7 runs, 1000 loops each)\n"
     ]
    }
   ],
   "source": [
    "%%timeit\n",
    "[num for num in range(1,10001) if num % 3 == 0]\n",
    "len(ls)"
   ]
  },
  {
   "cell_type": "code",
   "execution_count": null,
   "metadata": {},
   "outputs": [],
   "source": []
  }
 ],
 "metadata": {
  "kernelspec": {
   "display_name": "Python 3",
   "language": "python",
   "name": "python3"
  },
  "language_info": {
   "codemirror_mode": {
    "name": "ipython",
    "version": 3
   },
   "file_extension": ".py",
   "mimetype": "text/x-python",
   "name": "python",
   "nbconvert_exporter": "python",
   "pygments_lexer": "ipython3",
   "version": "3.8.3"
  }
 },
 "nbformat": 4,
 "nbformat_minor": 4
}
