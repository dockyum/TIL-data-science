{
 "cells": [
  {
   "cell_type": "markdown",
   "metadata": {},
   "source": [
    "## String Validators \n",
    "find out if the string S contains: alphanumeric characters, alphabetical characters, digits, lowercase and uppercase characters"
   ]
  },
  {
   "cell_type": "markdown",
   "metadata": {},
   "source": [
    "#### 무식한 풀이"
   ]
  },
  {
   "cell_type": "code",
   "execution_count": 35,
   "metadata": {},
   "outputs": [
    {
     "data": {
      "text/plain": [
       "(True, True, True, True, True)"
      ]
     },
     "execution_count": 35,
     "metadata": {},
     "output_type": "execute_result"
    }
   ],
   "source": [
    "s = \"qA2\"\n",
    "\n",
    "def _isalnum(s):\n",
    "    for i in s:\n",
    "        if i.isalnum() == True:\n",
    "            return True\n",
    "    return False\n",
    "\n",
    "def _isalpha(s):\n",
    "    for i in s:\n",
    "        if i.isalpha() == True:\n",
    "            return True\n",
    "    return False\n",
    "\n",
    "def _isdigit(s):\n",
    "    for i in s:\n",
    "        if i in list(map(str,range(10))):\n",
    "            return True\n",
    "    return False\n",
    "\n",
    "def _islower(s):\n",
    "    for i in s:\n",
    "        if i.islower() == True:\n",
    "            return True\n",
    "    return False\n",
    "\n",
    "def _isupper(s):\n",
    "    for i in s:\n",
    "        if i.isupper() == True:\n",
    "            return True\n",
    "    return False\n",
    "\n",
    "_isalnum(s), _isalpha(s), _isdigit(s), _islower(s), _isupper(s)"
   ]
  },
  {
   "cell_type": "markdown",
   "metadata": {},
   "source": [
    "#### 세련된 풀이\n",
    "- any() 함수가 있습니다\n",
    "- Remember that class methods are just functions with an object as the first parameter"
   ]
  },
  {
   "cell_type": "code",
   "execution_count": 45,
   "metadata": {},
   "outputs": [
    {
     "name": "stdout",
     "output_type": "stream",
     "text": [
      "True\n",
      "True\n",
      "True\n",
      "True\n",
      "True\n"
     ]
    }
   ],
   "source": [
    "s = \"qA2\"\n",
    "\n",
    "for met in [str.isalnum, str.isalpha, str.isdigit, str.islower, str.isupper]:\n",
    "    print (any(met(c) for c in s))"
   ]
  },
  {
   "cell_type": "code",
   "execution_count": 55,
   "metadata": {},
   "outputs": [
    {
     "data": {
      "text/plain": [
       "(<method 'isalnum' of 'str' objects>, <method 'lower' of 'str' objects>)"
      ]
     },
     "execution_count": 55,
     "metadata": {},
     "output_type": "execute_result"
    }
   ],
   "source": [
    "str.isalnum, str.lower"
   ]
  },
  {
   "cell_type": "code",
   "execution_count": 57,
   "metadata": {},
   "outputs": [
    {
     "name": "stdout",
     "output_type": "stream",
     "text": [
      "Help on method_descriptor:\n",
      "\n",
      "isalnum(self, /)\n",
      "    Return True if the string is an alpha-numeric string, False otherwise.\n",
      "    \n",
      "    A string is alpha-numeric if all characters in the string are alpha-numeric and\n",
      "    there is at least one character in the string.\n",
      "\n"
     ]
    }
   ],
   "source": [
    "help(str.isalnum)"
   ]
  },
  {
   "cell_type": "code",
   "execution_count": null,
   "metadata": {},
   "outputs": [],
   "source": []
  }
 ],
 "metadata": {
  "kernelspec": {
   "display_name": "Python 3",
   "language": "python",
   "name": "python3"
  },
  "language_info": {
   "codemirror_mode": {
    "name": "ipython",
    "version": 3
   },
   "file_extension": ".py",
   "mimetype": "text/x-python",
   "name": "python",
   "nbconvert_exporter": "python",
   "pygments_lexer": "ipython3",
   "version": "3.8.3"
  }
 },
 "nbformat": 4,
 "nbformat_minor": 4
}
