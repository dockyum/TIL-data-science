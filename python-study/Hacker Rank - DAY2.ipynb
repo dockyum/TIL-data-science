{
 "cells": [
  {
   "cell_type": "markdown",
   "metadata": {},
   "source": [
    "## Tuples\n",
    "`int n` 과, n개의 숫자를 요소로 한 칸씩 띈 문자열인 `string t`를 받아서 t의 hash 값을 출력하기\\\n",
    "\\\n",
    "input\n",
    "```python\n",
    "2\n",
    "1 2 \n",
    "```\n",
    "\\\n",
    "output\n",
    "```python\n",
    "-3550055125485641917\n",
    "```"
   ]
  },
  {
   "cell_type": "code",
   "execution_count": 7,
   "metadata": {},
   "outputs": [
    {
     "name": "stdout",
     "output_type": "stream",
     "text": [
      "2\n",
      "1 2\n",
      "<class 'tuple'>\n"
     ]
    },
    {
     "data": {
      "text/plain": [
       "-3550055125485641917"
      ]
     },
     "execution_count": 7,
     "metadata": {},
     "output_type": "execute_result"
    }
   ],
   "source": [
    "import hashlib\n",
    "\n",
    "n = int(input())\n",
    "integer_list = tuple(map(int, input().split()))\n",
    "print(type(integer_list))\n",
    "hash(integer_list)"
   ]
  },
  {
   "cell_type": "markdown",
   "metadata": {},
   "source": [
    "## sWAP cASE\n",
    "convert all lowercase letters to uppercase letters and vice versa.\n",
    "\n",
    "```python\n",
    "Www.HackerRank.com → wWW.hACKERrANK.COM\n",
    "```\n",
    "\n",
    "### errors\n",
    "- `str.upper()`, `str.lower()` 는 값을 return 합니다.\n",
    "- `isupper()` method를 활용하면 list comprehension으로 가능합니다\n",
    "- `swapcase()` method도 있습니다."
   ]
  },
  {
   "cell_type": "code",
   "execution_count": 46,
   "metadata": {},
   "outputs": [
    {
     "name": "stdout",
     "output_type": "stream",
     "text": [
      "Www.HackerRank.com\n",
      "wWW.hACKERrANK.COM\n"
     ]
    }
   ],
   "source": [
    "# list로 만들어서 lower case와 upper case를 각각 검사하여 바꾸기\n",
    "def swap_case(s):\n",
    "    origin_str_ls = list(s)\n",
    "    lower_str_ls = list(s.lower())\n",
    "    upper_str_ls = list(s.upper())\n",
    "    \n",
    "    for i in range(len(origin_str_ls)) : \n",
    "        if origin_str_ls[i] == lower_str_ls[i]:\n",
    "            _upper = origin_str_ls[i].upper()\n",
    "            origin_str_ls[i] = _upper\n",
    "        elif origin_str_ls[i] == upper_str_ls[i]:\n",
    "            _lower = origin_str_ls[i].lower()\n",
    "            origin_str_ls[i] = _lower\n",
    "\n",
    "    return ''.join(origin_str_ls)\n",
    "\n",
    "print(swap_case(input()))\n"
   ]
  },
  {
   "cell_type": "code",
   "execution_count": 52,
   "metadata": {},
   "outputs": [
    {
     "name": "stdout",
     "output_type": "stream",
     "text": [
      "Www.HackerRank.com\n",
      "wWW.hACKERrANK.COM\n"
     ]
    }
   ],
   "source": [
    "# isupper() 사용\n",
    "def swap_case(s):\n",
    "    str = ''.join([i.lower() if i.isupper() else i.upper() for i in s])\n",
    "    return str\n",
    "\n",
    "print (swap_case(input()))"
   ]
  },
  {
   "cell_type": "code",
   "execution_count": 53,
   "metadata": {},
   "outputs": [
    {
     "name": "stdout",
     "output_type": "stream",
     "text": [
      "Www.HackerRank.com\n",
      "wWW.hACKERrANK.COM\n"
     ]
    }
   ],
   "source": [
    "# swapcase() 사용\n",
    "def swap_case(s):\n",
    "    return s.swapcase()\n",
    "\n",
    "print (swap_case(input()))"
   ]
  },
  {
   "cell_type": "markdown",
   "metadata": {},
   "source": [
    "## string split and join\n",
    "split string on a `\" \"`(space) delimiter(경계 기호) and join using a `\"-\"` "
   ]
  },
  {
   "cell_type": "code",
   "execution_count": 59,
   "metadata": {},
   "outputs": [
    {
     "name": "stdout",
     "output_type": "stream",
     "text": [
      "this is a string   \n",
      "this-is-a-string---\n"
     ]
    }
   ],
   "source": [
    "def split_and_join(line):\n",
    "    return \"-\".join(line.split(\" \"))\n",
    "    \n",
    "print(split_and_join(input()))"
   ]
  },
  {
   "cell_type": "markdown",
   "metadata": {},
   "source": [
    "## What's your name?\n",
    "input `firstname`, `lastname`\n",
    "output\n",
    "```python\n",
    "    Hello firstname lastname! You just delved into python.\n",
    "```"
   ]
  },
  {
   "cell_type": "code",
   "execution_count": 60,
   "metadata": {},
   "outputs": [
    {
     "name": "stdout",
     "output_type": "stream",
     "text": [
      "dokyum\n",
      "kim\n",
      "Hello dokyum kim! You just delved into python.\n"
     ]
    }
   ],
   "source": [
    "def print_full_name(a, b):\n",
    "    print(\"Hello {} {}! You just delved into python.\".format(a,b))\n",
    "\n",
    "first_name, last_name = input(),input()\n",
    "print_full_name(first_name, last_name)"
   ]
  },
  {
   "cell_type": "markdown",
   "metadata": {},
   "source": [
    "## Mutations\n",
    "change the character at a given index and then print the modified string.\n",
    "\n",
    "### errors\n",
    "- old style string format\n",
    "    ```python\n",
    "    '%s'% \"string\"    # => 'string'\n",
    "    ```"
   ]
  },
  {
   "cell_type": "code",
   "execution_count": null,
   "metadata": {},
   "outputs": [],
   "source": [
    "# list로 만들어도 가능"
   ]
  },
  {
   "cell_type": "code",
   "execution_count": 72,
   "metadata": {},
   "outputs": [
    {
     "name": "stdout",
     "output_type": "stream",
     "text": [
      "abrackdabra\n"
     ]
    }
   ],
   "source": [
    "def mutate_string(string, position, character):\n",
    "    return '{}{}{}'.format(string[:position],character,string[position+1:])\n",
    "\n",
    "# old style string format\n",
    "# '%s%s%s'%string[:position],character,string[position+1:]\n",
    "\n",
    "s = \"abracadabra\"\n",
    "i, c = 5 , \"k\"\n",
    "s_new = mutate_string(s, int(i), c)\n",
    "print(s_new)"
   ]
  },
  {
   "cell_type": "markdown",
   "metadata": {},
   "source": [
    "## Find a string\n",
    "print the number of times that the substring occurs in the given string\n",
    "- String traversal will take place from left to right\n",
    "\n",
    "### errors\n",
    "- `str.find()`을 쓰면 찾을 수 있습니다.\n",
    "- string에서 `\"CDC\"`가 들어있는 부분은 어떻게 표현 가능할까\n",
    "- 어떻게 개수의 합을 구할까"
   ]
  },
  {
   "cell_type": "code",
   "execution_count": 97,
   "metadata": {},
   "outputs": [
    {
     "name": "stdout",
     "output_type": "stream",
     "text": [
      "2\n"
     ]
    }
   ],
   "source": [
    "def count_substring(string, sub_string):\n",
    "    ls = sum([ 1 for i in range(len(string)-len(sub_string)+1) if string[i:i+len(sub_string)] == sub_string])\n",
    "    return ls\n",
    "    \n",
    "string = \"ABCDCDC\"\n",
    "sub_string = \"CDC\"\n",
    "\n",
    "count = count_substring(string, sub_string)\n",
    "print(count)"
   ]
  },
  {
   "cell_type": "code",
   "execution_count": 175,
   "metadata": {},
   "outputs": [
    {
     "name": "stdout",
     "output_type": "stream",
     "text": [
      "1 1\n",
      "2 2\n",
      "3 3\n"
     ]
    }
   ],
   "source": [
    "a = [1,2,3]\n",
    "b = []\n",
    "# result = [[],[1],[2],[3],[1,2],[1,3],[2,3],[1,2,3]]\n",
    "\n",
    "a for i in range(len(a)):\n"
   ]
  },
  {
   "cell_type": "code",
   "execution_count": 184,
   "metadata": {},
   "outputs": [
    {
     "data": {
      "text/plain": [
       "[1, 2, 4, 8]"
      ]
     },
     "execution_count": 184,
     "metadata": {},
     "output_type": "execute_result"
    }
   ],
   "source": [
    "s = [1,2,10,9]\n",
    "masks = [ 1 << i for i in range(len(s))]\n",
    "masks"
   ]
  },
  {
   "cell_type": "code",
   "execution_count": 1,
   "metadata": {},
   "outputs": [
    {
     "data": {
      "text/plain": [
       "2"
      ]
     },
     "execution_count": 1,
     "metadata": {},
     "output_type": "execute_result"
    }
   ],
   "source": [
    "string = \"ABCDCDC\"\n",
    "sub_string = \"CDC\"\n",
    "count = 0\n",
    "ck = [1 if sub_string == string[i:i+len(sub_string)] else 0 for i in range(len(string)-len(sub_string)+1)]\n",
    "sum(ck)"
   ]
  },
  {
   "cell_type": "markdown",
   "metadata": {},
   "source": [
    "## Validating Email Addresses With a Filter - 일단 패스..\n",
    "`int n` , n 개의 이메일 주소를 받아서 유효한 메일만 lexicographical(사전학적) 정렬 하기\\\n",
    "\\\n",
    "### 유효한 메일의 조건\n",
    "    - username@websitename.extension 구조\n",
    "    - username은 letters, digits, dashes and underscores 만 가능\n",
    "    - websitename은 letters and digits 만 가능\n",
    "    - extenstion은 3자만 가능\n",
    "\\\n",
    "input\n",
    "```python\n",
    "    3\n",
    "    lara@hackerrank.com\n",
    "    brian-23@hackerrank.com\n",
    "    britts_54@hackerrank.com\n",
    "```\n",
    "\\\n",
    "output\n",
    "```python\n",
    "    ['brian-23@hackerrank.com', 'britts_54@hackerrank.com', 'lara@hackerrank.com']\n",
    "```\n",
    "\n",
    "### errors\n",
    "- 정규표현식 regular expression 을 알아야합니다"
   ]
  },
  {
   "cell_type": "code",
   "execution_count": 9,
   "metadata": {},
   "outputs": [
    {
     "name": "stdout",
     "output_type": "stream",
     "text": [
      "[0, 1, 4, 9, 16, 25, 36, 49, 64, 81]\n",
      "[16, 25, 36, 49, 64]\n"
     ]
    }
   ],
   "source": [
    "l = list(range(10))\n",
    "l = list(map(lambda x:x*x, l))\n",
    "print(l)\n",
    "l = list(filter(lambda x: x > 10 and x < 80, l))\n",
    "print(l)"
   ]
  },
  {
   "cell_type": "code",
   "execution_count": 14,
   "metadata": {},
   "outputs": [
    {
     "ename": "AttributeError",
     "evalue": "'list' object has no attribute 'split'",
     "output_type": "error",
     "traceback": [
      "\u001b[0;31m---------------------------------------------------------------------------\u001b[0m",
      "\u001b[0;31mAttributeError\u001b[0m                            Traceback (most recent call last)",
      "\u001b[0;32m<ipython-input-14-67671208b5af>\u001b[0m in \u001b[0;36m<module>\u001b[0;34m\u001b[0m\n\u001b[1;32m      1\u001b[0m \u001b[0ms\u001b[0m \u001b[0;34m=\u001b[0m \u001b[0;34m\"lara@hackerrank.com\"\u001b[0m\u001b[0;34m\u001b[0m\u001b[0;34m\u001b[0m\u001b[0m\n\u001b[1;32m      2\u001b[0m \u001b[0ma\u001b[0m \u001b[0;34m=\u001b[0m \u001b[0ms\u001b[0m\u001b[0;34m.\u001b[0m\u001b[0msplit\u001b[0m\u001b[0;34m(\u001b[0m\u001b[0;34m'@'\u001b[0m\u001b[0;34m)\u001b[0m\u001b[0;34m\u001b[0m\u001b[0;34m\u001b[0m\u001b[0m\n\u001b[0;32m----> 3\u001b[0;31m \u001b[0ma\u001b[0m \u001b[0;34m=\u001b[0m \u001b[0ma\u001b[0m\u001b[0;34m.\u001b[0m\u001b[0msplit\u001b[0m\u001b[0;34m(\u001b[0m\u001b[0;34m'.'\u001b[0m\u001b[0;34m)\u001b[0m\u001b[0;34m\u001b[0m\u001b[0;34m\u001b[0m\u001b[0m\n\u001b[0m",
      "\u001b[0;31mAttributeError\u001b[0m: 'list' object has no attribute 'split'"
     ]
    }
   ],
   "source": [
    "import re\n",
    "\n",
    "s = \"lara@hackerrank.com\"\n",
    "a = re.split('@',s)\n"
   ]
  }
 ],
 "metadata": {
  "kernelspec": {
   "display_name": "Python 3",
   "language": "python",
   "name": "python3"
  },
  "language_info": {
   "codemirror_mode": {
    "name": "ipython",
    "version": 3
   },
   "file_extension": ".py",
   "mimetype": "text/x-python",
   "name": "python",
   "nbconvert_exporter": "python",
   "pygments_lexer": "ipython3",
   "version": "3.8.3"
  }
 },
 "nbformat": 4,
 "nbformat_minor": 4
}
