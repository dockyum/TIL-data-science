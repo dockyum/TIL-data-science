{
 "cells": [
  {
   "cell_type": "markdown",
   "metadata": {},
   "source": [
    "# Decorator\n",
    "- 함수에서 코드를 변경하지 않고 함수의 기능을 수정하는 방법\n",
    "- 함수내에 있는 코드의 중복을 제거하기 위해서도 사용\n",
    "\n",
    "```\n",
    "def func1():\n",
    "    code1\n",
    "    code2\n",
    "    code3\n",
    "\n",
    "def func2():\n",
    "    code1\n",
    "    code4\n",
    "    code3\n",
    "\n",
    "```\n",
    "- 데코레이터 \\\n",
    "\n",
    "```\n",
    "def deco(func):\n",
    "    code1\n",
    "    func()\n",
    "    code3\n",
    "    \n",
    "@deco\n",
    "def func1():\n",
    "    code2\n",
    "\n",
    "@deco\n",
    "def func2():\n",
    "    code4\n",
    "\n",
    "```"
   ]
  },
  {
   "cell_type": "markdown",
   "metadata": {},
   "source": [
    "### decorator exam 1"
   ]
  },
  {
   "cell_type": "code",
   "execution_count": 1,
   "metadata": {},
   "outputs": [],
   "source": [
    "def func1():\n",
    "    print(\"code1\")\n",
    "    print(\"code2\")\n",
    "    print(\"code3\")"
   ]
  },
  {
   "cell_type": "code",
   "execution_count": 2,
   "metadata": {},
   "outputs": [],
   "source": [
    "def func2():\n",
    "    print(\"code1\")\n",
    "    print(\"code4\")\n",
    "    print(\"code3\")"
   ]
  },
  {
   "cell_type": "code",
   "execution_count": 3,
   "metadata": {},
   "outputs": [
    {
     "name": "stdout",
     "output_type": "stream",
     "text": [
      "code1\n",
      "code2\n",
      "code3\n"
     ]
    }
   ],
   "source": [
    "func1()"
   ]
  },
  {
   "cell_type": "code",
   "execution_count": 4,
   "metadata": {},
   "outputs": [
    {
     "name": "stdout",
     "output_type": "stream",
     "text": [
      "code1\n",
      "code4\n",
      "code3\n"
     ]
    }
   ],
   "source": [
    "func2()"
   ]
  },
  {
   "cell_type": "code",
   "execution_count": 5,
   "metadata": {},
   "outputs": [],
   "source": [
    "# decorator"
   ]
  },
  {
   "cell_type": "code",
   "execution_count": 6,
   "metadata": {},
   "outputs": [],
   "source": [
    "def deco(func):\n",
    "    \n",
    "    def wrapper(*args, **kwargs):\n",
    "        print(\"code1\")\n",
    "        func(*args, **kwargs)\n",
    "        print(\"code3\")\n",
    "        \n",
    "    return wrapper"
   ]
  },
  {
   "cell_type": "code",
   "execution_count": 12,
   "metadata": {},
   "outputs": [],
   "source": [
    "@deco\n",
    "def func1():\n",
    "    print(\"code2\")"
   ]
  },
  {
   "cell_type": "code",
   "execution_count": 13,
   "metadata": {},
   "outputs": [],
   "source": [
    "@deco\n",
    "def func2():\n",
    "    print(\"code4\")"
   ]
  },
  {
   "cell_type": "code",
   "execution_count": 14,
   "metadata": {},
   "outputs": [
    {
     "name": "stdout",
     "output_type": "stream",
     "text": [
      "code1\n",
      "code2\n",
      "code3\n"
     ]
    }
   ],
   "source": [
    "func1()"
   ]
  },
  {
   "cell_type": "code",
   "execution_count": 15,
   "metadata": {},
   "outputs": [
    {
     "name": "stdout",
     "output_type": "stream",
     "text": [
      "code1\n",
      "code4\n",
      "code3\n"
     ]
    }
   ],
   "source": [
    "func2()"
   ]
  },
  {
   "cell_type": "markdown",
   "metadata": {},
   "source": [
    "### quiz"
   ]
  },
  {
   "cell_type": "code",
   "execution_count": 56,
   "metadata": {},
   "outputs": [],
   "source": [
    "\n",
    "def check_pw(func):\n",
    "    \n",
    "    def wrapper(*args, **kwargs):\n",
    "        pw = [\"dss\", \"test\"]\n",
    "        while True:\n",
    "            input_pw = input(\"input pw (quit: q) : \")\n",
    "            if input_pw in pw:\n",
    "                result = func(*args, **kwargs)\n",
    "                return result\n",
    "            elif input_pw == \"q\" :\n",
    "                break\n",
    "            else:\n",
    "                print (\"wrong password!!\")\n",
    "        \n",
    "    return wrapper"
   ]
  },
  {
   "cell_type": "code",
   "execution_count": 17,
   "metadata": {},
   "outputs": [],
   "source": [
    "import random\n",
    "\n",
    "@check_pw\n",
    "def random_number():\n",
    "    return random.randint(0,5)"
   ]
  },
  {
   "cell_type": "code",
   "execution_count": 25,
   "metadata": {},
   "outputs": [],
   "source": [
    "def disp1():\n",
    "    return \"datascience!!!\""
   ]
  },
  {
   "cell_type": "code",
   "execution_count": 58,
   "metadata": {},
   "outputs": [],
   "source": [
    "@check_pw\n",
    "@deco\n",
    "def disp2():\n",
    "    return \"notebook!!!\"\n",
    "# decorator 선언(변경) 후 다시 선언해야 적용됨\n",
    "# 위에 있는 순서대로 실행 가능, 지금은 check_pw, deco 순서대로"
   ]
  },
  {
   "cell_type": "code",
   "execution_count": 55,
   "metadata": {},
   "outputs": [
    {
     "name": "stdout",
     "output_type": "stream",
     "text": [
      "input pw (quit: q) : q\n"
     ]
    }
   ],
   "source": [
    "disp2()"
   ]
  },
  {
   "cell_type": "markdown",
   "metadata": {},
   "source": [
    "### 데코레이터의 아규먼트 설정"
   ]
  },
  {
   "cell_type": "code",
   "execution_count": 62,
   "metadata": {},
   "outputs": [],
   "source": [
    "from functools import wraps\n",
    "\n",
    "def disp(data):\n",
    "    \n",
    "    def inner_func(func):\n",
    "        \n",
    "        @wraps(func)\n",
    "        def wrapper(*args, **kwargs):\n",
    "                print(\"code 1\", data)\n",
    "                result = func(*args, **kwargs)\n",
    "                print(\"code 3\", data)\n",
    "                return result\n",
    "                \n",
    "        return wrapper\n",
    "    \n",
    "    return inner_func"
   ]
  },
  {
   "cell_type": "code",
   "execution_count": 63,
   "metadata": {},
   "outputs": [],
   "source": [
    "@disp(\"test\")\n",
    "def func1():\n",
    "    print(\"code 2\")"
   ]
  },
  {
   "cell_type": "code",
   "execution_count": 64,
   "metadata": {},
   "outputs": [
    {
     "name": "stdout",
     "output_type": "stream",
     "text": [
      "code 1 test\n",
      "code 2\n",
      "code 3 test\n"
     ]
    }
   ],
   "source": [
    "func1()"
   ]
  },
  {
   "cell_type": "markdown",
   "metadata": {},
   "source": [
    "### Class\n",
    "- 함수와 변수를 하나의 기능 단위로 묶어서 사용하는 방법\n",
    "- 객체 지향의 개념을 가지고 코드를 작성할 수 있습니다.\n",
    "- 여러명이 하나의 프로그램을 개발할 때 협업의 효율을 증대시키기 위해서 나온 개념\n",
    "- 생성자 : 클래스가 객체로 만들어 질 때 실행되는 함수로 메서드에서 사용하는 변수를 선언할 때 사용\n",
    "- 상속 : 다른 클래스의 변수와 메서드를 가져와서 사용할 때 사용"
   ]
  },
  {
   "cell_type": "code",
   "execution_count": 65,
   "metadata": {},
   "outputs": [],
   "source": [
    "class Calc:\n",
    "    \n",
    "    def __init__(self, num1, num2):\n",
    "        self.num1 = num1\n",
    "        self.num2 = num2\n",
    "        \n",
    "    def plus(self):\n",
    "        return self.num1 + self.num2"
   ]
  },
  {
   "cell_type": "code",
   "execution_count": 66,
   "metadata": {},
   "outputs": [],
   "source": [
    "# A\n",
    "calc1 = Calc(1,2)"
   ]
  },
  {
   "cell_type": "code",
   "execution_count": 67,
   "metadata": {},
   "outputs": [],
   "source": [
    "# B\n",
    "calc2 = Calc(2,3)"
   ]
  },
  {
   "cell_type": "code",
   "execution_count": 68,
   "metadata": {},
   "outputs": [
    {
     "data": {
      "text/plain": [
       "3"
      ]
     },
     "execution_count": 68,
     "metadata": {},
     "output_type": "execute_result"
    }
   ],
   "source": [
    "calc1.plus()"
   ]
  },
  {
   "cell_type": "code",
   "execution_count": 69,
   "metadata": {},
   "outputs": [
    {
     "data": {
      "text/plain": [
       "5"
      ]
     },
     "execution_count": 69,
     "metadata": {},
     "output_type": "execute_result"
    }
   ],
   "source": [
    "calc2.plus()"
   ]
  },
  {
   "cell_type": "code",
   "execution_count": 70,
   "metadata": {},
   "outputs": [],
   "source": [
    "class Calc2(Calc):\n",
    "    \n",
    "    def minus(self):\n",
    "        return self.num1 - self.num2"
   ]
  },
  {
   "cell_type": "code",
   "execution_count": 71,
   "metadata": {},
   "outputs": [],
   "source": [
    "calc3 = Calc2(4,5)"
   ]
  },
  {
   "cell_type": "code",
   "execution_count": 72,
   "metadata": {},
   "outputs": [
    {
     "data": {
      "text/plain": [
       "-1"
      ]
     },
     "execution_count": 72,
     "metadata": {},
     "output_type": "execute_result"
    }
   ],
   "source": [
    "calc3.minus()"
   ]
  },
  {
   "cell_type": "code",
   "execution_count": 76,
   "metadata": {},
   "outputs": [
    {
     "data": {
      "text/plain": [
       "['minus', 'num1', 'num2', 'plus']"
      ]
     },
     "execution_count": 76,
     "metadata": {},
     "output_type": "execute_result"
    }
   ],
   "source": [
    "methods = [func for func in dir(calc3) if func[0] != \"_\"]\n",
    "methods"
   ]
  },
  {
   "cell_type": "markdown",
   "metadata": {},
   "source": [
    "## 클래스의 메서드 3종류\n",
    "- 인스턴스 메서드\n",
    "- 클래스 메서드\n",
    "- 스태틱 메서드"
   ]
  },
  {
   "cell_type": "code",
   "execution_count": null,
   "metadata": {},
   "outputs": [],
   "source": []
  }
 ],
 "metadata": {
  "kernelspec": {
   "display_name": "Python 3",
   "language": "python",
   "name": "python3"
  },
  "language_info": {
   "codemirror_mode": {
    "name": "ipython",
    "version": 3
   },
   "file_extension": ".py",
   "mimetype": "text/x-python",
   "name": "python",
   "nbconvert_exporter": "python",
   "pygments_lexer": "ipython3",
   "version": "3.8.3"
  }
 },
 "nbformat": 4,
 "nbformat_minor": 4
}
