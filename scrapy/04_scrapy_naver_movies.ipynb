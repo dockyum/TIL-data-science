{
 "cells": [
  {
   "cell_type": "markdown",
   "metadata": {},
   "source": [
    "# 네이버 현재 상영작 데이터 수집\n",
    "- settings.py : robots.txt 규칙을 따르지 않고 데이터 수집하도록 설정"
   ]
  },
  {
   "cell_type": "code",
   "execution_count": 6,
   "metadata": {},
   "outputs": [],
   "source": [
    "## 1. 프로젝트 설정"
   ]
  },
  {
   "cell_type": "code",
   "execution_count": 12,
   "metadata": {},
   "outputs": [
    {
     "name": "stdout",
     "output_type": "stream",
     "text": [
      "New Scrapy project 'naver_movie', using template directory '/opt/anaconda3/lib/python3.8/site-packages/scrapy/templates/project', created in:\r\n",
      "    /Users/dokyum/Workspace/DSS - /TIL-data-science/scrapy/naver_movie\r\n",
      "\r\n",
      "You can start your first spider with:\r\n",
      "    cd naver_movie\r\n",
      "    scrapy genspider example example.com\r\n"
     ]
    }
   ],
   "source": [
    "!scrapy startproject naver_movie"
   ]
  },
  {
   "cell_type": "code",
   "execution_count": 61,
   "metadata": {},
   "outputs": [
    {
     "name": "stdout",
     "output_type": "stream",
     "text": [
      "\u001b[01;34mnaver_movie/\u001b[00m\r\n",
      "├── movie.csv\r\n",
      "├── \u001b[01;34mnaver_movie\u001b[00m\r\n",
      "│   ├── __init__.py\r\n",
      "│   ├── \u001b[01;34m__pycache__\u001b[00m\r\n",
      "│   │   ├── __init__.cpython-38.pyc\r\n",
      "│   │   ├── items.cpython-38.pyc\r\n",
      "│   │   └── settings.cpython-38.pyc\r\n",
      "│   ├── items.py\r\n",
      "│   ├── middlewares.py\r\n",
      "│   ├── pipelines.py\r\n",
      "│   ├── settings.py\r\n",
      "│   └── \u001b[01;34mspiders\u001b[00m\r\n",
      "│       ├── __init__.py\r\n",
      "│       ├── \u001b[01;34m__pycache__\u001b[00m\r\n",
      "│       │   ├── __init__.cpython-38.pyc\r\n",
      "│       │   └── spiders.cpython-38.pyc\r\n",
      "│       └── spiders.py\r\n",
      "└── scrapy.cfg\r\n",
      "\r\n",
      "4 directories, 14 files\r\n"
     ]
    }
   ],
   "source": [
    "!tree naver_movie/"
   ]
  },
  {
   "cell_type": "code",
   "execution_count": 7,
   "metadata": {},
   "outputs": [],
   "source": [
    "## 2. xpath 찾기"
   ]
  },
  {
   "cell_type": "code",
   "execution_count": 13,
   "metadata": {},
   "outputs": [],
   "source": [
    "import scrapy\n",
    "import requests\n",
    "import re\n",
    "\n",
    "from scrapy.http import TextResponse"
   ]
  },
  {
   "cell_type": "code",
   "execution_count": 16,
   "metadata": {},
   "outputs": [
    {
     "data": {
      "text/plain": [
       "<200 https://movie.naver.com/movie/running/current.nhn>"
      ]
     },
     "execution_count": 16,
     "metadata": {},
     "output_type": "execute_result"
    }
   ],
   "source": [
    "headers= {\"User-Agent\": \"Mozilla/5.0 (Macintosh; Intel Mac OS X 10_15_7) AppleWebKit/537.36 (KHTML, like Gecko) Chrome/87.0.4280.88 Safari/537.36\"}\n",
    "req = requests.get(\"https://movie.naver.com/movie/running/current.nhn\", headers=headers)\n",
    "response = TextResponse(req.url, body=req.text, encoding=\"utf-8\")\n",
    "response"
   ]
  },
  {
   "cell_type": "code",
   "execution_count": 26,
   "metadata": {},
   "outputs": [
    {
     "data": {
      "text/plain": [
       "(98, 'https://movie.naver.com/movie/bi/mi/basic.nhn?code=163834')"
      ]
     },
     "execution_count": 26,
     "metadata": {},
     "output_type": "execute_result"
    }
   ],
   "source": [
    "links = response.xpath('//*[@id=\"content\"]/div[1]/div[1]/div[3]/ul/li/dl/dt/a/@href').extract()\n",
    "links = [ response.urljoin(link) for link in links]\n",
    "len(links), links[0]"
   ]
  },
  {
   "cell_type": "code",
   "execution_count": 27,
   "metadata": {},
   "outputs": [],
   "source": [
    "### 상세 데이터 xpath : title, count, star\n",
    "link = links[0]"
   ]
  },
  {
   "cell_type": "code",
   "execution_count": 28,
   "metadata": {},
   "outputs": [
    {
     "data": {
      "text/plain": [
       "<200 https://movie.naver.com/movie/bi/mi/basic.nhn?code=163834>"
      ]
     },
     "execution_count": 28,
     "metadata": {},
     "output_type": "execute_result"
    }
   ],
   "source": [
    "req = requests.get(link, headers=headers)\n",
    "response = TextResponse(req.url, body=req.text, encoding='utf-8')\n",
    "response"
   ]
  },
  {
   "cell_type": "code",
   "execution_count": 47,
   "metadata": {},
   "outputs": [
    {
     "data": {
      "text/plain": [
       "('원더 우먼 1984', '461,434', '7.61')"
      ]
     },
     "execution_count": 47,
     "metadata": {},
     "output_type": "execute_result"
    }
   ],
   "source": [
    "title = response.xpath('//*[@id=\"content\"]/div[1]/div[2]/div[1]/h3/a[1]/text()').extract()[0]\n",
    "count = response.xpath('//*[@id=\"content\"]/div[1]/div[2]/div[1]/dl/dd[5]/div/p[2]/text()').extract()[0].split('명')[0]\n",
    "star1 = response.xpath('//*[@id=\"actualPointPersentBasic\"]/div/em/text()').extract()\n",
    "star1 = ''.join(star1)\n",
    "\n",
    "star2 = response.xpath('//*[@id=\"actualPointPersentBasic\"]/div/span/span/text()').extract()[0]\n",
    "star2 = re.findall('[0-9]{1,2}\\.[0-9]{2}', star2)[0]\n",
    "\n",
    "title, count, star2"
   ]
  },
  {
   "cell_type": "code",
   "execution_count": 48,
   "metadata": {},
   "outputs": [],
   "source": [
    "## 3. items. py"
   ]
  },
  {
   "cell_type": "code",
   "execution_count": null,
   "metadata": {},
   "outputs": [],
   "source": [
    "# %load naver_movie/naver_movie/items.py"
   ]
  },
  {
   "cell_type": "code",
   "execution_count": 50,
   "metadata": {},
   "outputs": [
    {
     "name": "stdout",
     "output_type": "stream",
     "text": [
      "Overwriting naver_movie/naver_movie/items.py\n"
     ]
    }
   ],
   "source": [
    "%%writefile naver_movie/naver_movie/items.py\n",
    "\n",
    "import scrapy\n",
    "\n",
    "\n",
    "class NaverMovieItem(scrapy.Item):\n",
    "    title = scrapy.Field()\n",
    "    count = scrapy.Field()\n",
    "    star = scrapy.Field()\n"
   ]
  },
  {
   "cell_type": "code",
   "execution_count": 9,
   "metadata": {},
   "outputs": [],
   "source": [
    "## 4. spider.py"
   ]
  },
  {
   "cell_type": "code",
   "execution_count": 62,
   "metadata": {},
   "outputs": [
    {
     "name": "stdout",
     "output_type": "stream",
     "text": [
      "Overwriting naver_movie/naver_movie/spiders/spiders.py\n"
     ]
    }
   ],
   "source": [
    "%%writefile naver_movie/naver_movie/spiders/spiders.py\n",
    "import scrapy\n",
    "from naver_movie.items import NaverMovieItem\n",
    "\n",
    "class NaverSpider(scrapy.Spider):\n",
    "    name = \"NaverMovie\"\n",
    "    allow_domain = ['https://movie.naver.com/']\n",
    "    start_urls = ['https://movie.naver.com/movie/running/current.nhn']\n",
    "    \n",
    "    def parse(self, response):\n",
    "        links = response.xpath('//*[@id=\"content\"]/div[1]/div[1]/div[3]/ul/li/dl/dt/a/@href').extract()\n",
    "        links = [ response.urljoin(link) for link in links]\n",
    "        for link in links:\n",
    "            yield scrapy.Request(link, callback=self.parse_content)\n",
    "            \n",
    "    def parse_content(self, response):\n",
    "        item = NaverMovieItem()\n",
    "        item['title'] = response.xpath('//*[@id=\"content\"]/div[1]/div[2]/div[1]/h3/a[1]/text()').extract()[0]\n",
    "        try:\n",
    "            item['count'] = response.xpath('//*[@id=\"content\"]/div[1]/div[2]/div[1]/dl/dd[5]/div/p[2]/text()').extract()[0].split('명')[0]\n",
    "        except:\n",
    "            item['count'] = \"0명\"\n",
    "        star1 = response.xpath('//*[@id=\"actualPointPersentBasic\"]/div/em/text()').extract()\n",
    "        item['star'] = ''.join(star1)\n",
    "        yield item\n"
   ]
  },
  {
   "cell_type": "code",
   "execution_count": 10,
   "metadata": {},
   "outputs": [],
   "source": [
    "## 5. scrapy crawl  : 403 error 발생 : robots.txt"
   ]
  },
  {
   "cell_type": "code",
   "execution_count": 63,
   "metadata": {},
   "outputs": [
    {
     "name": "stdout",
     "output_type": "stream",
     "text": [
      "Overwriting run.sh\n"
     ]
    }
   ],
   "source": [
    "%%writefile run.sh\n",
    "cd naver_movie\n",
    "scrapy crawl NaverMovie -o movie.csv"
   ]
  },
  {
   "cell_type": "code",
   "execution_count": 54,
   "metadata": {},
   "outputs": [
    {
     "name": "stdout",
     "output_type": "stream",
     "text": [
      "2021-01-04 20:17:52 [scrapy.utils.log] INFO: Scrapy 2.4.1 started (bot: naver_movie)\n",
      "2021-01-04 20:17:52 [scrapy.utils.log] INFO: Versions: lxml 4.5.2.0, libxml2 2.9.10, cssselect 1.1.0, parsel 1.6.0, w3lib 1.22.0, Twisted 20.3.0, Python 3.8.3 (default, Jul  2 2020, 11:26:31) - [Clang 10.0.0 ], pyOpenSSL 19.1.0 (OpenSSL 1.1.1g  21 Apr 2020), cryptography 2.9.2, Platform macOS-10.15.7-x86_64-i386-64bit\n",
      "2021-01-04 20:17:52 [scrapy.utils.log] DEBUG: Using reactor: twisted.internet.selectreactor.SelectReactor\n",
      "2021-01-04 20:17:52 [scrapy.crawler] INFO: Overridden settings:\n",
      "{'BOT_NAME': 'naver_movie',\n",
      " 'NEWSPIDER_MODULE': 'naver_movie.spiders',\n",
      " 'ROBOTSTXT_OBEY': True,\n",
      " 'SPIDER_MODULES': ['naver_movie.spiders']}\n",
      "2021-01-04 20:17:52 [scrapy.extensions.telnet] INFO: Telnet Password: ed77da298663f895\n",
      "2021-01-04 20:17:52 [scrapy.middleware] INFO: Enabled extensions:\n",
      "['scrapy.extensions.corestats.CoreStats',\n",
      " 'scrapy.extensions.telnet.TelnetConsole',\n",
      " 'scrapy.extensions.memusage.MemoryUsage',\n",
      " 'scrapy.extensions.feedexport.FeedExporter',\n",
      " 'scrapy.extensions.logstats.LogStats']\n",
      "2021-01-04 20:17:52 [scrapy.middleware] INFO: Enabled downloader middlewares:\n",
      "['scrapy.downloadermiddlewares.robotstxt.RobotsTxtMiddleware',\n",
      " 'scrapy.downloadermiddlewares.httpauth.HttpAuthMiddleware',\n",
      " 'scrapy.downloadermiddlewares.downloadtimeout.DownloadTimeoutMiddleware',\n",
      " 'scrapy.downloadermiddlewares.defaultheaders.DefaultHeadersMiddleware',\n",
      " 'scrapy.downloadermiddlewares.useragent.UserAgentMiddleware',\n",
      " 'scrapy.downloadermiddlewares.retry.RetryMiddleware',\n",
      " 'scrapy.downloadermiddlewares.redirect.MetaRefreshMiddleware',\n",
      " 'scrapy.downloadermiddlewares.httpcompression.HttpCompressionMiddleware',\n",
      " 'scrapy.downloadermiddlewares.redirect.RedirectMiddleware',\n",
      " 'scrapy.downloadermiddlewares.cookies.CookiesMiddleware',\n",
      " 'scrapy.downloadermiddlewares.httpproxy.HttpProxyMiddleware',\n",
      " 'scrapy.downloadermiddlewares.stats.DownloaderStats']\n",
      "2021-01-04 20:17:52 [scrapy.middleware] INFO: Enabled spider middlewares:\n",
      "['scrapy.spidermiddlewares.httperror.HttpErrorMiddleware',\n",
      " 'scrapy.spidermiddlewares.offsite.OffsiteMiddleware',\n",
      " 'scrapy.spidermiddlewares.referer.RefererMiddleware',\n",
      " 'scrapy.spidermiddlewares.urllength.UrlLengthMiddleware',\n",
      " 'scrapy.spidermiddlewares.depth.DepthMiddleware']\n",
      "2021-01-04 20:17:52 [scrapy.middleware] INFO: Enabled item pipelines:\n",
      "[]\n",
      "2021-01-04 20:17:52 [scrapy.core.engine] INFO: Spider opened\n",
      "2021-01-04 20:17:52 [scrapy.extensions.logstats] INFO: Crawled 0 pages (at 0 pages/min), scraped 0 items (at 0 items/min)\n",
      "2021-01-04 20:17:52 [scrapy.extensions.telnet] INFO: Telnet console listening on 127.0.0.1:6023\n",
      "2021-01-04 20:17:52 [scrapy.core.engine] DEBUG: Crawled (200) <GET https://movie.naver.com/robots.txt> (referer: None)\n",
      "2021-01-04 20:17:52 [scrapy.downloadermiddlewares.robotstxt] DEBUG: Forbidden by robots.txt: <GET https://movie.naver.com/movie/running/current.nhn>\n",
      "2021-01-04 20:17:52 [scrapy.core.engine] INFO: Closing spider (finished)\n",
      "2021-01-04 20:17:52 [scrapy.statscollectors] INFO: Dumping Scrapy stats:\n",
      "{'downloader/exception_count': 1,\n",
      " 'downloader/exception_type_count/scrapy.exceptions.IgnoreRequest': 1,\n",
      " 'downloader/request_bytes': 229,\n",
      " 'downloader/request_count': 1,\n",
      " 'downloader/request_method_count/GET': 1,\n",
      " 'downloader/response_bytes': 441,\n",
      " 'downloader/response_count': 1,\n",
      " 'downloader/response_status_count/200': 1,\n",
      " 'elapsed_time_seconds': 0.286888,\n",
      " 'finish_reason': 'finished',\n",
      " 'finish_time': datetime.datetime(2021, 1, 4, 11, 17, 52, 852329),\n",
      " 'log_count/DEBUG': 2,\n",
      " 'log_count/INFO': 10,\n",
      " 'memusage/max': 50135040,\n",
      " 'memusage/startup': 50135040,\n",
      " 'response_received_count': 1,\n",
      " 'robotstxt/forbidden': 1,\n",
      " 'robotstxt/request_count': 1,\n",
      " 'robotstxt/response_count': 1,\n",
      " 'robotstxt/response_status_count/200': 1,\n",
      " 'scheduler/dequeued': 1,\n",
      " 'scheduler/dequeued/memory': 1,\n",
      " 'scheduler/enqueued': 1,\n",
      " 'scheduler/enqueued/memory': 1,\n",
      " 'start_time': datetime.datetime(2021, 1, 4, 11, 17, 52, 565441)}\n",
      "2021-01-04 20:17:52 [scrapy.core.engine] INFO: Spider closed (finished)\n"
     ]
    }
   ],
   "source": [
    "!/bin/bash run.sh"
   ]
  },
  {
   "cell_type": "code",
   "execution_count": 11,
   "metadata": {},
   "outputs": [],
   "source": [
    "## 6. settings.py \n",
    "# ROBOTSTXT_OBEY = False"
   ]
  },
  {
   "cell_type": "code",
   "execution_count": 55,
   "metadata": {},
   "outputs": [],
   "source": [
    "## 7. scrapy crawl"
   ]
  },
  {
   "cell_type": "code",
   "execution_count": 64,
   "metadata": {},
   "outputs": [
    {
     "name": "stdout",
     "output_type": "stream",
     "text": [
      "2021-01-04 20:25:17 [scrapy.utils.log] INFO: Scrapy 2.4.1 started (bot: naver_movie)\n",
      "2021-01-04 20:25:17 [scrapy.utils.log] INFO: Versions: lxml 4.5.2.0, libxml2 2.9.10, cssselect 1.1.0, parsel 1.6.0, w3lib 1.22.0, Twisted 20.3.0, Python 3.8.3 (default, Jul  2 2020, 11:26:31) - [Clang 10.0.0 ], pyOpenSSL 19.1.0 (OpenSSL 1.1.1g  21 Apr 2020), cryptography 2.9.2, Platform macOS-10.15.7-x86_64-i386-64bit\n",
      "2021-01-04 20:25:17 [scrapy.utils.log] DEBUG: Using reactor: twisted.internet.selectreactor.SelectReactor\n",
      "2021-01-04 20:25:17 [scrapy.crawler] INFO: Overridden settings:\n",
      "{'BOT_NAME': 'naver_movie',\n",
      " 'NEWSPIDER_MODULE': 'naver_movie.spiders',\n",
      " 'SPIDER_MODULES': ['naver_movie.spiders']}\n",
      "2021-01-04 20:25:17 [scrapy.extensions.telnet] INFO: Telnet Password: 4c8f2ad396a5a992\n",
      "2021-01-04 20:25:17 [scrapy.middleware] INFO: Enabled extensions:\n",
      "['scrapy.extensions.corestats.CoreStats',\n",
      " 'scrapy.extensions.telnet.TelnetConsole',\n",
      " 'scrapy.extensions.memusage.MemoryUsage',\n",
      " 'scrapy.extensions.feedexport.FeedExporter',\n",
      " 'scrapy.extensions.logstats.LogStats']\n",
      "2021-01-04 20:25:17 [scrapy.middleware] INFO: Enabled downloader middlewares:\n",
      "['scrapy.downloadermiddlewares.httpauth.HttpAuthMiddleware',\n",
      " 'scrapy.downloadermiddlewares.downloadtimeout.DownloadTimeoutMiddleware',\n",
      " 'scrapy.downloadermiddlewares.defaultheaders.DefaultHeadersMiddleware',\n",
      " 'scrapy.downloadermiddlewares.useragent.UserAgentMiddleware',\n",
      " 'scrapy.downloadermiddlewares.retry.RetryMiddleware',\n",
      " 'scrapy.downloadermiddlewares.redirect.MetaRefreshMiddleware',\n",
      " 'scrapy.downloadermiddlewares.httpcompression.HttpCompressionMiddleware',\n",
      " 'scrapy.downloadermiddlewares.redirect.RedirectMiddleware',\n",
      " 'scrapy.downloadermiddlewares.cookies.CookiesMiddleware',\n",
      " 'scrapy.downloadermiddlewares.httpproxy.HttpProxyMiddleware',\n",
      " 'scrapy.downloadermiddlewares.stats.DownloaderStats']\n",
      "2021-01-04 20:25:17 [scrapy.middleware] INFO: Enabled spider middlewares:\n",
      "['scrapy.spidermiddlewares.httperror.HttpErrorMiddleware',\n",
      " 'scrapy.spidermiddlewares.offsite.OffsiteMiddleware',\n",
      " 'scrapy.spidermiddlewares.referer.RefererMiddleware',\n",
      " 'scrapy.spidermiddlewares.urllength.UrlLengthMiddleware',\n",
      " 'scrapy.spidermiddlewares.depth.DepthMiddleware']\n",
      "2021-01-04 20:25:17 [scrapy.middleware] INFO: Enabled item pipelines:\n",
      "[]\n",
      "2021-01-04 20:25:17 [scrapy.core.engine] INFO: Spider opened\n",
      "2021-01-04 20:25:17 [scrapy.extensions.logstats] INFO: Crawled 0 pages (at 0 pages/min), scraped 0 items (at 0 items/min)\n",
      "2021-01-04 20:25:17 [scrapy.extensions.telnet] INFO: Telnet console listening on 127.0.0.1:6023\n",
      "2021-01-04 20:25:18 [scrapy.core.engine] DEBUG: Crawled (200) <GET https://movie.naver.com/movie/running/current.nhn> (referer: None)\n",
      "2021-01-04 20:25:18 [scrapy.core.engine] DEBUG: Crawled (200) <GET https://movie.naver.com/movie/bi/mi/basic.nhn?code=163834> (referer: https://movie.naver.com/movie/running/current.nhn)\n",
      "2021-01-04 20:25:18 [scrapy.core.engine] DEBUG: Crawled (200) <GET https://movie.naver.com/movie/bi/mi/basic.nhn?code=200449> (referer: https://movie.naver.com/movie/running/current.nhn)\n",
      "2021-01-04 20:25:18 [scrapy.core.engine] DEBUG: Crawled (200) <GET https://movie.naver.com/movie/bi/mi/basic.nhn?code=197487> (referer: https://movie.naver.com/movie/running/current.nhn)\n",
      "2021-01-04 20:25:18 [scrapy.core.engine] DEBUG: Crawled (200) <GET https://movie.naver.com/movie/bi/mi/basic.nhn?code=197575> (referer: https://movie.naver.com/movie/running/current.nhn)\n",
      "2021-01-04 20:25:18 [scrapy.core.engine] DEBUG: Crawled (200) <GET https://movie.naver.com/movie/bi/mi/basic.nhn?code=197647> (referer: https://movie.naver.com/movie/running/current.nhn)\n",
      "2021-01-04 20:25:18 [scrapy.core.scraper] DEBUG: Scraped from <200 https://movie.naver.com/movie/bi/mi/basic.nhn?code=163834>\n",
      "{'count': '461,434', 'star': '7.61', 'title': '원더 우먼 1984'}\n",
      "2021-01-04 20:25:18 [scrapy.core.engine] DEBUG: Crawled (200) <GET https://movie.naver.com/movie/bi/mi/basic.nhn?code=197656> (referer: https://movie.naver.com/movie/running/current.nhn)\n",
      "2021-01-04 20:25:18 [scrapy.core.engine] DEBUG: Crawled (200) <GET https://movie.naver.com/movie/bi/mi/basic.nhn?code=198737> (referer: https://movie.naver.com/movie/running/current.nhn)\n",
      "2021-01-04 20:25:18 [scrapy.core.engine] DEBUG: Crawled (200) <GET https://movie.naver.com/movie/bi/mi/basic.nhn?code=66066> (referer: https://movie.naver.com/movie/running/current.nhn)\n",
      "2021-01-04 20:25:18 [scrapy.core.engine] DEBUG: Crawled (200) <GET https://movie.naver.com/movie/bi/mi/basic.nhn?code=197505> (referer: https://movie.naver.com/movie/running/current.nhn)\n",
      "2021-01-04 20:25:18 [scrapy.core.scraper] DEBUG: Scraped from <200 https://movie.naver.com/movie/bi/mi/basic.nhn?code=200449>\n",
      "{'count': '0명', 'star': '9.00', 'title': '가을의 마티네'}\n",
      "2021-01-04 20:25:18 [scrapy.core.engine] DEBUG: Crawled (200) <GET https://movie.naver.com/movie/bi/mi/basic.nhn?code=190010> (referer: https://movie.naver.com/movie/running/current.nhn)\n",
      "2021-01-04 20:25:18 [scrapy.core.scraper] DEBUG: Scraped from <200 https://movie.naver.com/movie/bi/mi/basic.nhn?code=197487>\n",
      "{'count': '0명', 'star': '10.0', 'title': '족벌 두 신문 이야기'}\n",
      "2021-01-04 20:25:18 [scrapy.core.scraper] DEBUG: Scraped from <200 https://movie.naver.com/movie/bi/mi/basic.nhn?code=197575>\n",
      "{'count': '0명', 'star': '', 'title': '전쟁'}\n",
      "2021-01-04 20:25:18 [scrapy.core.engine] DEBUG: Crawled (200) <GET https://movie.naver.com/movie/bi/mi/basic.nhn?code=175467> (referer: https://movie.naver.com/movie/running/current.nhn)\n",
      "2021-01-04 20:25:18 [scrapy.core.scraper] DEBUG: Scraped from <200 https://movie.naver.com/movie/bi/mi/basic.nhn?code=197647>\n",
      "{'count': '0명', 'star': '9.53', 'title': '가나의 혼인잔치: 언약'}\n",
      "2021-01-04 20:25:18 [scrapy.core.scraper] DEBUG: Scraped from <200 https://movie.naver.com/movie/bi/mi/basic.nhn?code=197656>\n",
      "{'count': '0명', 'star': '8.95', 'title': '극장판 바다 탐험대 옥토넛 : 대산호초 보호작전'}\n",
      "2021-01-04 20:25:18 [scrapy.core.engine] DEBUG: Crawled (200) <GET https://movie.naver.com/movie/bi/mi/basic.nhn?code=182525> (referer: https://movie.naver.com/movie/running/current.nhn)\n",
      "2021-01-04 20:25:18 [scrapy.core.engine] DEBUG: Crawled (200) <GET https://movie.naver.com/movie/bi/mi/basic.nhn?code=189141> (referer: https://movie.naver.com/movie/running/current.nhn)\n",
      "2021-01-04 20:25:18 [scrapy.core.engine] DEBUG: Crawled (200) <GET https://movie.naver.com/movie/bi/mi/basic.nhn?code=192102> (referer: https://movie.naver.com/movie/running/current.nhn)\n",
      "2021-01-04 20:25:18 [scrapy.core.scraper] DEBUG: Scraped from <200 https://movie.naver.com/movie/bi/mi/basic.nhn?code=198737>\n",
      "{'count': '0명', 'star': '9.72', 'title': '스웨그'}\n",
      "2021-01-04 20:25:18 [scrapy.core.scraper] DEBUG: Scraped from <200 https://movie.naver.com/movie/bi/mi/basic.nhn?code=66066>\n",
      "{'count': '0명', 'star': '10.0', 'title': '함께 있을 수 있다면'}\n",
      "2021-01-04 20:25:18 [scrapy.core.scraper] DEBUG: Scraped from <200 https://movie.naver.com/movie/bi/mi/basic.nhn?code=197505>\n",
      "{'count': '0명', 'star': '7.60', 'title': '누군가 어디에서 나를 기다리면 좋겠다'}\n",
      "2021-01-04 20:25:19 [scrapy.core.engine] DEBUG: Crawled (200) <GET https://movie.naver.com/movie/bi/mi/basic.nhn?code=36843> (referer: https://movie.naver.com/movie/running/current.nhn)\n",
      "2021-01-04 20:25:19 [scrapy.core.engine] DEBUG: Crawled (200) <GET https://movie.naver.com/movie/bi/mi/basic.nhn?code=161170> (referer: https://movie.naver.com/movie/running/current.nhn)\n",
      "2021-01-04 20:25:19 [scrapy.core.engine] DEBUG: Crawled (200) <GET https://movie.naver.com/movie/bi/mi/basic.nhn?code=84516> (referer: https://movie.naver.com/movie/running/current.nhn)\n",
      "2021-01-04 20:25:19 [scrapy.core.scraper] DEBUG: Scraped from <200 https://movie.naver.com/movie/bi/mi/basic.nhn?code=190010>\n",
      "{'count': '0명', 'star': '8.77', 'title': '테넷'}\n",
      "2021-01-04 20:25:19 [scrapy.core.scraper] DEBUG: Scraped from <200 https://movie.naver.com/movie/bi/mi/basic.nhn?code=175467>\n",
      "{'count': '0명', 'star': '8.67', 'title': '뮤직 앤 리얼리티'}\n",
      "2021-01-04 20:25:19 [scrapy.core.engine] DEBUG: Crawled (200) <GET https://movie.naver.com/movie/bi/mi/basic.nhn?code=10250> (referer: https://movie.naver.com/movie/running/current.nhn)\n",
      "2021-01-04 20:25:19 [scrapy.core.engine] DEBUG: Crawled (200) <GET https://movie.naver.com/movie/bi/mi/basic.nhn?code=35189> (referer: https://movie.naver.com/movie/running/current.nhn)\n"
     ]
    },
    {
     "name": "stdout",
     "output_type": "stream",
     "text": [
      "2021-01-04 20:25:19 [scrapy.core.scraper] DEBUG: Scraped from <200 https://movie.naver.com/movie/bi/mi/basic.nhn?code=182525>\n",
      "{'count': '0명', 'star': '9.57', 'title': '언플랜드'}\n",
      "2021-01-04 20:25:19 [scrapy.core.scraper] DEBUG: Scraped from <200 https://movie.naver.com/movie/bi/mi/basic.nhn?code=189141>\n",
      "{'count': '0명', 'star': '9.04', 'title': '삼진그룹 영어토익반'}\n",
      "2021-01-04 20:25:19 [scrapy.core.scraper] DEBUG: Scraped from <200 https://movie.naver.com/movie/bi/mi/basic.nhn?code=192102>\n",
      "{'count': '0명', 'star': '8.83', 'title': '운디네'}\n",
      "2021-01-04 20:25:19 [scrapy.core.engine] DEBUG: Crawled (200) <GET https://movie.naver.com/movie/bi/mi/basic.nhn?code=155123> (referer: https://movie.naver.com/movie/running/current.nhn)\n",
      "2021-01-04 20:25:19 [scrapy.core.engine] DEBUG: Crawled (200) <GET https://movie.naver.com/movie/bi/mi/basic.nhn?code=10286> (referer: https://movie.naver.com/movie/running/current.nhn)\n",
      "2021-01-04 20:25:19 [scrapy.core.engine] DEBUG: Crawled (200) <GET https://movie.naver.com/movie/bi/mi/basic.nhn?code=38461> (referer: https://movie.naver.com/movie/running/current.nhn)\n",
      "2021-01-04 20:25:19 [scrapy.core.engine] DEBUG: Crawled (200) <GET https://movie.naver.com/movie/bi/mi/basic.nhn?code=38730> (referer: https://movie.naver.com/movie/running/current.nhn)\n",
      "2021-01-04 20:25:19 [scrapy.core.scraper] DEBUG: Scraped from <200 https://movie.naver.com/movie/bi/mi/basic.nhn?code=36843>\n",
      "{'count': '0명', 'star': '9.23', 'title': '러브 액츄얼리'}\n",
      "2021-01-04 20:25:19 [scrapy.core.scraper] DEBUG: Scraped from <200 https://movie.naver.com/movie/bi/mi/basic.nhn?code=161170>\n",
      "{'count': '0명', 'star': '8.43', 'title': '리플레이'}\n",
      "2021-01-04 20:25:19 [scrapy.core.scraper] DEBUG: Scraped from <200 https://movie.naver.com/movie/bi/mi/basic.nhn?code=84516>\n",
      "{'count': '0명', 'star': '7.00', 'title': '흐트러지다'}\n",
      "2021-01-04 20:25:19 [scrapy.core.engine] DEBUG: Crawled (200) <GET https://movie.naver.com/movie/bi/mi/basic.nhn?code=188795> (referer: https://movie.naver.com/movie/running/current.nhn)\n",
      "2021-01-04 20:25:19 [scrapy.core.engine] DEBUG: Crawled (200) <GET https://movie.naver.com/movie/bi/mi/basic.nhn?code=127396> (referer: https://movie.naver.com/movie/running/current.nhn)\n",
      "2021-01-04 20:25:19 [scrapy.core.scraper] DEBUG: Scraped from <200 https://movie.naver.com/movie/bi/mi/basic.nhn?code=10250>\n",
      "{'count': '0명', 'star': '7.75', 'title': '해리가 샐리를 만났을 때'}\n",
      "2021-01-04 20:25:19 [scrapy.core.scraper] DEBUG: Scraped from <200 https://movie.naver.com/movie/bi/mi/basic.nhn?code=35189>\n",
      "{'count': '0명', 'star': '9.09', 'title': '펀치 드렁크 러브'}\n",
      "2021-01-04 20:25:19 [scrapy.core.scraper] DEBUG: Scraped from <200 https://movie.naver.com/movie/bi/mi/basic.nhn?code=155123>\n",
      "{'count': '0명', 'star': '9.33', 'title': '미스 사이공: 25주년 특별 공연'}\n",
      "2021-01-04 20:25:19 [scrapy.core.scraper] DEBUG: Scraped from <200 https://movie.naver.com/movie/bi/mi/basic.nhn?code=10286>\n",
      "{'count': '0명', 'star': '', 'title': '뜨거운 것이 좋아'}\n",
      "2021-01-04 20:25:19 [scrapy.core.scraper] DEBUG: Scraped from <200 https://movie.naver.com/movie/bi/mi/basic.nhn?code=38461>\n",
      "{'count': '0명', 'star': '9.00', 'title': '하나와 앨리스'}\n",
      "2021-01-04 20:25:19 [scrapy.core.scraper] DEBUG: Scraped from <200 https://movie.naver.com/movie/bi/mi/basic.nhn?code=38730>\n",
      "{'count': '0명', 'star': '8.00', 'title': '초여름'}\n",
      "2021-01-04 20:25:19 [scrapy.core.engine] DEBUG: Crawled (200) <GET https://movie.naver.com/movie/bi/mi/basic.nhn?code=186114> (referer: https://movie.naver.com/movie/running/current.nhn)\n",
      "2021-01-04 20:25:19 [scrapy.core.engine] DEBUG: Crawled (200) <GET https://movie.naver.com/movie/bi/mi/basic.nhn?code=17942> (referer: https://movie.naver.com/movie/running/current.nhn)\n",
      "2021-01-04 20:25:19 [scrapy.core.engine] DEBUG: Crawled (200) <GET https://movie.naver.com/movie/bi/mi/basic.nhn?code=180851> (referer: https://movie.naver.com/movie/running/current.nhn)\n",
      "2021-01-04 20:25:19 [scrapy.core.scraper] DEBUG: Scraped from <200 https://movie.naver.com/movie/bi/mi/basic.nhn?code=188795>\n",
      "{'count': '0명', 'star': '9.40', 'title': '프록시마 프로젝트'}\n",
      "2021-01-04 20:25:19 [scrapy.core.scraper] DEBUG: Scraped from <200 https://movie.naver.com/movie/bi/mi/basic.nhn?code=127396>\n",
      "{'count': '0명', 'star': '9.00', 'title': '캡틴 판타스틱'}\n",
      "2021-01-04 20:25:19 [scrapy.core.engine] DEBUG: Crawled (200) <GET https://movie.naver.com/movie/bi/mi/basic.nhn?code=10546> (referer: https://movie.naver.com/movie/running/current.nhn)\n",
      "2021-01-04 20:25:19 [scrapy.core.engine] DEBUG: Crawled (200) <GET https://movie.naver.com/movie/bi/mi/basic.nhn?code=168065> (referer: https://movie.naver.com/movie/running/current.nhn)\n",
      "2021-01-04 20:25:19 [scrapy.core.engine] DEBUG: Crawled (200) <GET https://movie.naver.com/movie/bi/mi/basic.nhn?code=94131> (referer: https://movie.naver.com/movie/running/current.nhn)\n",
      "2021-01-04 20:25:19 [scrapy.core.engine] DEBUG: Crawled (200) <GET https://movie.naver.com/movie/bi/mi/basic.nhn?code=10343> (referer: https://movie.naver.com/movie/running/current.nhn)\n",
      "2021-01-04 20:25:19 [scrapy.core.engine] DEBUG: Crawled (200) <GET https://movie.naver.com/movie/bi/mi/basic.nhn?code=38728> (referer: https://movie.naver.com/movie/running/current.nhn)\n",
      "2021-01-04 20:25:19 [scrapy.core.scraper] DEBUG: Scraped from <200 https://movie.naver.com/movie/bi/mi/basic.nhn?code=186114>\n",
      "{'count': '0명', 'star': '9.70', 'title': '밥정'}\n",
      "2021-01-04 20:25:19 [scrapy.core.scraper] DEBUG: Scraped from <200 https://movie.naver.com/movie/bi/mi/basic.nhn?code=17942>\n",
      "{'count': '0명', 'star': '9.00', 'title': '제리 맥과이어'}\n",
      "2021-01-04 20:25:19 [scrapy.core.scraper] DEBUG: Scraped from <200 https://movie.naver.com/movie/bi/mi/basic.nhn?code=180851>\n",
      "{'count': '0명', 'star': '8.83', 'title': '작은 빛'}\n",
      "2021-01-04 20:25:19 [scrapy.core.engine] DEBUG: Crawled (200) <GET https://movie.naver.com/movie/bi/mi/basic.nhn?code=192191> (referer: https://movie.naver.com/movie/running/current.nhn)\n",
      "2021-01-04 20:25:19 [scrapy.core.engine] DEBUG: Crawled (200) <GET https://movie.naver.com/movie/bi/mi/basic.nhn?code=38723> (referer: https://movie.naver.com/movie/running/current.nhn)\n",
      "2021-01-04 20:25:19 [scrapy.core.engine] DEBUG: Crawled (200) <GET https://movie.naver.com/movie/bi/mi/basic.nhn?code=19222> (referer: https://movie.naver.com/movie/running/current.nhn)\n",
      "2021-01-04 20:25:20 [scrapy.core.scraper] DEBUG: Scraped from <200 https://movie.naver.com/movie/bi/mi/basic.nhn?code=10546>\n",
      "{'count': '0명', 'star': '8.89', 'title': '아비정전'}\n",
      "2021-01-04 20:25:20 [scrapy.core.scraper] DEBUG: Scraped from <200 https://movie.naver.com/movie/bi/mi/basic.nhn?code=168065>\n",
      "{'count': '0명', 'star': '9.50', 'title': '버든: 세상을 바꾸는 힘'}\n",
      "2021-01-04 20:25:20 [scrapy.core.engine] DEBUG: Crawled (200) <GET https://movie.naver.com/movie/bi/mi/basic.nhn?code=38720> (referer: https://movie.naver.com/movie/running/current.nhn)\n",
      "2021-01-04 20:25:20 [scrapy.core.engine] DEBUG: Crawled (200) <GET https://movie.naver.com/movie/bi/mi/basic.nhn?code=185282> (referer: https://movie.naver.com/movie/running/current.nhn)\n",
      "2021-01-04 20:25:20 [scrapy.core.engine] DEBUG: Crawled (200) <GET https://movie.naver.com/movie/bi/mi/basic.nhn?code=11151> (referer: https://movie.naver.com/movie/running/current.nhn)\n",
      "2021-01-04 20:25:20 [scrapy.core.engine] DEBUG: Crawled (200) <GET https://movie.naver.com/movie/bi/mi/basic.nhn?code=143619> (referer: https://movie.naver.com/movie/running/current.nhn)\n",
      "2021-01-04 20:25:20 [scrapy.core.scraper] DEBUG: Scraped from <200 https://movie.naver.com/movie/bi/mi/basic.nhn?code=94131>\n",
      "{'count': '0명', 'star': '7.82', 'title': '루비 스팍스'}\n",
      "2021-01-04 20:25:20 [scrapy.core.scraper] DEBUG: Scraped from <200 https://movie.naver.com/movie/bi/mi/basic.nhn?code=10343>\n",
      "{'count': '0명', 'star': '10.0', 'title': '레베카'}\n",
      "2021-01-04 20:25:20 [scrapy.core.scraper] DEBUG: Scraped from <200 https://movie.naver.com/movie/bi/mi/basic.nhn?code=38728>\n",
      "{'count': '0명', 'star': '8.60', 'title': '동경의 황혼'}\n",
      "2021-01-04 20:25:20 [scrapy.core.engine] DEBUG: Crawled (200) <GET https://movie.naver.com/movie/bi/mi/basic.nhn?code=38464> (referer: https://movie.naver.com/movie/running/current.nhn)\n",
      "2021-01-04 20:25:20 [scrapy.core.engine] DEBUG: Crawled (200) <GET https://movie.naver.com/movie/bi/mi/basic.nhn?code=189624> (referer: https://movie.naver.com/movie/running/current.nhn)\n",
      "2021-01-04 20:25:20 [scrapy.core.engine] DEBUG: Crawled (200) <GET https://movie.naver.com/movie/bi/mi/basic.nhn?code=182387> (referer: https://movie.naver.com/movie/running/current.nhn)\n",
      "2021-01-04 20:25:20 [scrapy.core.engine] DEBUG: Crawled (200) <GET https://movie.naver.com/movie/bi/mi/basic.nhn?code=194273> (referer: https://movie.naver.com/movie/running/current.nhn)\n"
     ]
    },
    {
     "name": "stdout",
     "output_type": "stream",
     "text": [
      "2021-01-04 20:25:20 [scrapy.core.scraper] DEBUG: Scraped from <200 https://movie.naver.com/movie/bi/mi/basic.nhn?code=192191>\n",
      "{'count': '0명', 'star': '8.08', 'title': '도망친 여자'}\n",
      "2021-01-04 20:25:20 [scrapy.core.scraper] DEBUG: Scraped from <200 https://movie.naver.com/movie/bi/mi/basic.nhn?code=38723>\n",
      "{'count': '0명', 'star': '9.20', 'title': '꽁치의 맛'}\n",
      "2021-01-04 20:25:20 [scrapy.core.scraper] DEBUG: Scraped from <200 https://movie.naver.com/movie/bi/mi/basic.nhn?code=19222>\n",
      "{'count': '0명', 'star': '', 'title': '공작 부인'}\n",
      "2021-01-04 20:25:20 [scrapy.core.scraper] DEBUG: Scraped from <200 https://movie.naver.com/movie/bi/mi/basic.nhn?code=38720>\n",
      "{'count': '0명', 'star': '8.00', 'title': '가을 햇살'}\n",
      "2021-01-04 20:25:20 [scrapy.core.scraper] DEBUG: Scraped from <200 https://movie.naver.com/movie/bi/mi/basic.nhn?code=185282>\n",
      "{'count': '0명', 'star': '9.15', 'title': '타오르는 여인의 초상'}\n",
      "2021-01-04 20:25:20 [scrapy.core.scraper] DEBUG: Scraped from <200 https://movie.naver.com/movie/bi/mi/basic.nhn?code=11151>\n",
      "{'count': '0명', 'star': '8.75', 'title': '퐁네프의 연인들'}\n",
      "2021-01-04 20:25:20 [scrapy.core.scraper] DEBUG: Scraped from <200 https://movie.naver.com/movie/bi/mi/basic.nhn?code=143619>\n",
      "{'count': '0명', 'star': '4.00', 'title': '탱크 투 베를린'}\n",
      "2021-01-04 20:25:20 [scrapy.core.scraper] DEBUG: Scraped from <200 https://movie.naver.com/movie/bi/mi/basic.nhn?code=38464>\n",
      "{'count': '0명', 'star': '9.22', 'title': '조제, 호랑이 그리고 물고기들'}\n",
      "2021-01-04 20:25:20 [scrapy.core.scraper] DEBUG: Scraped from <200 https://movie.naver.com/movie/bi/mi/basic.nhn?code=189624>\n",
      "{'count': '0명', 'star': '9.13', 'title': '찬실이는 복도 많지'}\n",
      "2021-01-04 20:25:20 [scrapy.core.engine] DEBUG: Crawled (200) <GET https://movie.naver.com/movie/bi/mi/basic.nhn?code=188030> (referer: https://movie.naver.com/movie/running/current.nhn)\n",
      "2021-01-04 20:25:20 [scrapy.core.engine] DEBUG: Crawled (200) <GET https://movie.naver.com/movie/bi/mi/basic.nhn?code=187811> (referer: https://movie.naver.com/movie/running/current.nhn)\n",
      "2021-01-04 20:25:20 [scrapy.core.engine] DEBUG: Crawled (200) <GET https://movie.naver.com/movie/bi/mi/basic.nhn?code=197512> (referer: https://movie.naver.com/movie/running/current.nhn)\n",
      "2021-01-04 20:25:20 [scrapy.core.engine] DEBUG: Crawled (200) <GET https://movie.naver.com/movie/bi/mi/basic.nhn?code=197278> (referer: https://movie.naver.com/movie/running/current.nhn)\n",
      "2021-01-04 20:25:20 [scrapy.core.engine] DEBUG: Crawled (200) <GET https://movie.naver.com/movie/bi/mi/basic.nhn?code=71151> (referer: https://movie.naver.com/movie/running/current.nhn)\n",
      "2021-01-04 20:25:20 [scrapy.core.scraper] DEBUG: Scraped from <200 https://movie.naver.com/movie/bi/mi/basic.nhn?code=182387>\n",
      "{'count': '0명', 'star': '9.23', 'title': '윤희에게'}\n",
      "2021-01-04 20:25:20 [scrapy.core.scraper] DEBUG: Scraped from <200 https://movie.naver.com/movie/bi/mi/basic.nhn?code=194273>\n",
      "{'count': '0명', 'star': '10.0', 'title': '머리카락'}\n",
      "2021-01-04 20:25:20 [scrapy.core.engine] DEBUG: Crawled (200) <GET https://movie.naver.com/movie/bi/mi/basic.nhn?code=159286> (referer: https://movie.naver.com/movie/running/current.nhn)\n",
      "2021-01-04 20:25:20 [scrapy.core.engine] DEBUG: Crawled (200) <GET https://movie.naver.com/movie/bi/mi/basic.nhn?code=171026> (referer: https://movie.naver.com/movie/running/current.nhn)\n",
      "2021-01-04 20:25:20 [scrapy.core.engine] DEBUG: Crawled (200) <GET https://movie.naver.com/movie/bi/mi/basic.nhn?code=192066> (referer: https://movie.naver.com/movie/running/current.nhn)\n",
      "2021-01-04 20:25:20 [scrapy.core.scraper] DEBUG: Scraped from <200 https://movie.naver.com/movie/bi/mi/basic.nhn?code=188030>\n",
      "{'count': '0명', 'star': '8.17', 'title': '산티아고의 흰 지팡이'}\n",
      "2021-01-04 20:25:20 [scrapy.core.scraper] DEBUG: Scraped from <200 https://movie.naver.com/movie/bi/mi/basic.nhn?code=187811>\n",
      "{'count': '0명', 'star': '', 'title': '그날이 온다'}\n",
      "2021-01-04 20:25:20 [scrapy.core.scraper] DEBUG: Scraped from <200 https://movie.naver.com/movie/bi/mi/basic.nhn?code=197512>\n",
      "{'count': '0명', 'star': '9.17', 'title': '마지막 휴가'}\n",
      "2021-01-04 20:25:20 [scrapy.core.scraper] DEBUG: Scraped from <200 https://movie.naver.com/movie/bi/mi/basic.nhn?code=197278>\n",
      "{'count': '0명', 'star': '8.69', 'title': '프리키 데스데이'}\n",
      "2021-01-04 20:25:20 [scrapy.core.scraper] DEBUG: Scraped from <200 https://movie.naver.com/movie/bi/mi/basic.nhn?code=71151>\n",
      "{'count': '0명', 'star': '8.09', 'title': '아이 엠 러브'}\n",
      "2021-01-04 20:25:20 [scrapy.core.scraper] DEBUG: Scraped from <200 https://movie.naver.com/movie/bi/mi/basic.nhn?code=159286>\n",
      "{'count': '0명', 'star': '9.11', 'title': '마틴 에덴'}\n",
      "2021-01-04 20:25:20 [scrapy.core.scraper] DEBUG: Scraped from <200 https://movie.naver.com/movie/bi/mi/basic.nhn?code=171026>\n",
      "{'count': '0명', 'star': '5.50', 'title': '로맨틱 코미디'}\n",
      "2021-01-04 20:25:21 [scrapy.core.scraper] DEBUG: Scraped from <200 https://movie.naver.com/movie/bi/mi/basic.nhn?code=192066>\n",
      "{'count': '0명', 'star': '9.24', 'title': '소년시절의 너'}\n",
      "2021-01-04 20:25:21 [scrapy.core.engine] DEBUG: Crawled (200) <GET https://movie.naver.com/movie/bi/mi/basic.nhn?code=10132> (referer: https://movie.naver.com/movie/running/current.nhn)\n",
      "2021-01-04 20:25:21 [scrapy.core.engine] DEBUG: Crawled (200) <GET https://movie.naver.com/movie/bi/mi/basic.nhn?code=96379> (referer: https://movie.naver.com/movie/running/current.nhn)\n",
      "2021-01-04 20:25:21 [scrapy.core.engine] DEBUG: Crawled (200) <GET https://movie.naver.com/movie/bi/mi/basic.nhn?code=181698> (referer: https://movie.naver.com/movie/running/current.nhn)\n",
      "2021-01-04 20:25:21 [scrapy.core.engine] DEBUG: Crawled (200) <GET https://movie.naver.com/movie/bi/mi/basic.nhn?code=194334> (referer: https://movie.naver.com/movie/running/current.nhn)\n",
      "2021-01-04 20:25:21 [scrapy.core.engine] DEBUG: Crawled (200) <GET https://movie.naver.com/movie/bi/mi/basic.nhn?code=187357> (referer: https://movie.naver.com/movie/running/current.nhn)\n",
      "2021-01-04 20:25:21 [scrapy.core.engine] DEBUG: Crawled (200) <GET https://movie.naver.com/movie/bi/mi/basic.nhn?code=189393> (referer: https://movie.naver.com/movie/running/current.nhn)\n",
      "2021-01-04 20:25:21 [scrapy.core.engine] DEBUG: Crawled (200) <GET https://movie.naver.com/movie/bi/mi/basic.nhn?code=12077> (referer: https://movie.naver.com/movie/running/current.nhn)\n",
      "2021-01-04 20:25:21 [scrapy.core.engine] DEBUG: Crawled (200) <GET https://movie.naver.com/movie/bi/mi/basic.nhn?code=189634> (referer: https://movie.naver.com/movie/running/current.nhn)\n",
      "2021-01-04 20:25:21 [scrapy.core.scraper] DEBUG: Scraped from <200 https://movie.naver.com/movie/bi/mi/basic.nhn?code=10132>\n",
      "{'count': '0명', 'star': '', 'title': '귀여운 여인'}\n",
      "2021-01-04 20:25:21 [scrapy.core.scraper] DEBUG: Scraped from <200 https://movie.naver.com/movie/bi/mi/basic.nhn?code=96379>\n",
      "{'count': '0명', 'star': '9.13', 'title': '비긴 어게인'}\n",
      "2021-01-04 20:25:21 [scrapy.core.scraper] DEBUG: Scraped from <200 https://movie.naver.com/movie/bi/mi/basic.nhn?code=181698>\n",
      "{'count': '0명', 'star': '8.64', 'title': '존 윅 3: 파라벨룸'}\n",
      "2021-01-04 20:25:21 [scrapy.core.scraper] DEBUG: Scraped from <200 https://movie.naver.com/movie/bi/mi/basic.nhn?code=194334>\n",
      "{'count': '0명', 'star': '9.82', 'title': '부활: 그 증거'}\n",
      "2021-01-04 20:25:21 [scrapy.core.scraper] DEBUG: Scraped from <200 https://movie.naver.com/movie/bi/mi/basic.nhn?code=187357>\n",
      "{'count': '0명', 'star': '7.92', 'title': '럭키 몬스터'}\n",
      "2021-01-04 20:25:21 [scrapy.core.scraper] DEBUG: Scraped from <200 https://movie.naver.com/movie/bi/mi/basic.nhn?code=189393>\n",
      "{'count': '0명', 'star': '9.00', 'title': '교실 안의 야크'}\n",
      "2021-01-04 20:25:21 [scrapy.core.scraper] DEBUG: Scraped from <200 https://movie.naver.com/movie/bi/mi/basic.nhn?code=12077>\n",
      "{'count': '0명', 'star': '9.13', 'title': '달맞이꽃'}\n",
      "2021-01-04 20:25:21 [scrapy.core.scraper] DEBUG: Scraped from <200 https://movie.naver.com/movie/bi/mi/basic.nhn?code=189634>\n",
      "{'count': '0명', 'star': '9.00', 'title': '에듀케이션'}\n",
      "2021-01-04 20:25:21 [scrapy.core.engine] DEBUG: Crawled (200) <GET https://movie.naver.com/movie/bi/mi/basic.nhn?code=200219> (referer: https://movie.naver.com/movie/running/current.nhn)\n",
      "2021-01-04 20:25:21 [scrapy.core.engine] DEBUG: Crawled (200) <GET https://movie.naver.com/movie/bi/mi/basic.nhn?code=13957> (referer: https://movie.naver.com/movie/running/current.nhn)\n",
      "2021-01-04 20:25:21 [scrapy.core.engine] DEBUG: Crawled (200) <GET https://movie.naver.com/movie/bi/mi/basic.nhn?code=27255> (referer: https://movie.naver.com/movie/running/current.nhn)\n"
     ]
    },
    {
     "name": "stdout",
     "output_type": "stream",
     "text": [
      "2021-01-04 20:25:21 [scrapy.core.engine] DEBUG: Crawled (200) <GET https://movie.naver.com/movie/bi/mi/basic.nhn?code=198430> (referer: https://movie.naver.com/movie/running/current.nhn)\n",
      "2021-01-04 20:25:21 [scrapy.core.engine] DEBUG: Crawled (200) <GET https://movie.naver.com/movie/bi/mi/basic.nhn?code=188431> (referer: https://movie.naver.com/movie/running/current.nhn)\n",
      "2021-01-04 20:25:21 [scrapy.core.engine] DEBUG: Crawled (200) <GET https://movie.naver.com/movie/bi/mi/basic.nhn?code=187848> (referer: https://movie.naver.com/movie/running/current.nhn)\n",
      "2021-01-04 20:25:21 [scrapy.core.engine] DEBUG: Crawled (200) <GET https://movie.naver.com/movie/bi/mi/basic.nhn?code=187845> (referer: https://movie.naver.com/movie/running/current.nhn)\n",
      "2021-01-04 20:25:21 [scrapy.core.engine] DEBUG: Crawled (200) <GET https://movie.naver.com/movie/bi/mi/basic.nhn?code=189623> (referer: https://movie.naver.com/movie/running/current.nhn)\n",
      "2021-01-04 20:25:21 [scrapy.core.scraper] DEBUG: Scraped from <200 https://movie.naver.com/movie/bi/mi/basic.nhn?code=200219>\n",
      "{'count': '0명', 'star': '8.50', 'title': '800'}\n",
      "2021-01-04 20:25:21 [scrapy.core.scraper] DEBUG: Scraped from <200 https://movie.naver.com/movie/bi/mi/basic.nhn?code=13957>\n",
      "{'count': '0명', 'star': '10.0', 'title': '사랑의 블랙홀'}\n",
      "2021-01-04 20:25:21 [scrapy.core.scraper] DEBUG: Scraped from <200 https://movie.naver.com/movie/bi/mi/basic.nhn?code=27255>\n",
      "{'count': '0명', 'star': '8.90', 'title': '철도원'}\n",
      "2021-01-04 20:25:21 [scrapy.core.scraper] DEBUG: Scraped from <200 https://movie.naver.com/movie/bi/mi/basic.nhn?code=198430>\n",
      "{'count': '0명', 'star': '8.17', 'title': '애비규환'}\n",
      "2021-01-04 20:25:21 [scrapy.core.scraper] DEBUG: Scraped from <200 https://movie.naver.com/movie/bi/mi/basic.nhn?code=188431>\n",
      "{'count': '0명', 'star': '8.57', 'title': '안티고네'}\n",
      "2021-01-04 20:25:21 [scrapy.core.scraper] DEBUG: Scraped from <200 https://movie.naver.com/movie/bi/mi/basic.nhn?code=187848>\n",
      "{'count': '0명', 'star': '7.00', 'title': '퍼스트 러브'}\n",
      "2021-01-04 20:25:21 [scrapy.core.scraper] DEBUG: Scraped from <200 https://movie.naver.com/movie/bi/mi/basic.nhn?code=187845>\n",
      "{'count': '0명', 'star': '8.54', 'title': '그리고 우린 춤을 추었다'}\n",
      "2021-01-04 20:25:21 [scrapy.core.scraper] DEBUG: Scraped from <200 https://movie.naver.com/movie/bi/mi/basic.nhn?code=189623>\n",
      "{'count': '0명', 'star': '9.01', 'title': '남매의 여름밤'}\n",
      "2021-01-04 20:25:21 [scrapy.core.engine] DEBUG: Crawled (200) <GET https://movie.naver.com/movie/bi/mi/basic.nhn?code=195659> (referer: https://movie.naver.com/movie/running/current.nhn)\n",
      "2021-01-04 20:25:21 [scrapy.core.engine] DEBUG: Crawled (200) <GET https://movie.naver.com/movie/bi/mi/basic.nhn?code=194910> (referer: https://movie.naver.com/movie/running/current.nhn)\n",
      "2021-01-04 20:25:21 [scrapy.core.engine] DEBUG: Crawled (200) <GET https://movie.naver.com/movie/bi/mi/basic.nhn?code=193195> (referer: https://movie.naver.com/movie/running/current.nhn)\n",
      "2021-01-04 20:25:21 [scrapy.core.engine] DEBUG: Crawled (200) <GET https://movie.naver.com/movie/bi/mi/basic.nhn?code=196839> (referer: https://movie.naver.com/movie/running/current.nhn)\n",
      "2021-01-04 20:25:21 [scrapy.core.engine] DEBUG: Crawled (200) <GET https://movie.naver.com/movie/bi/mi/basic.nhn?code=14802> (referer: https://movie.naver.com/movie/running/current.nhn)\n",
      "2021-01-04 20:25:21 [scrapy.core.engine] DEBUG: Crawled (200) <GET https://movie.naver.com/movie/bi/mi/basic.nhn?code=38899> (referer: https://movie.naver.com/movie/running/current.nhn)\n",
      "2021-01-04 20:25:21 [scrapy.core.engine] DEBUG: Crawled (200) <GET https://movie.naver.com/movie/bi/mi/basic.nhn?code=174269> (referer: https://movie.naver.com/movie/running/current.nhn)\n",
      "2021-01-04 20:25:21 [scrapy.core.engine] DEBUG: Crawled (200) <GET https://movie.naver.com/movie/bi/mi/basic.nhn?code=187305> (referer: https://movie.naver.com/movie/running/current.nhn)\n",
      "2021-01-04 20:25:21 [scrapy.core.scraper] DEBUG: Scraped from <200 https://movie.naver.com/movie/bi/mi/basic.nhn?code=195659>\n",
      "{'count': '0명', 'star': '9.92', 'title': '봉쇄수도원 카르투시오'}\n",
      "2021-01-04 20:25:21 [scrapy.core.scraper] DEBUG: Scraped from <200 https://movie.naver.com/movie/bi/mi/basic.nhn?code=194910>\n",
      "{'count': '0명', 'star': '9.47', 'title': '잔칫날'}\n",
      "2021-01-04 20:25:21 [scrapy.core.scraper] DEBUG: Scraped from <200 https://movie.naver.com/movie/bi/mi/basic.nhn?code=193195>\n",
      "{'count': '0명', 'star': '9.25', 'title': '파티마의 기적'}\n",
      "2021-01-04 20:25:22 [scrapy.core.engine] DEBUG: Crawled (200) <GET https://movie.naver.com/movie/bi/mi/basic.nhn?code=134963> (referer: https://movie.naver.com/movie/running/current.nhn)\n",
      "2021-01-04 20:25:22 [scrapy.core.scraper] DEBUG: Scraped from <200 https://movie.naver.com/movie/bi/mi/basic.nhn?code=196839>\n",
      "{'count': '0명', 'star': '9.03', 'title': '극장판 미니특공대: 햄버거괴물의 습격'}\n",
      "2021-01-04 20:25:22 [scrapy.core.engine] DEBUG: Crawled (200) <GET https://movie.naver.com/movie/bi/mi/basic.nhn?code=183866> (referer: https://movie.naver.com/movie/running/current.nhn)\n",
      "2021-01-04 20:25:22 [scrapy.core.scraper] DEBUG: Scraped from <200 https://movie.naver.com/movie/bi/mi/basic.nhn?code=14802>\n",
      "{'count': '0명', 'star': '9.29', 'title': '글루미 선데이'}\n",
      "2021-01-04 20:25:22 [scrapy.core.scraper] DEBUG: Scraped from <200 https://movie.naver.com/movie/bi/mi/basic.nhn?code=38899>\n",
      "{'count': '0명', 'star': '9.48', 'title': '노트북'}\n",
      "2021-01-04 20:25:22 [scrapy.core.scraper] DEBUG: Scraped from <200 https://movie.naver.com/movie/bi/mi/basic.nhn?code=174269>\n",
      "{'count': '0명', 'star': '8.29', 'title': '겨울밤에'}\n",
      "2021-01-04 20:25:22 [scrapy.core.engine] DEBUG: Crawled (200) <GET https://movie.naver.com/movie/bi/mi/basic.nhn?code=189123> (referer: https://movie.naver.com/movie/running/current.nhn)\n",
      "2021-01-04 20:25:22 [scrapy.core.engine] DEBUG: Crawled (200) <GET https://movie.naver.com/movie/bi/mi/basic.nhn?code=73558> (referer: https://movie.naver.com/movie/running/current.nhn)\n",
      "2021-01-04 20:25:22 [scrapy.core.scraper] DEBUG: Scraped from <200 https://movie.naver.com/movie/bi/mi/basic.nhn?code=187305>\n",
      "{'count': '0명', 'star': '8.52', 'title': '극장판 포켓몬스터 뮤츠의 역습 EVOLUTION'}\n",
      "2021-01-04 20:25:22 [scrapy.core.engine] DEBUG: Crawled (200) <GET https://movie.naver.com/movie/bi/mi/basic.nhn?code=195093> (referer: https://movie.naver.com/movie/running/current.nhn)\n",
      "2021-01-04 20:25:22 [scrapy.core.engine] DEBUG: Crawled (200) <GET https://movie.naver.com/movie/bi/mi/basic.nhn?code=195595> (referer: https://movie.naver.com/movie/running/current.nhn)\n",
      "2021-01-04 20:25:22 [scrapy.core.engine] DEBUG: Crawled (200) <GET https://movie.naver.com/movie/bi/mi/basic.nhn?code=195687> (referer: https://movie.naver.com/movie/running/current.nhn)\n",
      "2021-01-04 20:25:22 [scrapy.core.scraper] DEBUG: Scraped from <200 https://movie.naver.com/movie/bi/mi/basic.nhn?code=134963>\n",
      "{'count': '0명', 'star': '8.91', 'title': '라라랜드'}\n",
      "2021-01-04 20:25:22 [scrapy.core.engine] DEBUG: Crawled (200) <GET https://movie.naver.com/movie/bi/mi/basic.nhn?code=188447> (referer: https://movie.naver.com/movie/running/current.nhn)\n",
      "2021-01-04 20:25:22 [scrapy.core.scraper] DEBUG: Scraped from <200 https://movie.naver.com/movie/bi/mi/basic.nhn?code=183866>\n",
      "{'count': '0명', 'star': '9.17', 'title': '담보'}\n",
      "2021-01-04 20:25:22 [scrapy.core.engine] DEBUG: Crawled (200) <GET https://movie.naver.com/movie/bi/mi/basic.nhn?code=193331> (referer: https://movie.naver.com/movie/running/current.nhn)\n",
      "2021-01-04 20:25:22 [scrapy.core.scraper] DEBUG: Scraped from <200 https://movie.naver.com/movie/bi/mi/basic.nhn?code=189123>\n",
      "{'count': '0명', 'star': '8.38', 'title': '하트'}\n",
      "2021-01-04 20:25:22 [scrapy.core.scraper] DEBUG: Scraped from <200 https://movie.naver.com/movie/bi/mi/basic.nhn?code=73558>\n",
      "{'count': '0명', 'star': '9.60', 'title': '장 미쉘 바스키아: 더 레이디언트 차일드'}\n",
      "2021-01-04 20:25:22 [scrapy.core.engine] DEBUG: Crawled (200) <GET https://movie.naver.com/movie/bi/mi/basic.nhn?code=194811> (referer: https://movie.naver.com/movie/running/current.nhn)\n",
      "2021-01-04 20:25:22 [scrapy.core.engine] DEBUG: Crawled (200) <GET https://movie.naver.com/movie/bi/mi/basic.nhn?code=200180> (referer: https://movie.naver.com/movie/running/current.nhn)\n",
      "2021-01-04 20:25:22 [scrapy.core.scraper] DEBUG: Scraped from <200 https://movie.naver.com/movie/bi/mi/basic.nhn?code=195093>\n",
      "{'count': '0명', 'star': '', 'title': '선샤인 패밀리'}\n",
      "2021-01-04 20:25:22 [scrapy.core.scraper] DEBUG: Scraped from <200 https://movie.naver.com/movie/bi/mi/basic.nhn?code=195595>\n",
      "{'count': '0명', 'star': '9.45', 'title': '극장판 기븐'}\n",
      "2021-01-04 20:25:22 [scrapy.core.engine] DEBUG: Crawled (200) <GET https://movie.naver.com/movie/bi/mi/basic.nhn?code=163805> (referer: https://movie.naver.com/movie/running/current.nhn)\n"
     ]
    },
    {
     "name": "stdout",
     "output_type": "stream",
     "text": [
      "2021-01-04 20:25:22 [scrapy.core.scraper] DEBUG: Scraped from <200 https://movie.naver.com/movie/bi/mi/basic.nhn?code=195687>\n",
      "{'count': '0명', 'star': '9.49', 'title': '페이트 스테이 나이트 헤븐즈필 III.스프링 송'}\n",
      "2021-01-04 20:25:22 [scrapy.core.scraper] DEBUG: Scraped from <200 https://movie.naver.com/movie/bi/mi/basic.nhn?code=188447>\n",
      "{'count': '0명', 'star': '8.67', 'title': '호프'}\n",
      "2021-01-04 20:25:22 [scrapy.core.engine] DEBUG: Crawled (200) <GET https://movie.naver.com/movie/bi/mi/basic.nhn?code=200214> (referer: https://movie.naver.com/movie/running/current.nhn)\n",
      "2021-01-04 20:25:22 [scrapy.core.engine] DEBUG: Crawled (200) <GET https://movie.naver.com/movie/bi/mi/basic.nhn?code=190722> (referer: https://movie.naver.com/movie/running/current.nhn)\n",
      "2021-01-04 20:25:22 [scrapy.core.scraper] DEBUG: Scraped from <200 https://movie.naver.com/movie/bi/mi/basic.nhn?code=193331>\n",
      "{'count': '0명', 'star': '9.39', 'title': '내언니전지현과 나'}\n",
      "2021-01-04 20:25:22 [scrapy.core.engine] DEBUG: Crawled (200) <GET https://movie.naver.com/movie/bi/mi/basic.nhn?code=50724> (referer: https://movie.naver.com/movie/running/current.nhn)\n",
      "2021-01-04 20:25:22 [scrapy.core.engine] DEBUG: Crawled (200) <GET https://movie.naver.com/movie/bi/mi/basic.nhn?code=196843> (referer: https://movie.naver.com/movie/running/current.nhn)\n",
      "2021-01-04 20:25:22 [scrapy.core.engine] DEBUG: Crawled (200) <GET https://movie.naver.com/movie/bi/mi/basic.nhn?code=19031> (referer: https://movie.naver.com/movie/running/current.nhn)\n",
      "2021-01-04 20:25:22 [scrapy.core.scraper] DEBUG: Scraped from <200 https://movie.naver.com/movie/bi/mi/basic.nhn?code=194811>\n",
      "{'count': '0명', 'star': '8.88', 'title': '썸머 85'}\n",
      "2021-01-04 20:25:22 [scrapy.core.scraper] DEBUG: Scraped from <200 https://movie.naver.com/movie/bi/mi/basic.nhn?code=200180>\n",
      "{'count': '0명', 'star': '6.50', 'title': '미스터 보스'}\n",
      "2021-01-04 20:25:22 [scrapy.core.scraper] DEBUG: Scraped from <200 https://movie.naver.com/movie/bi/mi/basic.nhn?code=163805>\n",
      "{'count': '0명', 'star': '9.13', 'title': '피아니스트의 마지막 인터뷰'}\n",
      "2021-01-04 20:25:22 [scrapy.core.engine] DEBUG: Crawled (200) <GET https://movie.naver.com/movie/bi/mi/basic.nhn?code=195370> (referer: https://movie.naver.com/movie/running/current.nhn)\n",
      "2021-01-04 20:25:22 [scrapy.core.engine] DEBUG: Crawled (200) <GET https://movie.naver.com/movie/bi/mi/basic.nhn?code=178095> (referer: https://movie.naver.com/movie/running/current.nhn)\n",
      "2021-01-04 20:25:22 [scrapy.core.scraper] DEBUG: Scraped from <200 https://movie.naver.com/movie/bi/mi/basic.nhn?code=200214>\n",
      "{'count': '0명', 'star': '9.35', 'title': '내 어깨 위 고양이, 밥 2'}\n",
      "2021-01-04 20:25:22 [scrapy.core.engine] DEBUG: Crawled (200) <GET https://movie.naver.com/movie/bi/mi/basic.nhn?code=164143> (referer: https://movie.naver.com/movie/running/current.nhn)\n",
      "2021-01-04 20:25:22 [scrapy.core.scraper] DEBUG: Scraped from <200 https://movie.naver.com/movie/bi/mi/basic.nhn?code=190722>\n",
      "{'count': '280,570', 'star': '8.50', 'title': '런'}\n",
      "2021-01-04 20:25:22 [scrapy.core.engine] DEBUG: Crawled (200) <GET https://movie.naver.com/movie/bi/mi/basic.nhn?code=28876> (referer: https://movie.naver.com/movie/running/current.nhn)\n",
      "2021-01-04 20:25:22 [scrapy.core.engine] DEBUG: Crawled (200) <GET https://movie.naver.com/movie/bi/mi/basic.nhn?code=193194> (referer: https://movie.naver.com/movie/running/current.nhn)\n",
      "2021-01-04 20:25:22 [scrapy.core.scraper] DEBUG: Scraped from <200 https://movie.naver.com/movie/bi/mi/basic.nhn?code=50724>\n",
      "{'count': '0명', 'star': '8.00', 'title': '굿바이'}\n",
      "2021-01-04 20:25:22 [scrapy.core.scraper] DEBUG: Scraped from <200 https://movie.naver.com/movie/bi/mi/basic.nhn?code=196843>\n",
      "{'count': '0명', 'star': '9.69', 'title': '극장판 바이올렛 에버가든'}\n",
      "2021-01-04 20:25:22 [scrapy.core.scraper] DEBUG: Scraped from <200 https://movie.naver.com/movie/bi/mi/basic.nhn?code=19031>\n",
      "{'count': '0명', 'star': '9.41', 'title': '러브레터'}\n",
      "2021-01-04 20:25:22 [scrapy.core.engine] DEBUG: Crawled (200) <GET https://movie.naver.com/movie/bi/mi/basic.nhn?code=197534> (referer: https://movie.naver.com/movie/running/current.nhn)\n",
      "2021-01-04 20:25:22 [scrapy.core.engine] DEBUG: Crawled (200) <GET https://movie.naver.com/movie/bi/mi/basic.nhn?code=199393> (referer: https://movie.naver.com/movie/running/current.nhn)\n",
      "2021-01-04 20:25:22 [scrapy.core.scraper] DEBUG: Scraped from <200 https://movie.naver.com/movie/bi/mi/basic.nhn?code=195370>\n",
      "{'count': '0명', 'star': '', 'title': '100% 울프: 푸들이 될 순 없어'}\n",
      "2021-01-04 20:25:22 [scrapy.core.scraper] DEBUG: Scraped from <200 https://movie.naver.com/movie/bi/mi/basic.nhn?code=178095>\n",
      "{'count': '10,620', 'star': '8.50', 'title': '나이팅게일'}\n",
      "2021-01-04 20:25:22 [scrapy.core.scraper] DEBUG: Scraped from <200 https://movie.naver.com/movie/bi/mi/basic.nhn?code=164143>\n",
      "{'count': '427,241', 'star': '8.34', 'title': '이웃사촌'}\n",
      "2021-01-04 20:25:22 [scrapy.core.scraper] DEBUG: Scraped from <200 https://movie.naver.com/movie/bi/mi/basic.nhn?code=28876>\n",
      "{'count': '59,799', 'star': '9.13', 'title': '화양연화'}\n",
      "2021-01-04 20:25:22 [scrapy.core.scraper] DEBUG: Scraped from <200 https://movie.naver.com/movie/bi/mi/basic.nhn?code=193194>\n",
      "{'count': '1,530,885', 'star': '8.50', 'title': '도굴'}\n",
      "2021-01-04 20:25:22 [scrapy.core.scraper] DEBUG: Scraped from <200 https://movie.naver.com/movie/bi/mi/basic.nhn?code=197534>\n",
      "{'count': '22,348', 'star': '', 'title': '뱅가드'}\n",
      "2021-01-04 20:25:22 [scrapy.core.scraper] DEBUG: Scraped from <200 https://movie.naver.com/movie/bi/mi/basic.nhn?code=199393>\n",
      "{'count': '195,434', 'star': '8.23', 'title': '조제'}\n",
      "2021-01-04 20:25:22 [scrapy.core.engine] INFO: Closing spider (finished)\n",
      "2021-01-04 20:25:22 [scrapy.extensions.feedexport] INFO: Stored csv feed (100 items) in: movie.csv\n",
      "2021-01-04 20:25:22 [scrapy.statscollectors] INFO: Dumping Scrapy stats:\n",
      "{'downloader/request_bytes': 36202,\n",
      " 'downloader/request_count': 101,\n",
      " 'downloader/request_method_count/GET': 101,\n",
      " 'downloader/response_bytes': 3325445,\n",
      " 'downloader/response_count': 101,\n",
      " 'downloader/response_status_count/200': 101,\n",
      " 'elapsed_time_seconds': 5.019135,\n",
      " 'finish_reason': 'finished',\n",
      " 'finish_time': datetime.datetime(2021, 1, 4, 11, 25, 22, 880814),\n",
      " 'item_scraped_count': 100,\n",
      " 'log_count/DEBUG': 201,\n",
      " 'log_count/INFO': 11,\n",
      " 'memusage/max': 50016256,\n",
      " 'memusage/startup': 50016256,\n",
      " 'request_depth_max': 1,\n",
      " 'response_received_count': 101,\n",
      " 'scheduler/dequeued': 101,\n",
      " 'scheduler/dequeued/memory': 101,\n",
      " 'scheduler/enqueued': 101,\n",
      " 'scheduler/enqueued/memory': 101,\n",
      " 'start_time': datetime.datetime(2021, 1, 4, 11, 25, 17, 861679)}\n",
      "2021-01-04 20:25:22 [scrapy.core.engine] INFO: Spider closed (finished)\n"
     ]
    }
   ],
   "source": [
    "!/bin/bash run.sh"
   ]
  },
  {
   "cell_type": "code",
   "execution_count": 65,
   "metadata": {},
   "outputs": [
    {
     "name": "stdout",
     "output_type": "stream",
     "text": [
      "movie.csv   \u001b[1m\u001b[36mnaver_movie\u001b[m\u001b[m scrapy.cfg\r\n"
     ]
    }
   ],
   "source": [
    "!cd naver_movie/ && ls"
   ]
  },
  {
   "cell_type": "code",
   "execution_count": 67,
   "metadata": {},
   "outputs": [
    {
     "data": {
      "text/html": [
       "<div>\n",
       "<style scoped>\n",
       "    .dataframe tbody tr th:only-of-type {\n",
       "        vertical-align: middle;\n",
       "    }\n",
       "\n",
       "    .dataframe tbody tr th {\n",
       "        vertical-align: top;\n",
       "    }\n",
       "\n",
       "    .dataframe thead th {\n",
       "        text-align: right;\n",
       "    }\n",
       "</style>\n",
       "<table border=\"1\" class=\"dataframe\">\n",
       "  <thead>\n",
       "    <tr style=\"text-align: right;\">\n",
       "      <th></th>\n",
       "      <th>count</th>\n",
       "      <th>star</th>\n",
       "      <th>title</th>\n",
       "    </tr>\n",
       "  </thead>\n",
       "  <tbody>\n",
       "    <tr>\n",
       "      <th>95</th>\n",
       "      <td>427,241</td>\n",
       "      <td>8.34</td>\n",
       "      <td>이웃사촌</td>\n",
       "    </tr>\n",
       "    <tr>\n",
       "      <th>96</th>\n",
       "      <td>59,799</td>\n",
       "      <td>9.13</td>\n",
       "      <td>화양연화</td>\n",
       "    </tr>\n",
       "    <tr>\n",
       "      <th>97</th>\n",
       "      <td>1,530,885</td>\n",
       "      <td>8.50</td>\n",
       "      <td>도굴</td>\n",
       "    </tr>\n",
       "    <tr>\n",
       "      <th>98</th>\n",
       "      <td>22,348</td>\n",
       "      <td>NaN</td>\n",
       "      <td>뱅가드</td>\n",
       "    </tr>\n",
       "    <tr>\n",
       "      <th>99</th>\n",
       "      <td>195,434</td>\n",
       "      <td>8.23</td>\n",
       "      <td>조제</td>\n",
       "    </tr>\n",
       "  </tbody>\n",
       "</table>\n",
       "</div>"
      ],
      "text/plain": [
       "        count  star title\n",
       "95    427,241  8.34  이웃사촌\n",
       "96     59,799  9.13  화양연화\n",
       "97  1,530,885  8.50    도굴\n",
       "98     22,348   NaN   뱅가드\n",
       "99    195,434  8.23    조제"
      ]
     },
     "execution_count": 67,
     "metadata": {},
     "output_type": "execute_result"
    }
   ],
   "source": [
    "df = pd.read_csv('./naver_movie/movie.csv')\n",
    "df.tail()"
   ]
  },
  {
   "cell_type": "markdown",
   "metadata": {},
   "source": [
    "## awk\n",
    "- 대용량의 문자열 데이터를 특정 패턴으로 찾거나 연상해서 결과를 출력해주는 문법(unix 계열)\n",
    "- sed : 문자열을 찾아서 변환해주는 역할"
   ]
  },
  {
   "cell_type": "code",
   "execution_count": 83,
   "metadata": {},
   "outputs": [
    {
     "name": "stdout",
     "output_type": "stream",
     "text": [
      "# Obey robots.txt rules\r\n",
      "ROBOTSTXT_OBEY = True\r\n"
     ]
    }
   ],
   "source": [
    "!head -n 20 naver_movie/naver_movie/settings.py | tail -n 2"
   ]
  },
  {
   "cell_type": "code",
   "execution_count": 82,
   "metadata": {},
   "outputs": [],
   "source": [
    "!sed -i '' 's/ROBOTSTXT_OBEY = False/ROBOTSTXT_OBEY = True/' naver_movie/naver_movie/settings.py"
   ]
  },
  {
   "cell_type": "code",
   "execution_count": 81,
   "metadata": {},
   "outputs": [
    {
     "name": "stdout",
     "output_type": "stream",
     "text": [
      "__init__.py    items.py       pipelines.py   \u001b[1m\u001b[36mspiders\u001b[m\u001b[m\r\n",
      "\u001b[1m\u001b[36m__pycache__\u001b[m\u001b[m    middlewares.py settings.py\r\n"
     ]
    }
   ],
   "source": [
    "!cd naver_movie/ && cd naver_movie/ && ls"
   ]
  },
  {
   "cell_type": "code",
   "execution_count": null,
   "metadata": {},
   "outputs": [],
   "source": []
  }
 ],
 "metadata": {
  "kernelspec": {
   "display_name": "Python 3",
   "language": "python",
   "name": "python3"
  },
  "language_info": {
   "codemirror_mode": {
    "name": "ipython",
    "version": 3
   },
   "file_extension": ".py",
   "mimetype": "text/x-python",
   "name": "python",
   "nbconvert_exporter": "python",
   "pygments_lexer": "ipython3",
   "version": "3.8.3"
  }
 },
 "nbformat": 4,
 "nbformat_minor": 4
}
