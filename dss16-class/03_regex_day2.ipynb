{
 "cells": [
  {
   "cell_type": "markdown",
   "metadata": {},
   "source": [
    "# 정규표현식\n",
    "- 수집한 문자열 데이터에서 특정 패턴으로 문자열 데이터를 찾거나 수정할 때 사용\n",
    "- 텍스트 데이터들을 수집했는데 사용된 이메일 정보만 수집할 떄\n",
    "- 정규표현식 함수\n",
    "    - findall() : 패턴으로 문자열을 찾을 때 사용\n",
    "    - sub() : 패턴으로 문자열을 대체(replace)할 때 사용\n",
    "- 정규표현식 패턴\n",
    "    - 문자\n",
    "    - 지정자\n",
    "- 예제\n",
    "    - 이메일 문자열 패턴으로 찾기\n",
    "    - 주민등록번호 패턴으로 찾아서 * 표시로 변경하기\n",
    "    - 중고나라 : 제 전화번호는 영일0-구삼7구삼삼50 -> 010-9379-3350"
   ]
  },
  {
   "cell_type": "code",
   "execution_count": 1,
   "metadata": {},
   "outputs": [],
   "source": [
    "import re"
   ]
  },
  {
   "cell_type": "markdown",
   "metadata": {},
   "source": [
    "## 1. 정규표현식 함수"
   ]
  },
  {
   "cell_type": "code",
   "execution_count": 10,
   "metadata": {},
   "outputs": [],
   "source": [
    "data =\"python jupyter notebook notedata test python macbook \""
   ]
  },
  {
   "cell_type": "code",
   "execution_count": 3,
   "metadata": {},
   "outputs": [],
   "source": [
    "# findall"
   ]
  },
  {
   "cell_type": "code",
   "execution_count": 6,
   "metadata": {},
   "outputs": [
    {
     "data": {
      "text/plain": [
       "['notebook', 'macbook']"
      ]
     },
     "execution_count": 6,
     "metadata": {},
     "output_type": "execute_result"
    }
   ],
   "source": [
    "result = re.findall(\"[a-z]+book\",data)\n",
    "result"
   ]
  },
  {
   "cell_type": "code",
   "execution_count": 7,
   "metadata": {},
   "outputs": [],
   "source": [
    "# sub"
   ]
  },
  {
   "cell_type": "code",
   "execution_count": 9,
   "metadata": {},
   "outputs": [
    {
     "data": {
      "text/plain": [
       "'python jupyter took notedata test python took '"
      ]
     },
     "execution_count": 9,
     "metadata": {},
     "output_type": "execute_result"
    }
   ],
   "source": [
    "result = re.sub(\"[a-z]+book\", \"took\", data)\n",
    "result"
   ]
  },
  {
   "cell_type": "markdown",
   "metadata": {},
   "source": [
    "## 2. 정규표현식 패턴"
   ]
  },
  {
   "cell_type": "code",
   "execution_count": 12,
   "metadata": {},
   "outputs": [],
   "source": [
    "import string"
   ]
  },
  {
   "cell_type": "code",
   "execution_count": 13,
   "metadata": {},
   "outputs": [
    {
     "data": {
      "text/plain": [
       "(100,\n",
       " '0123456789abcdefghijklmnopqrstuvwxyzABCDEFGHIJKLMNOPQRSTUVWXYZ!\"#$%&\\'()*+,-./:;<=>?@[\\\\]^_`{|}~ \\t\\n\\r\\x0b\\x0c')"
      ]
     },
     "execution_count": 13,
     "metadata": {},
     "output_type": "execute_result"
    }
   ],
   "source": [
    "data = string.printable\n",
    "len(data), data"
   ]
  },
  {
   "cell_type": "markdown",
   "metadata": {},
   "source": [
    "### 문자"
   ]
  },
  {
   "cell_type": "code",
   "execution_count": 15,
   "metadata": {},
   "outputs": [
    {
     "data": {
      "text/plain": [
       "('0123456789',\n",
       " 'abcdefghijklmnopqrstuvwxyzABCDEFGHIJKLMNOPQRSTUVWXYZ!\"#$%&\\'()*+,-./:;<=>?@[\\\\]^_`{|}~ \\t\\n\\r\\x0b\\x0c')"
      ]
     },
     "execution_count": 15,
     "metadata": {},
     "output_type": "execute_result"
    }
   ],
   "source": [
    "# 숫자, 비숫자\n",
    "result1 = re.findall(\"\\d\", data) #\\d : 숫자\n",
    "result2 = re.findall(\"\\D\", data) #\\d : 숫자가 아닌 문자\n",
    "\"\".join(result1), \"\".join(result2)"
   ]
  },
  {
   "cell_type": "code",
   "execution_count": 16,
   "metadata": {},
   "outputs": [
    {
     "data": {
      "text/plain": [
       "('0123456789abcdefghijklmnopqrstuvwxyzABCDEFGHIJKLMNOPQRSTUVWXYZ_',\n",
       " '!\"#$%&\\'()*+,-./:;<=>?@[\\\\]^`{|}~ \\t\\n\\r\\x0b\\x0c')"
      ]
     },
     "execution_count": 16,
     "metadata": {},
     "output_type": "execute_result"
    }
   ],
   "source": [
    "# 숫자, 문자, _\n",
    "result1 = re.findall(\"\\w\", data) #\\w : 숫자 문자 언더스코어\n",
    "result2 = re.findall(\"\\W\", data) #\\\n",
    "\"\".join(result1), \"\".join(result2)"
   ]
  },
  {
   "cell_type": "code",
   "execution_count": 17,
   "metadata": {},
   "outputs": [
    {
     "data": {
      "text/plain": [
       "'0123456789abcdefghijklmnopqrstuvwxyzABCDEFGHIJKLMNOPQRSTUVWXYZ_'"
      ]
     },
     "execution_count": 17,
     "metadata": {},
     "output_type": "execute_result"
    }
   ],
   "source": [
    "result = re.findall(\"[a-zA-Z0-9_]\", data)\n",
    "\"\".join(result1)\n",
    "### 이거 대신에 쓰겠다"
   ]
  },
  {
   "cell_type": "code",
   "execution_count": null,
   "metadata": {},
   "outputs": [],
   "source": [
    "# 공백문자\n",
    "result1 = re.findall(\"\\s\", data) #\\s : 공백문자\n",
    "result2 = re.findall(\"\\S\", data) #\\S : 비공백문자\n",
    "\"\".join(result1), \"\".join(result2)"
   ]
  },
  {
   "cell_type": "markdown",
   "metadata": {},
   "source": [
    "### 지정자"
   ]
  },
  {
   "cell_type": "code",
   "execution_count": 18,
   "metadata": {},
   "outputs": [
    {
     "data": {
      "text/plain": [
       "['a', 'b', 'c', 'd']"
      ]
     },
     "execution_count": 18,
     "metadata": {},
     "output_type": "execute_result"
    }
   ],
   "source": [
    "# [] : 각각의 문자 => 각요소를 찾기 위해서 사용\n",
    "re.findall(\"[abcd]\", data)"
   ]
  },
  {
   "cell_type": "code",
   "execution_count": 19,
   "metadata": {},
   "outputs": [
    {
     "data": {
      "text/plain": [
       "['abcd']"
      ]
     },
     "execution_count": 19,
     "metadata": {},
     "output_type": "execute_result"
    }
   ],
   "source": [
    "re.findall(\"abcd\", data)"
   ]
  },
  {
   "cell_type": "code",
   "execution_count": 22,
   "metadata": {},
   "outputs": [
    {
     "data": {
      "text/plain": [
       "'abcdefghijklmnopqrstuvwxyz'"
      ]
     },
     "execution_count": 22,
     "metadata": {},
     "output_type": "execute_result"
    }
   ],
   "source": [
    "# - : 범위\n",
    "result = re.findall(\"[a-z]\", data)\n",
    "\"\".join(result)"
   ]
  },
  {
   "cell_type": "code",
   "execution_count": 25,
   "metadata": {},
   "outputs": [
    {
     "data": {
      "text/plain": [
       "'0123456789efgh'"
      ]
     },
     "execution_count": 25,
     "metadata": {},
     "output_type": "execute_result"
    }
   ],
   "source": [
    "result = re.findall(\"[0-9e-h]\", data)\n",
    "\"\".join(result)"
   ]
  },
  {
   "cell_type": "code",
   "execution_count": 26,
   "metadata": {},
   "outputs": [],
   "source": [
    "# . : 아무 문자 하나"
   ]
  },
  {
   "cell_type": "code",
   "execution_count": 28,
   "metadata": {},
   "outputs": [
    {
     "name": "stdout",
     "output_type": "stream",
     "text": [
      "abc ['abc']\n",
      "ac []\n",
      "a!c ['a!c']\n",
      "a.cd ['a.c']\n"
     ]
    }
   ],
   "source": [
    "datas = [\"abc\", \"ac\", \"a!c\", \"a.cd\"]\n",
    "for data in datas:\n",
    "    result = re.findall(\"a.c\", data)\n",
    "    print(data, result)"
   ]
  },
  {
   "cell_type": "code",
   "execution_count": 29,
   "metadata": {},
   "outputs": [
    {
     "name": "stdout",
     "output_type": "stream",
     "text": [
      "abc []\n",
      "ac []\n",
      "a!c []\n",
      "a.cd ['a.c']\n"
     ]
    }
   ],
   "source": [
    "### ' . ' 을 지정자 말고 문자로 인식하고 싶을 때\n",
    "datas = [\"abc\", \"ac\", \"a!c\", \"a.cd\"]\n",
    "for data in datas:\n",
    "    # result = re.findall(\"a\\.c\", data)\n",
    "    result = re.findall(\"a[.]c\", data)\n",
    "    print(data, result)\n",
    "# 역슬래시 (이스케이핑), 중괄호"
   ]
  },
  {
   "cell_type": "code",
   "execution_count": 30,
   "metadata": {},
   "outputs": [],
   "source": [
    "# ? : 앞에 있는 패턴의 문자가 0회, 1회 반복"
   ]
  },
  {
   "cell_type": "code",
   "execution_count": 35,
   "metadata": {},
   "outputs": [
    {
     "name": "stdout",
     "output_type": "stream",
     "text": [
      "abcd ['abc']\n",
      "acd ['ac']\n",
      "abbcd []\n"
     ]
    }
   ],
   "source": [
    "datas = [\"abcd\", \"acd\" , \"abbcd\"]\n",
    "for data in datas:\n",
    "    result = re.findall(\"a.?c\", data)\n",
    "    print(data, result)"
   ]
  },
  {
   "cell_type": "code",
   "execution_count": null,
   "metadata": {},
   "outputs": [],
   "source": [
    "010-11233333, 01022224444 숫자-?숫자"
   ]
  },
  {
   "cell_type": "code",
   "execution_count": 31,
   "metadata": {},
   "outputs": [],
   "source": [
    "# * : 앞에 있는 패턴의 문자가 0회 이상 반복"
   ]
  },
  {
   "cell_type": "code",
   "execution_count": 36,
   "metadata": {},
   "outputs": [
    {
     "name": "stdout",
     "output_type": "stream",
     "text": [
      "abcd ['abc']\n",
      "acd ['ac']\n",
      "abbcd ['abbc']\n"
     ]
    }
   ],
   "source": [
    "datas = [\"abcd\", \"acd\" , \"abbcd\"]\n",
    "for data in datas:\n",
    "    result = re.findall(\"a.*c\", data)\n",
    "    print(data, result)"
   ]
  },
  {
   "cell_type": "code",
   "execution_count": 32,
   "metadata": {},
   "outputs": [],
   "source": [
    "# + : 앞에 있는 패턴의 문자가 1회 이상 반복"
   ]
  },
  {
   "cell_type": "code",
   "execution_count": 37,
   "metadata": {},
   "outputs": [
    {
     "name": "stdout",
     "output_type": "stream",
     "text": [
      "abcd ['abc']\n",
      "acd []\n",
      "abbcd ['abbc']\n"
     ]
    }
   ],
   "source": [
    "datas = [\"abcd\", \"acd\" , \"abbcd\"]\n",
    "for data in datas:\n",
    "    result = re.findall(\"a.+c\", data)\n",
    "    print(data, result)"
   ]
  },
  {
   "cell_type": "code",
   "execution_count": 33,
   "metadata": {},
   "outputs": [],
   "source": [
    "# {m} : 앞에 있는 패턴의 문자가 m회 반복"
   ]
  },
  {
   "cell_type": "code",
   "execution_count": 38,
   "metadata": {},
   "outputs": [
    {
     "name": "stdout",
     "output_type": "stream",
     "text": [
      "abcd []\n",
      "acd []\n",
      "abbcd []\n",
      "abbttcd ['abbttc']\n"
     ]
    }
   ],
   "source": [
    "datas = [\"abcd\", \"acd\" , \"abbcd\", \"abbttcd\"]\n",
    "for data in datas:\n",
    "    result = re.findall(\"a.{4}c\", data)\n",
    "    print(data, result)"
   ]
  },
  {
   "cell_type": "code",
   "execution_count": null,
   "metadata": {},
   "outputs": [],
   "source": [
    "# {m, n} : 앞에 있는 패턴의 문자가 m회 ~ n회 반복"
   ]
  },
  {
   "cell_type": "code",
   "execution_count": 39,
   "metadata": {},
   "outputs": [
    {
     "name": "stdout",
     "output_type": "stream",
     "text": [
      "abcd []\n",
      "acd []\n",
      "abbcd ['abbc']\n",
      "abbttcd ['abbttc']\n"
     ]
    }
   ],
   "source": [
    "datas = [\"abcd\", \"acd\" , \"abbcd\", \"abbttcd\"]\n",
    "for data in datas:\n",
    "    result = re.findall(\"a[bt]{2,4}c\", data)\n",
    "    print(data, result)"
   ]
  },
  {
   "cell_type": "code",
   "execution_count": 40,
   "metadata": {},
   "outputs": [],
   "source": [
    "# () : 그룹핑 : 특정 패턴으로 찾아서 그룹핑한 문자열만 출력"
   ]
  },
  {
   "cell_type": "code",
   "execution_count": 45,
   "metadata": {},
   "outputs": [],
   "source": [
    "data = \"jupyternotebook notebook testnotebook macnote python jupyter\""
   ]
  },
  {
   "cell_type": "code",
   "execution_count": 46,
   "metadata": {},
   "outputs": [
    {
     "data": {
      "text/plain": [
       "['jupyter', 'test', 'mac']"
      ]
     },
     "execution_count": 46,
     "metadata": {},
     "output_type": "execute_result"
    }
   ],
   "source": [
    "re.findall(\"([a-z]+)note\", data)"
   ]
  },
  {
   "cell_type": "markdown",
   "metadata": {},
   "source": [
    "### 3.예제"
   ]
  },
  {
   "cell_type": "code",
   "execution_count": 47,
   "metadata": {},
   "outputs": [],
   "source": [
    "# 이메일 주소 찾기"
   ]
  },
  {
   "cell_type": "code",
   "execution_count": 68,
   "metadata": {},
   "outputs": [],
   "source": [
    "data = \"저의 이메일 주소는 snfltptkd@gmail.com 과 df.dsnkd@naver.co.kr 이 있습니다.\""
   ]
  },
  {
   "cell_type": "code",
   "execution_count": 69,
   "metadata": {},
   "outputs": [
    {
     "data": {
      "text/plain": [
       "['snfltptkd', 'dsnkd']"
      ]
     },
     "execution_count": 69,
     "metadata": {},
     "output_type": "execute_result"
    }
   ],
   "source": [
    "# 1. 문자열에서 이메일 주소값을 패턴으로 찾아서 출력\n",
    "re.findall(\"([\\w]+)@\",data)"
   ]
  },
  {
   "cell_type": "code",
   "execution_count": 71,
   "metadata": {},
   "outputs": [
    {
     "data": {
      "text/plain": [
       "['snfltptkd@gmail.com', 'df.dsnkd@naver.co.kr']"
      ]
     },
     "execution_count": 71,
     "metadata": {},
     "output_type": "execute_result"
    }
   ],
   "source": [
    "pt = \"[a-zA-Z0-9.]+@[a-z.]+\"\n",
    "re.findall(pt,data)"
   ]
  },
  {
   "cell_type": "code",
   "execution_count": 76,
   "metadata": {},
   "outputs": [
    {
     "data": {
      "text/plain": [
       "['snfltptkd@gmail.com', 'df.dsnkd@naver.co.kr']"
      ]
     },
     "execution_count": 76,
     "metadata": {},
     "output_type": "execute_result"
    }
   ],
   "source": [
    "pt = \"[a-zA-Z0-9.]+@[a-z.]+\\.[a-z.]+\"\n",
    "re.findall(pt,data)"
   ]
  },
  {
   "cell_type": "code",
   "execution_count": null,
   "metadata": {},
   "outputs": [],
   "source": [
    "# 2. 문자열에서 이메일의 도메인을 찾아서 출력"
   ]
  },
  {
   "cell_type": "code",
   "execution_count": 78,
   "metadata": {},
   "outputs": [
    {
     "data": {
      "text/plain": [
       "['gmail', 'naver.co']"
      ]
     },
     "execution_count": 78,
     "metadata": {},
     "output_type": "execute_result"
    }
   ],
   "source": [
    "pt = \"[a-zA-Z0-9.]+@([a-z.]+)\\.[a-z.]+\"\n",
    "re.findall(pt,data)"
   ]
  },
  {
   "cell_type": "code",
   "execution_count": 74,
   "metadata": {},
   "outputs": [
    {
     "data": {
      "text/plain": [
       "['gmail', 'naver']"
      ]
     },
     "execution_count": 74,
     "metadata": {},
     "output_type": "execute_result"
    }
   ],
   "source": [
    "pt = \"@([\\w]+)\"\n",
    "re.findall(pt,data)"
   ]
  },
  {
   "cell_type": "code",
   "execution_count": 79,
   "metadata": {},
   "outputs": [],
   "source": [
    "# 주민등록번호 찾기"
   ]
  },
  {
   "cell_type": "code",
   "execution_count": 94,
   "metadata": {},
   "outputs": [],
   "source": [
    "data = \"저의 주민등록번호는 881122-1088740 과 0212223011980 또한 021214-5029304 입니다. 마음껏 도용하세요!\""
   ]
  },
  {
   "cell_type": "code",
   "execution_count": 81,
   "metadata": {},
   "outputs": [],
   "source": [
    "# 1. 문자열에서 제대로 된 주민등록 번호를 출력"
   ]
  },
  {
   "cell_type": "code",
   "execution_count": 95,
   "metadata": {},
   "outputs": [
    {
     "data": {
      "text/plain": [
       "['881122-1088740']"
      ]
     },
     "execution_count": 95,
     "metadata": {},
     "output_type": "execute_result"
    }
   ],
   "source": [
    "pt = \"[\\d]+-[1234]{1}[\\d]+\"\n",
    "re.findall(pt,data)"
   ]
  },
  {
   "cell_type": "code",
   "execution_count": 96,
   "metadata": {},
   "outputs": [
    {
     "data": {
      "text/plain": [
       "['881122-1088740', '0212223011980']"
      ]
     },
     "execution_count": 96,
     "metadata": {},
     "output_type": "execute_result"
    }
   ],
   "source": [
    "pt = \"[0-9]{6}[-.]?[1-4]{1}[0-9]{6}\"\n",
    "re.findall(pt,data)"
   ]
  },
  {
   "cell_type": "code",
   "execution_count": null,
   "metadata": {},
   "outputs": [],
   "source": [
    "# 2. 주민등록번호를 치환"
   ]
  },
  {
   "cell_type": "code",
   "execution_count": 97,
   "metadata": {},
   "outputs": [
    {
     "data": {
      "text/plain": [
       "'저의 주민등록번호는 ******-******** 과 ******-******** 또한 021214-5029304 입니다. 마음껏 도용하세요!'"
      ]
     },
     "execution_count": 97,
     "metadata": {},
     "output_type": "execute_result"
    }
   ],
   "source": [
    "pt = \"[0-9]{6}[-.]?[1-4]{1}[0-9]{6}\"\n",
    "re.sub(pt, \"******-********\", data)"
   ]
  },
  {
   "cell_type": "code",
   "execution_count": 99,
   "metadata": {},
   "outputs": [
    {
     "data": {
      "text/plain": [
       "'저의 주민등록번호는 881122-******* 과 021222-******* 또한 021214-5029304 입니다. 마음껏 도용하세요!'"
      ]
     },
     "execution_count": 99,
     "metadata": {},
     "output_type": "execute_result"
    }
   ],
   "source": [
    "pt = \"([0-9]{6})[-.]?([1-4]{1}[0-9]{6})\"\n",
    "re.sub(pt, \"\\g<1>-*******\", data)"
   ]
  },
  {
   "cell_type": "code",
   "execution_count": 101,
   "metadata": {},
   "outputs": [],
   "source": [
    "data = \"안녕하세요 저의 전화 번호는 영일공-사사37구삼99 또는 O1o-11칠사-팔오30 입니다 연락주세요.\""
   ]
  },
  {
   "cell_type": "code",
   "execution_count": null,
   "metadata": {},
   "outputs": [],
   "source": [
    "# TODO\n"
   ]
  },
  {
   "cell_type": "code",
   "execution_count": 102,
   "metadata": {},
   "outputs": [],
   "source": [
    "# 결과 ; [\"01044379399\", \"01011748530\"]"
   ]
  },
  {
   "cell_type": "code",
   "execution_count": null,
   "metadata": {},
   "outputs": [],
   "source": [
    "re.findall(\"[]{3}\", data)"
   ]
  }
 ],
 "metadata": {
  "kernelspec": {
   "display_name": "Python 3",
   "language": "python",
   "name": "python3"
  },
  "language_info": {
   "codemirror_mode": {
    "name": "ipython",
    "version": 3
   },
   "file_extension": ".py",
   "mimetype": "text/x-python",
   "name": "python",
   "nbconvert_exporter": "python",
   "pygments_lexer": "ipython3",
   "version": "3.8.3"
  }
 },
 "nbformat": 4,
 "nbformat_minor": 4
}
