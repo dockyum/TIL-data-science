{
 "cells": [
  {
   "cell_type": "markdown",
   "metadata": {},
   "source": [
    "# Gmarket 베스트 상품 200개 크롤링\n",
    "- 상품명, 원가, 판매가\n",
    "- 썸네일 이미지\n",
    "- 확인\n",
    "    - https://www.gmarket.co.kr/robots.txt"
   ]
  },
  {
   "cell_type": "code",
   "execution_count": 1,
   "metadata": {},
   "outputs": [],
   "source": [
    "import requests \n",
    "from bs4 import BeautifulSoup"
   ]
  },
  {
   "cell_type": "code",
   "execution_count": 2,
   "metadata": {},
   "outputs": [
    {
     "data": {
      "text/plain": [
       "<Response [200]>"
      ]
     },
     "execution_count": 2,
     "metadata": {},
     "output_type": "execute_result"
    }
   ],
   "source": [
    "response = requests.get(\"http://corners.gmarket.co.kr/Bestsellers\")\n",
    "response"
   ]
  },
  {
   "cell_type": "code",
   "execution_count": 3,
   "metadata": {},
   "outputs": [],
   "source": [
    "dom = BeautifulSoup(response.content, \"html.parser\")"
   ]
  },
  {
   "cell_type": "code",
   "execution_count": 4,
   "metadata": {},
   "outputs": [
    {
     "data": {
      "text/plain": [
       "200"
      ]
     },
     "execution_count": 4,
     "metadata": {},
     "output_type": "execute_result"
    }
   ],
   "source": [
    "selector = \"#gBestWrap > div > div:nth-child(5) > div:nth-child(3) > ul > li\"\n",
    "elements = dom.select(selector)\n",
    "len(elements)"
   ]
  },
  {
   "cell_type": "code",
   "execution_count": 24,
   "metadata": {},
   "outputs": [
    {
     "data": {
      "text/plain": [
       "<li>\n",
       "<p class=\"no2\" id=\"no2\">2</p>\n",
       "<div class=\"thumb\">\n",
       "<a href=\"http://item.gmarket.co.kr/Item?goodscode=1655242371&amp;ver=637443975562093329\" onclick=\"pdsClickLog('200000680', 'Item', {'ASN': 2, 'goodsCode': '1655242371'});\"><img alt=\"[구글플레이](카드가능) 기프트코드 10만원/구글 10000크레딧 증정\" class=\"lazy\" data-original=\"http://gdimg.gmarket.co.kr/1655242371/still/300\" height=\"210\" src=\"http://image.gmarket.co.kr/challenge/neo_image/no_image.gif\" width=\"210\"/></a>\n",
       "</div>\n",
       "<!--div class=\"goods-view\">\n",
       "\t\t\t\t\t\t\t\t\t<a href=\"http://minishop.gmarket.co.kr/happymoney2012\"><span class=\"view\">판매자 다른상품 보기</span>(주)한국선불카드</a>\n",
       "\t\t\t\t\t\t\t\t</div-->\n",
       "<a class=\"itemname\" href=\"http://item.gmarket.co.kr/Item?goodscode=1655242371&amp;ver=637443975562093329\" onclick=\"pdsClickLog('200000680', 'Item', {'ASN': 2, 'goodsCode': '1655242371'});\">[구글플레이](카드가능) 기프트코드 10만원/구글 10000크레딧 증정</a>\n",
       "<div class=\"item_price\">\n",
       "<div class=\"o-price\"><span><span>100,000원</span></span></div>\n",
       "<div class=\"s-price\">\n",
       "<strong><span><span>97,000원</span></span></strong>\n",
       "<span><span class=\"sale\"></span><em>3%</em></span>\n",
       "</div>\n",
       "<div class=\"icon\">\n",
       "</div>\n",
       "</div>\n",
       "</li>"
      ]
     },
     "execution_count": 24,
     "metadata": {},
     "output_type": "execute_result"
    }
   ],
   "source": [
    "elements[1]"
   ]
  },
  {
   "cell_type": "code",
   "execution_count": null,
   "metadata": {},
   "outputs": [],
   "source": [
    "# 코드, 제목, 링크, 원가, 판매가, 할인율"
   ]
  },
  {
   "cell_type": "code",
   "execution_count": 16,
   "metadata": {},
   "outputs": [
    {
     "data": {
      "text/plain": [
       "'1715473318'"
      ]
     },
     "execution_count": 16,
     "metadata": {},
     "output_type": "execute_result"
    }
   ],
   "source": [
    "elements[0].select_one(\"a\").get(\"href\").split('=')[1].split(\"&\")[0]"
   ]
  },
  {
   "cell_type": "code",
   "execution_count": 20,
   "metadata": {},
   "outputs": [
    {
     "data": {
      "text/plain": [
       "'[미니멜츠]미니멜츠구슬아이스크림15개/2세트+구슬2'"
      ]
     },
     "execution_count": 20,
     "metadata": {},
     "output_type": "execute_result"
    }
   ],
   "source": [
    "elements[0].select_one(\".itemname\").text"
   ]
  },
  {
   "cell_type": "code",
   "execution_count": 33,
   "metadata": {},
   "outputs": [
    {
     "data": {
      "text/plain": [
       "'97,000원'"
      ]
     },
     "execution_count": 33,
     "metadata": {},
     "output_type": "execute_result"
    }
   ],
   "source": [
    "elements[1].select_one(\".s-price\").text.strip().split(\"\\n\")[0]"
   ]
  },
  {
   "cell_type": "code",
   "execution_count": 36,
   "metadata": {},
   "outputs": [
    {
     "data": {
      "text/html": [
       "<div>\n",
       "<style scoped>\n",
       "    .dataframe tbody tr th:only-of-type {\n",
       "        vertical-align: middle;\n",
       "    }\n",
       "\n",
       "    .dataframe tbody tr th {\n",
       "        vertical-align: top;\n",
       "    }\n",
       "\n",
       "    .dataframe thead th {\n",
       "        text-align: right;\n",
       "    }\n",
       "</style>\n",
       "<table border=\"1\" class=\"dataframe\">\n",
       "  <thead>\n",
       "    <tr style=\"text-align: right;\">\n",
       "      <th></th>\n",
       "      <th>code</th>\n",
       "      <th>title</th>\n",
       "      <th>price</th>\n",
       "    </tr>\n",
       "  </thead>\n",
       "  <tbody>\n",
       "    <tr>\n",
       "      <th>198</th>\n",
       "      <td>1816843046</td>\n",
       "      <td>[하누소]하누소 왕갈비탕(650g6팩) (예약상품 2020.12.28 부터 발송)</td>\n",
       "      <td>34,350원</td>\n",
       "    </tr>\n",
       "    <tr>\n",
       "      <th>199</th>\n",
       "      <td>1659410836</td>\n",
       "      <td>[ahc]AHC 프라이빗 아이크림 기획세트</td>\n",
       "      <td>29,900원</td>\n",
       "    </tr>\n",
       "  </tbody>\n",
       "</table>\n",
       "</div>"
      ],
      "text/plain": [
       "           code                                          title    price\n",
       "198  1816843046  [하누소]하누소 왕갈비탕(650g6팩) (예약상품 2020.12.28 부터 발송)  34,350원\n",
       "199  1659410836                        [ahc]AHC 프라이빗 아이크림 기획세트  29,900원"
      ]
     },
     "execution_count": 36,
     "metadata": {},
     "output_type": "execute_result"
    }
   ],
   "source": [
    "datas = []\n",
    "for element in elements:\n",
    "    datas.append({\n",
    "        \"code\": element.select_one(\"a\").get(\"href\").split('=')[1].split(\"&\")[0],\n",
    "        \"title\" : element.select_one(\".itemname\").text,\n",
    "        \"price\" : element.select_one(\".s-price\").text.strip().split(\"\\n\")[0]\n",
    "    })\n",
    "items_df = pd.DataFrame(datas)\n",
    "items_df.tail(2)"
   ]
  },
  {
   "cell_type": "code",
   "execution_count": 27,
   "metadata": {},
   "outputs": [
    {
     "data": {
      "text/html": [
       "<div>\n",
       "<style scoped>\n",
       "    .dataframe tbody tr th:only-of-type {\n",
       "        vertical-align: middle;\n",
       "    }\n",
       "\n",
       "    .dataframe tbody tr th {\n",
       "        vertical-align: top;\n",
       "    }\n",
       "\n",
       "    .dataframe thead th {\n",
       "        text-align: right;\n",
       "    }\n",
       "</style>\n",
       "<table border=\"1\" class=\"dataframe\">\n",
       "  <thead>\n",
       "    <tr style=\"text-align: right;\">\n",
       "      <th></th>\n",
       "      <th>code</th>\n",
       "      <th>title</th>\n",
       "      <th>price</th>\n",
       "    </tr>\n",
       "  </thead>\n",
       "  <tbody>\n",
       "    <tr>\n",
       "      <th>195</th>\n",
       "      <td>981861372</td>\n",
       "      <td>[매일우유]매일 멸균우유 200ml 48팩/우유</td>\n",
       "      <td>24,900원9%</td>\n",
       "    </tr>\n",
       "    <tr>\n",
       "      <th>196</th>\n",
       "      <td>1866488535</td>\n",
       "      <td>[온더바디]퓨어시카 베이비파우더 바디워시 1000ml 4개</td>\n",
       "      <td>39,800원</td>\n",
       "    </tr>\n",
       "    <tr>\n",
       "      <th>197</th>\n",
       "      <td>1827756830</td>\n",
       "      <td>[천호엔케어]콜라겐 담은 석류젤리 3박스+1박스 추가증정(총56포)</td>\n",
       "      <td>32,900원63%</td>\n",
       "    </tr>\n",
       "    <tr>\n",
       "      <th>198</th>\n",
       "      <td>1816843046</td>\n",
       "      <td>[하누소]하누소 왕갈비탕(650g6팩) (예약상품 2020.12.28 부터 발송)</td>\n",
       "      <td>34,350원2%</td>\n",
       "    </tr>\n",
       "    <tr>\n",
       "      <th>199</th>\n",
       "      <td>1659410836</td>\n",
       "      <td>[ahc]AHC 프라이빗 아이크림 기획세트</td>\n",
       "      <td>29,900원</td>\n",
       "    </tr>\n",
       "  </tbody>\n",
       "</table>\n",
       "</div>"
      ],
      "text/plain": [
       "           code                                          title       price\n",
       "195   981861372                     [매일우유]매일 멸균우유 200ml 48팩/우유   24,900원9%\n",
       "196  1866488535               [온더바디]퓨어시카 베이비파우더 바디워시 1000ml 4개     39,800원\n",
       "197  1827756830          [천호엔케어]콜라겐 담은 석류젤리 3박스+1박스 추가증정(총56포)  32,900원63%\n",
       "198  1816843046  [하누소]하누소 왕갈비탕(650g6팩) (예약상품 2020.12.28 부터 발송)   34,350원2%\n",
       "199  1659410836                        [ahc]AHC 프라이빗 아이크림 기획세트     29,900원"
      ]
     },
     "execution_count": 27,
     "metadata": {},
     "output_type": "execute_result"
    }
   ],
   "source": [
    "items_df.tail()"
   ]
  },
  {
   "cell_type": "code",
   "execution_count": 44,
   "metadata": {},
   "outputs": [],
   "source": [
    "## stream을 해야 원활하게 가져올 수 있음\n",
    "def download(title, link):\n",
    "    \n",
    "    response = requests.get(link, stream=True)\n",
    "    path = \"./datas/{}\".format(title)\n",
    "    \n",
    "    with open(path, \"wb\") as f:\n",
    "        for chunk in response.iter_content(chunk_size=1024):\n",
    "            if chunk:\n",
    "                f.write(chunk)"
   ]
  },
  {
   "cell_type": "code",
   "execution_count": 46,
   "metadata": {},
   "outputs": [
    {
     "name": "stdout",
     "output_type": "stream",
     "text": [
      "[미니멜츠]미니멜츠구슬아이스크림15개2세트+구슬2.png http://gdimg.gmarket.co.kr/1715473318/still/300\n",
      "[구글플레이](카드가능) 기프트코드 10만원구글 10000크레딧 증정.png http://gdimg.gmarket.co.kr/1655242371/still/300\n",
      "[쉬크]면도크림 쉐이브젤 센서티브 라임폼 210gx3개+2(증정).png http://gdimg.gmarket.co.kr/1678698926/still/300\n",
      "[라벨영]쇼킹 두피에센스 2+1Event비듬+가려움+탈모 뿌리면 끝.png http://gdimg.gmarket.co.kr/1540062164/still/300\n",
      "[달바]화이트 트러플 미스트 세럼 180ml+180ml.png http://gdimg.gmarket.co.kr/1889702312/still/300\n",
      "1+1 물 타지 않은 리얼 사과즙(30포+30포) 애플순.png http://gdimg.gmarket.co.kr/1875592456/still/300\n",
      "비비고 만두 총 10팩(왕교자X2+김치왕교자X2+매운왕교자X2+고기만두X2+김치만.png http://gdimg.gmarket.co.kr/1756312992/still/300\n",
      "New 에코라믹 통주물 블루밍 냄비 세트 총 6종(냄비 4종+콤비팬 2종)+실리콘손.png http://gdimg.gmarket.co.kr/1836990861/still/300\n",
      "[3M]넥스케어 블레미쉬 패치케어 111매 + 48매 추가 증정팩.png http://gdimg.gmarket.co.kr/1893017161/still/300\n",
      "[지오다노]지오다노 홈캉스추천 테리스웨터치노팬츠 70%OFF.png http://gdimg.gmarket.co.kr/1766664761/still/300\n",
      "[프로스펙스]오리지널 워킹화 버블리 101 102 103 PS0US20S321.png http://gdimg.gmarket.co.kr/1967967230/still/300\n",
      "도형학습지 플라토 단계별 세트 선택구매 (전4권).png http://gdimg.gmarket.co.kr/866302436/still/300\n",
      "[매일우유]저지방1% 멸균우유 200ml 48팩 우유두유매일.png http://gdimg.gmarket.co.kr/1115560088/still/300\n",
      "[포레스트스토리]B7 약산성 탈모 샴푸 2+1  1000ml+1000ml+250ml.png http://gdimg.gmarket.co.kr/1661739739/still/300\n",
      "[2080]2080 치약 히말라야 솔트치약 120gx15개(핑5+크5+차5).png http://gdimg.gmarket.co.kr/1499127618/still/300\n",
      "KF94 국산 마스크 100매 식약처인증 의약외품 개별포장.png http://gdimg.gmarket.co.kr/1957397595/still/300\n",
      "생새우살 특대사이즈 1+1 (총40미내외) 3150 급속냉동.png http://gdimg.gmarket.co.kr/1964347278/still/300\n",
      "태송 김치볶음밥 300g x10봉.png http://gdimg.gmarket.co.kr/825499934/still/300\n",
      "[옥주부]10%할인 옥주부 제주돼지통까스(등심 8팩+치즈 2팩+소스 2종(10팩)+돈가스거.png http://gdimg.gmarket.co.kr/1753036354/still/300\n",
      "[니베아]니베아 맨 쿨킥 쉐이빙폼  면도크림 200ml X 3개.png http://gdimg.gmarket.co.kr/1558236145/still/300\n",
      "요즘에겨울세일+10%융기모청바지면팬츠슬랙스3XL.png http://gdimg.gmarket.co.kr/189842449/still/300\n",
      "샤샤 아르간오일 헤어세럼 200ml(+행사중).png http://gdimg.gmarket.co.kr/1692731979/still/300\n",
      "삼립발효미종호빵12봉2박스(팥야채피자 택).png http://gdimg.gmarket.co.kr/1947659245/still/300\n",
      "체스터바이체스터베리 본딩 팬츠 3종.png http://gdimg.gmarket.co.kr/1961814861/still/300\n",
      "[맛집로드]부산맛집 화남정 항정살 국밥 x5봉.png http://gdimg.gmarket.co.kr/1791562830/still/300\n",
      "[깨끗한나라]2020 보솜이 밴드팬티 기저귀 4팩 (매당 208원).png http://gdimg.gmarket.co.kr/884898729/still/300\n",
      "[스웰데이]욕실주방 곰팡이제거제 젤타입 1+1 2세트구매시 도포붓.png http://gdimg.gmarket.co.kr/1845609646/still/300\n",
      "[버츠비]버츠비 모이스춰라이징 립밤 x2 (택1).png http://gdimg.gmarket.co.kr/1729786161/still/300\n",
      "[ahc]에이지리스 리얼 아이크림 포페이스 30ml x6개.png http://gdimg.gmarket.co.kr/1930423015/still/300\n",
      "[아이오페]슈퍼바이탈 안티에이징 2종 기획세트.png http://gdimg.gmarket.co.kr/1916698542/still/300\n",
      "딱좋아 광천 돌김자반40gX5봉.png http://gdimg.gmarket.co.kr/1728093115/still/300\n",
      "[투썸플레이스](스마일클럽) 20Xmas 스트로베리초콜릿생크림 케익.png http://gdimg.gmarket.co.kr/1892310281/still/300\n",
      "돼지 왕구이 환상의 궁합 벌꿀 칼집왕구이 1.2kg+1.2kg.png http://gdimg.gmarket.co.kr/1911512720/still/300\n",
      "[게스]22%중복 GUESS 겨울 아이템 세일전.png http://gdimg.gmarket.co.kr/1267464808/still/300\n",
      "[에그머니](카드가능)(에그머니) 온라인 게임상품권 5만원.png http://gdimg.gmarket.co.kr/1791565626/still/300\n",
      "kf94 마스크 블랙 대형 100매 + 스트랩 1개 합리적인.png http://gdimg.gmarket.co.kr/1895097525/still/300\n",
      "제주 감귤 제주조생감귤 10kg (2S-M).png http://gdimg.gmarket.co.kr/1925157136/still/300\n",
      "10%할인 하동관의 하동가곰탕 10팩.png http://gdimg.gmarket.co.kr/1978918569/still/300\n",
      "출판사연합 육아서 7종 낱권 선택구매(2만원 이상 무료배송).png http://gdimg.gmarket.co.kr/1980341873/still/300\n",
      "[밀크바오밥]1+1 대용량 세라 샴푸트리트먼트바디워시바디로션.png http://gdimg.gmarket.co.kr/776433041/still/300\n",
      "[맛있는우유GT]맛있는우유GT 멸균 흰우유 180ml 48팩.png http://gdimg.gmarket.co.kr/1680591719/still/300\n",
      "[참도깨비]부산 당면만두 20개입 X2봉2세트구매시 떡볶이증정.png http://gdimg.gmarket.co.kr/1531109654/still/300\n",
      "겨울한파특가 니트코트기모티패딩.png http://gdimg.gmarket.co.kr/1688200696/still/300\n",
      "[네파][네파] 남여 프리미아 스트레치 벤치다운자켓 (7G72025_7G82025).png http://gdimg.gmarket.co.kr/1972724201/still/300\n",
      "[메디플라워]더 시크릿 가든 5종 핸드크림세트 1+15+1덤선물세트.png http://gdimg.gmarket.co.kr/585855501/still/300\n",
      "[아웃백스테이크하우스](아웃백빕스)Pays 외식카페 결합 금액권 5만원권.png http://gdimg.gmarket.co.kr/1969140335/still/300\n",
      "[해피바스]오늘하루 아모레퍼시픽 데일리뷰티 특가.png http://gdimg.gmarket.co.kr/1349014625/still/300\n",
      "(20%+20%쿠폰) 클리오 2020베스트 어워즈 ~84%.png http://gdimg.gmarket.co.kr/637636954/still/300\n",
      "[매일유업]킨더조이 걸 T3 3개 + 보이 T3 3개 (총 18입) +토트백.png http://gdimg.gmarket.co.kr/1834171174/still/300\n",
      "[일리윤]일리윤 세라마이드 아토 로션 528ML 2개.png http://gdimg.gmarket.co.kr/1534849667/still/300\n",
      "센스물티슈 악어 캡형 100매 10팩+10팩  한장씩톡톡.png http://gdimg.gmarket.co.kr/1490019603/still/300\n",
      "[킨더]킨더조이 보이 T3   6개 (총 18입) +토트백.png http://gdimg.gmarket.co.kr/1590747898/still/300\n",
      "크린조이 대형 100매 블랙그레이화이트 KF94 황사.png http://gdimg.gmarket.co.kr/1919055584/still/300\n",
      "생새우살 대사이즈 1+1 (총 70미 내외) 7190 급속냉동.png http://gdimg.gmarket.co.kr/1962144529/still/300\n",
      "[리챔]동원 리챔 트러플 300g 10캔.png http://gdimg.gmarket.co.kr/1853117643/still/300\n",
      "[팬틴]팬틴 극손상케어 트리트먼트 220ml 6개 +사은품.png http://gdimg.gmarket.co.kr/1818233067/still/300\n",
      "[팸퍼스]팸퍼스 베이비드라이 5단계 팬티형기저귀 36p 4팩.png http://gdimg.gmarket.co.kr/1834224973/still/300\n",
      "강블리라이프 블링 휴 30M 3겹 30롤 X 2팩화장지휴지.png http://gdimg.gmarket.co.kr/1583658466/still/300\n",
      "10%할인 옥주부 생선+새우까스(생선 6팩+새우 3팩+소스 2종(9팩)+거치대).png http://gdimg.gmarket.co.kr/1818245594/still/300\n",
      "[트라이엄프](신세계본점)[6가지디자인]연말 로맨틱 속옷세트   반응너무 좋아(TWB1474外).png http://gdimg.gmarket.co.kr/1961185317/still/300\n",
      "[참존]참존 연말결산 X 빅세일 인기상품 모음전 디에이지 외.png http://gdimg.gmarket.co.kr/916974752/still/300\n",
      "6년근고려홍삼정 홍삼을 통채로 스틱 10ml 100포.png http://gdimg.gmarket.co.kr/1906924723/still/300\n",
      "[닥터자르트](20%+20%쿠폰) 닥터자르트12월 연말결산 역대급 혜택.png http://gdimg.gmarket.co.kr/775838866/still/300\n",
      "노르웨이 횟감용 생연어  500g(뱃살)+500g(뱃살).png http://gdimg.gmarket.co.kr/1977788999/still/300\n",
      "[프롬산타]3+1 양말롱삭스수면 남자여자학생스니커즈덧신겨울.png http://gdimg.gmarket.co.kr/1107162855/still/300\n",
      "12월18일(금)부터 순차배송 키즈 원리셈 원리셈 세트TOP사고력 세트 단행본 세트.png http://gdimg.gmarket.co.kr/1782779895/still/300\n",
      "넥스웍 두뇌야 놀자 숨은그림찾기 1~5권+미로찾기107 (전6권).png http://gdimg.gmarket.co.kr/1872481683/still/300\n",
      "밸런스휴 아리시원 뭉친근육 마사지 스트레칭.png http://gdimg.gmarket.co.kr/1884397087/still/300\n",
      "[토니모리]22%중복+ ~82% GOOD BUY 2020 연말결산.png http://gdimg.gmarket.co.kr/705589608/still/300\n",
      "[행텐주니어]행텐X행텐주니어 전 상품 무료배송 BEST 겨울 특가.png http://gdimg.gmarket.co.kr/1845888297/still/300\n",
      "[베베숲]아기물티슈 프리미어 캡70매 20팩.png http://gdimg.gmarket.co.kr/1157707109/still/300\n",
      "[아이더]갤러리아   2019년 출시 아이더 베아 남녀공용 숏다운 자켓 DMW19569.png http://gdimg.gmarket.co.kr/1837772750/still/300\n",
      "[앤디애플]신상특가아동복아우터패딩상하복기모템.png http://gdimg.gmarket.co.kr/301110076/still/300\n",
      "[달바]화이트 트러플 미스트 세럼 100ml+100ml.png http://gdimg.gmarket.co.kr/1889687773/still/300\n",
      "수맘 겨울 신상 수면 기모 홈웨어 잠옷 세트.png http://gdimg.gmarket.co.kr/1606293717/still/300\n",
      "[스타벅스]컵커피 스키니라떼 200mlX10컵 X루돌프 우드트레이~.png http://gdimg.gmarket.co.kr/1718247546/still/300\n",
      "[미샤]미샤 글로우픽 27관왕 최대 50%.png http://gdimg.gmarket.co.kr/1718797467/still/300\n",
      "[포레스트스토리]B7 약산성 탈모 샴푸 +탈모헤어팩 1000ml+1000ml+250ml.png http://gdimg.gmarket.co.kr/1682761862/still/300\n",
      "[아디다스]갤러리아  3ST 퍼프 다운 자켓(GF0101).png http://gdimg.gmarket.co.kr/1938110532/still/300\n",
      "[미켈란젤로]미켈란젤로 최종가 히트히트 패키지(남).png http://gdimg.gmarket.co.kr/1976690977/still/300\n",
      "{니트모아}  롱가디건니트폴라원피스빅사이즈.png http://gdimg.gmarket.co.kr/576442682/still/300\n",
      "(신사고) 우공비 시리즈 선택구매.png http://gdimg.gmarket.co.kr/1980196319/still/300\n",
      "[Aura]아우라 건조기용 드라이시트 만다린 120매.png http://gdimg.gmarket.co.kr/1747419672/still/300\n",
      "[트리플에스]트리플에스 약산성 탈모샴푸 1350ml 2개 +5ml20+브러쉬.png http://gdimg.gmarket.co.kr/1888500750/still/300\n",
      "고녀석 맛있겠다 15권 세트 (색칠책+탁상달력증정).png http://gdimg.gmarket.co.kr/1972503793/still/300\n",
      "[에이지투웨니스]에센스 커버팩트 오리지널 케이스1+리필3 +쇼핑백.png http://gdimg.gmarket.co.kr/1656817974/still/300\n",
      "[잠뱅이]잠뱅이 겨울SALE 최대17%할인아우터기모데님맨투맨.png http://gdimg.gmarket.co.kr/1917857271/still/300\n",
      "[아토세이프]쉬슬러 구스다운 세제 650ml 2개+리필 4개 증정.png http://gdimg.gmarket.co.kr/1900009730/still/300\n",
      "[그린핑거]그린핑거 손소독물티슈40매캡형X10팩(1BOX).png http://gdimg.gmarket.co.kr/1824004330/still/300\n",
      "남여 공용 겨울 오리털 패딩 점퍼 후드 숏.png http://gdimg.gmarket.co.kr/1928229774/still/300\n",
      "[오랄비]오랄비 스테이지스 4단계 아동칫솔 프로즌올라프 12입.png http://gdimg.gmarket.co.kr/1829873188/still/300\n",
      "[쉬크]면도기 하이드로5 프리미엄 면도기1+날17+사은품3종.png http://gdimg.gmarket.co.kr/1708266282/still/300\n",
      "[모나리자]모나리자 미용티슈 250매 3입 4개 총12개 각티슈 휴지.png http://gdimg.gmarket.co.kr/1775171803/still/300\n",
      "[팍티오]팍티오 연말사은전가격할인융밴딩팬츠패딩무배.png http://gdimg.gmarket.co.kr/1345137474/still/300\n",
      "[진라면]진라면 매운맛 40봉.png http://gdimg.gmarket.co.kr/1614191721/still/300\n",
      "[비오템]갤러리아   홀리데이  비오템 옴므 아쿠아파워 올인원 프레시 로션-인-젤 20.png http://gdimg.gmarket.co.kr/1783513333/still/300\n",
      "NNF 여성트레이닝 3종세트(베스트+상의+하의).png http://gdimg.gmarket.co.kr/1978805143/still/300\n",
      "비룡소 건방이의 건방진 수련기+초강력 수련기 7권세트.png http://gdimg.gmarket.co.kr/1975829257/still/300\n"
     ]
    },
    {
     "name": "stdout",
     "output_type": "stream",
     "text": [
      "겨울 따뜻한 후리스조끼플리스자켓패딩기모바지.png http://gdimg.gmarket.co.kr/1495278850/still/300\n",
      "[단미]샌드위치 크로플 와플 메이커 화이트(DA-SAN01).png http://gdimg.gmarket.co.kr/1894275999/still/300\n",
      "[불스원]에어테라피 멀티액션 차량용공기청정기 화이트.png http://gdimg.gmarket.co.kr/1771980925/still/300\n",
      "[아름찬]아름찬 3종김치 11kg (포기8kg+총각2kg+무말랭이1kg).png http://gdimg.gmarket.co.kr/1953428845/still/300\n",
      "미미의밥상 감자탕 4.7kg(대용량)국내산등뼈 100%.png http://gdimg.gmarket.co.kr/1854752260/still/300\n",
      "[갤럭시]노트10 노트8 노트9 S10 S9 S8 플러스 핸드폰 케이스.png http://gdimg.gmarket.co.kr/1674605357/still/300\n",
      "[피죤]섬유유연제 3100ml x4개 핑크+랜덤사은품.png http://gdimg.gmarket.co.kr/959734579/still/300\n",
      "[슬레진저]튼튼한 스판덱스 남성 드로즈팬티 10종세트.png http://gdimg.gmarket.co.kr/1737085438/still/300\n",
      "[퀘이커]퀘이커 오트그래놀라 골든넛츠 200g 6개입.png http://gdimg.gmarket.co.kr/1916915236/still/300\n",
      "[매일유업]매일 상하치즈 아기치즈 2단계 80매치즈.png http://gdimg.gmarket.co.kr/1103767026/still/300\n",
      "[셀퓨전씨](20%+10%할인) 12월 마지막 체험특가+정품용량 증정.png http://gdimg.gmarket.co.kr/1687270738/still/300\n",
      "코코비 겨울 상하복 티셔츠 팬츠 원피스 아동복.png http://gdimg.gmarket.co.kr/221218898/still/300\n",
      "[금천미트](10팩+1팩)납작 삼겹살 2.2kg(200gX11팩)(듀록).png http://gdimg.gmarket.co.kr/1840013877/still/300\n",
      "[베이비베이비]베이비베이비 아기물티슈 트윙클120매 20팩 캡형.png http://gdimg.gmarket.co.kr/1501667618/still/300\n",
      "[아몬드브리즈]아몬드브리즈 오리지널 190ML 48팩.png http://gdimg.gmarket.co.kr/1590106776/still/300\n",
      "[참존]참존  초대박구성  최대용량크림 트리플 패키지.png http://gdimg.gmarket.co.kr/1895809355/still/300\n",
      "(만만한책방)만만한 수학 시리즈 전4권(점이뭐야2주세요원은괴물이야분수가 뭐야).png http://gdimg.gmarket.co.kr/1820661794/still/300\n",
      "[모나리자]모나리자 미용티슈 280매 3입 4개 총12개 각티슈 휴지.png http://gdimg.gmarket.co.kr/1775173102/still/300\n",
      "[오뚜기밥]맛있는 오뚜기밥 210g 24개.png http://gdimg.gmarket.co.kr/1503353718/still/300\n",
      "[비쉬]비쉬 인기상품 BIG SALE20%+20%쿠폰12월사은품.png http://gdimg.gmarket.co.kr/1570776879/still/300\n",
      "(동아) 초등중등고등 하이탑 과학 시리즈 선택구매.png http://gdimg.gmarket.co.kr/1976570364/still/300\n",
      "[카페베네]카페베네 카페라떼10개+카페모카10개 200ml 컵커피.png http://gdimg.gmarket.co.kr/1708727297/still/300\n",
      "제주 감귤 제주조생감귤 10kg 로얄(S).png http://gdimg.gmarket.co.kr/1925161889/still/300\n",
      "[아토세이프]덴티본조르노 치약(잇몸 2개+치석 2개+구취 2개) +증정.png http://gdimg.gmarket.co.kr/1941647501/still/300\n",
      "[라네즈]빅스시크릿코드 크림스킨 150ml 저자극 보습 토너.png http://gdimg.gmarket.co.kr/1497226429/still/300\n",
      "[쏘피]바디피트 볼록맞춤 오버나이트 생리대 12Px5팩+무표10P.png http://gdimg.gmarket.co.kr/1499800128/still/300\n",
      "(한시적-할인) 최신간 뉴씽씽영어 전집 세트 : 세이펜버전 New SingSing English.png http://gdimg.gmarket.co.kr/1949234017/still/300\n",
      "6개 페레로 포켓커피 18개입 (총 108개입).png http://gdimg.gmarket.co.kr/1964321854/still/300\n",
      "[베어파우]+25% 베어파우(BEARPAW) 2020FW 양털슈즈127종 택1.png http://gdimg.gmarket.co.kr/1889312893/still/300\n",
      "[에뛰드]UP TO 70% 워크맨 출연 기념 베스트 아이템 대방출.png http://gdimg.gmarket.co.kr/1807235725/still/300\n",
      "[에잇세컨즈]최대15%쿠폰 에잇세컨즈 남녀 겨울잡화 모음.png http://gdimg.gmarket.co.kr/1961223740/still/300\n",
      "국산)전라도 총각김치 2kg 아삭아삭  HAPPC 100% 국산.png http://gdimg.gmarket.co.kr/1583904721/still/300\n",
      "[키즈마루]국산 3중 비말차단 마스크  300매 KF-AD MB필터 마스크.png http://gdimg.gmarket.co.kr/1895033274/still/300\n",
      "[파스퇴르]파스퇴르 무항생제 인증 바른목장(190ml48입)멸균우유.png http://gdimg.gmarket.co.kr/1795049625/still/300\n",
      "[다우니]다우니 엑스퍼트 실내 건조 1L 6개 +사은품.png http://gdimg.gmarket.co.kr/1817538454/still/300\n",
      "[에그머니](카드가능)(에그머니) 온라인 게임상품권 3만원.png http://gdimg.gmarket.co.kr/1741993279/still/300\n",
      "[파리바게뜨]파바 NEW 모바일 3만원권.png http://gdimg.gmarket.co.kr/1771397004/still/300\n",
      "[목우촌]목우촌 흑마늘 훈제오리 10팩.png http://gdimg.gmarket.co.kr/1706154214/still/300\n",
      "[포레스트스토리]B7 약산성 쿨 탈모 샴푸 2+1  1000ml+1000ml+250ml.png http://gdimg.gmarket.co.kr/1703731889/still/300\n",
      "[베지밀]베지밀뼈에좋은칼슘검은콩두유190mlx64팩 인기상품.png http://gdimg.gmarket.co.kr/1799244175/still/300\n",
      "로드스타 남녀공용 가벼운 후리스자켓패딩조끼니트.png http://gdimg.gmarket.co.kr/1492344533/still/300\n",
      "[아워홈]새우볶음밥 300gx10봉.png http://gdimg.gmarket.co.kr/1136968170/still/300\n",
      "강원도 인제군 곤드레 비벼요 85g X 10봉 (10인분).png http://gdimg.gmarket.co.kr/1416161744/still/300\n",
      "[아워홈]햄야채새우볶음밥 300g 각5봉 총10봉.png http://gdimg.gmarket.co.kr/1137373034/still/300\n",
      "씨투엠에듀 플라토주머니 평면도형입체도형 교구  선택구매.png http://gdimg.gmarket.co.kr/1182124384/still/300\n",
      "[쏘피]한결 생리대 중형 16Px4팩+2팩 (스.png http://gdimg.gmarket.co.kr/1524231563/still/300\n",
      "[아침농산]국산 농부의아침 쌀10kg  2020년산 햅쌀.png http://gdimg.gmarket.co.kr/484828506/still/300\n",
      "[다우니]다우니 퍼플 1L 화이트티와 릴리 향 6개 +사은품.png http://gdimg.gmarket.co.kr/1817490375/still/300\n",
      "[샤오미]샤오미 Xinxiang 전동 우유 거품기 커피 라떼아트.png http://gdimg.gmarket.co.kr/1669238353/still/300\n",
      "스타벅스 네스프레소 호환 캡슐 8종맛선택총100캡슐.png http://gdimg.gmarket.co.kr/1918704530/still/300\n",
      "[대상웰라이프]대상웰라이프 뉴케어 마이키즈 딸기맛 150ml x 24팩.png http://gdimg.gmarket.co.kr/1947891953/still/300\n",
      "[스와니코코]전품목 1+1스와니코코 2020마지막세일수분+보습.png http://gdimg.gmarket.co.kr/549071355/still/300\n",
      "알큰설향딸기_1KG 박스 .png http://gdimg.gmarket.co.kr/1552560802/still/300\n",
      "[스파클]스파클생수 2L 30병.png http://gdimg.gmarket.co.kr/1510637585/still/300\n",
      "[천연사이다]천연사이다190ml 60캔(총2박스) 탄산음료.png http://gdimg.gmarket.co.kr/1609119418/still/300\n",
      "제주 감귤 제주조생감귤 10kg 중과(M).png http://gdimg.gmarket.co.kr/1925160079/still/300\n",
      "[햇반]CJ 햇반 210g 36개 (1박스).png http://gdimg.gmarket.co.kr/1651273917/still/300\n",
      "[버츠비]버츠비 생기가득 립밤 세트.png http://gdimg.gmarket.co.kr/1911916035/still/300\n",
      "[이너리즘]1+1 이너리즘 극세사 홈웨어 밍크 융털 수면바지 잠옷.png http://gdimg.gmarket.co.kr/1923553682/still/300\n",
      "디딤돌초등수학 시리즈 (2020 2학기 2021 1학기) 골라담기.png http://gdimg.gmarket.co.kr/1981119762/still/300\n",
      "[에뛰드]UP TO 60% 2020 에뛰드 어워즈.png http://gdimg.gmarket.co.kr/1807233477/still/300\n",
      "맛있고 담백한 쥐치포 (10장4봉).png http://gdimg.gmarket.co.kr/1977805925/still/300\n",
      "EQ의 천재들 총100종(본책82권+스티커북8권+DVD영문판 10장)세이펜호환(별매).png http://gdimg.gmarket.co.kr/1775657608/still/300\n",
      "라이프케어 멀티 생 유산균 라이브 300포+유산균 증정.png http://gdimg.gmarket.co.kr/1743691433/still/300\n",
      "[모나리자]에코모먼트 데코 3겹 30M 30롤 3개 총90롤 화장지.png http://gdimg.gmarket.co.kr/1849031779/still/300\n",
      "[별똥별]똑쟁잉글리쉬세이펜미포함.png http://gdimg.gmarket.co.kr/1206935357/still/300\n",
      "알타파마 맥주효모 Plus Hair+nails 6개 묶음 600일분.png http://gdimg.gmarket.co.kr/1684382413/still/300\n",
      "한복선 영양 특 소갈비탕 800gX11팩.png http://gdimg.gmarket.co.kr/1890056073/still/300\n",
      "빅마마 시크릿코인(아주 편안한 시크릿코인 8팩+(낱개)5개+아주 개운한 시크.png http://gdimg.gmarket.co.kr/1884928603/still/300\n",
      "황토 허리 찜질기 SR105.png http://gdimg.gmarket.co.kr/1666957844/still/300\n",
      "최화정쇼 연말특집 프랑스 명품주물 르쿠르제 풀세트.png http://gdimg.gmarket.co.kr/1983863533/still/300\n",
      "[웨스트우드]갤러리아  웨스트우드 정상가138000원 남성용 써말자켓 (WJ4MCJF213).png http://gdimg.gmarket.co.kr/1970309154/still/300\n",
      "[스타벅스]컵커피 스키니라떼 200mlX10컵 X트리 우드트레이~.png http://gdimg.gmarket.co.kr/1751290600/still/300\n",
      "[에비수]에비수 브랜드 기모맨투맨후드티다운점퍼데님.png http://gdimg.gmarket.co.kr/1895169358/still/300\n",
      "[지오다노]여 초경량 웨이브퀄팅 자켓 370907.png http://gdimg.gmarket.co.kr/1910957220/still/300\n",
      "[디키즈]22%추가쿠폰_디키즈 아우터기모상품 크리스마스 세일.png http://gdimg.gmarket.co.kr/1789464964/still/300\n",
      "[제주삼다수]제주삼다수 2L 12병생수전문배송.png http://gdimg.gmarket.co.kr/1686035302/still/300\n",
      "데이뮤즈 9900균일 원피스양털코트패딩맨투맨롱.png http://gdimg.gmarket.co.kr/1284344651/still/300\n",
      "[루나]루나 톤크러쉬 아이팔래트+미니컨실러+세안헤어밴드.png http://gdimg.gmarket.co.kr/1760730660/still/300\n",
      "(북큐레이션)세계책 시리즈 1-8 전8종.png http://gdimg.gmarket.co.kr/1832278173/still/300\n",
      "[구글플레이](카드가능) 기프트코드 3만원  구글 기프트카드.png http://gdimg.gmarket.co.kr/1655241628/still/300\n",
      "[일리윤]일리윤 세라마이드아토로션 350ml 3개.png http://gdimg.gmarket.co.kr/1568193709/still/300\n",
      "[아이숲][아이숲][본사] 아이숲 아동 KF80 초소형 마스크 50매 세트.png http://gdimg.gmarket.co.kr/1918888419/still/300\n",
      "종근당건강 락토핏 생유산균 골드 5통 (250일분).png http://gdimg.gmarket.co.kr/1577363346/still/300\n",
      "[뉴트리]에버콜라겐 인앤업 플러스 18주(6주X3병)+오메가3증정.png http://gdimg.gmarket.co.kr/1494611340/still/300\n",
      "[헤드앤숄더]헤드앤숄더 퍼퓸프레쉬 신제품 750ml 샴푸 3개 +증정.png http://gdimg.gmarket.co.kr/1870829815/still/300\n",
      "베카 시즈닝 무쇠팬 풀세트.png http://gdimg.gmarket.co.kr/1871755931/still/300\n",
      "저학년은 책이좋아 1-13 전13권.png http://gdimg.gmarket.co.kr/1986898457/still/300\n",
      "(북큐레이션토토북)세계책 시리즈 전3종.png http://gdimg.gmarket.co.kr/1985717014/still/300\n",
      "[팔도]김치 도시락 12 + 도시락 12입 총 24개 12입 박스포장.png http://gdimg.gmarket.co.kr/1651108741/still/300\n",
      "[킨더]킨더조이 걸 T3   6개 (총 18입) +토트백.png http://gdimg.gmarket.co.kr/1590749081/still/300\n",
      "[건어물녀]국내산 오다리 백족 200g  버터 10g증정.png http://gdimg.gmarket.co.kr/316109805/still/300\n",
      "[헬로]헬로 순수 3겹 천연펄프 화장지 30m 30롤 3팩 특가행사.png http://gdimg.gmarket.co.kr/1821519273/still/300\n",
      "KF94 국산 마스크 의약외품 식약처인증 개별포장 100매.png http://gdimg.gmarket.co.kr/1954465467/still/300\n",
      "[무크]mook 20FW 시즌오프 32% 중복 부츠로퍼.png http://gdimg.gmarket.co.kr/1174543480/still/300\n",
      "[콜핑]FW_겨울 세일 다운패딩기모티바지등산화모자.png http://gdimg.gmarket.co.kr/688606931/still/300\n",
      "[쏘피]유기농순면 무표백 생리대 중형 18Px3팩+1팩 (달.png http://gdimg.gmarket.co.kr/1761842218/still/300\n",
      "[매일우유]매일 멸균우유 200ml 48팩우유.png http://gdimg.gmarket.co.kr/981861372/still/300\n",
      "[온더바디]퓨어시카 베이비파우더 바디워시 1000ml 4개.png http://gdimg.gmarket.co.kr/1866488535/still/300\n",
      "[천호엔케어]콜라겐 담은 석류젤리 3박스+1박스 추가증정(총56포).png http://gdimg.gmarket.co.kr/1827756830/still/300\n",
      "[하누소]하누소 왕갈비탕(650g6팩) (예약상품 2020.12.28 부터 발송).png http://gdimg.gmarket.co.kr/1816843046/still/300\n",
      "[ahc]AHC 프라이빗 아이크림 기획세트.png http://gdimg.gmarket.co.kr/1659410836/still/300\n"
     ]
    }
   ],
   "source": [
    "for idx, row in items_df.iterrows() :\n",
    "    link = \"http://gdimg.gmarket.co.kr/{}/still/300\".format(row[\"code\"])\n",
    "    title = row[\"title\"] + \".png\"\n",
    "    title = title.replace(\"/\",\"\")\n",
    "    print(title,link)\n",
    "    download(title, link)"
   ]
  },
  {
   "cell_type": "code",
   "execution_count": 47,
   "metadata": {},
   "outputs": [
    {
     "data": {
      "text/plain": [
       "200"
      ]
     },
     "execution_count": 47,
     "metadata": {},
     "output_type": "execute_result"
    }
   ],
   "source": [
    "imgs = !ls datas\n",
    "len(imgs)"
   ]
  },
  {
   "cell_type": "code",
   "execution_count": null,
   "metadata": {},
   "outputs": [],
   "source": []
  }
 ],
 "metadata": {
  "kernelspec": {
   "display_name": "Python 3",
   "language": "python",
   "name": "python3"
  },
  "language_info": {
   "codemirror_mode": {
    "name": "ipython",
    "version": 3
   },
   "file_extension": ".py",
   "mimetype": "text/x-python",
   "name": "python",
   "nbconvert_exporter": "python",
   "pygments_lexer": "ipython3",
   "version": "3.8.3"
  }
 },
 "nbformat": 4,
 "nbformat_minor": 4
}
