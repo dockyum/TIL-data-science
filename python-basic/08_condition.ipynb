{
 "cells": [
  {
   "cell_type": "markdown",
   "metadata": {},
   "source": [
    "# 조건문\n",
    "- if\n",
    "- else\n",
    "- elif\n",
    "- 삼항연산자"
   ]
  },
  {
   "cell_type": "markdown",
   "metadata": {},
   "source": [
    "## 1.if\n",
    "- 조건에 따라 코드를 실행시키고 싶을 때 사용\n",
    "- condition이 true면 code_1 실행\n",
    "```\n",
    "if <condition>:\n",
    "    <code_1>\n",
    "```"
   ]
  },
  {
   "cell_type": "code",
   "execution_count": 4,
   "metadata": {},
   "outputs": [
    {
     "name": "stdout",
     "output_type": "stream",
     "text": [
      "if\n",
      "done\n"
     ]
    }
   ],
   "source": [
    "state = True\n",
    "if state :\n",
    "    print(\"if\")\n",
    "print(\"done\")"
   ]
  },
  {
   "cell_type": "code",
   "execution_count": 3,
   "metadata": {},
   "outputs": [
    {
     "name": "stdout",
     "output_type": "stream",
     "text": [
      "done\n"
     ]
    }
   ],
   "source": [
    "state = False\n",
    "if state :\n",
    "    print(\"if\")\n",
    "print(\"done\")"
   ]
  },
  {
   "cell_type": "code",
   "execution_count": 6,
   "metadata": {},
   "outputs": [
    {
     "name": "stdout",
     "output_type": "stream",
     "text": [
      "do not buy melon\n"
     ]
    }
   ],
   "source": [
    "money = 10000\n",
    "if money >= 20000:\n",
    "    print(\"buy melon\")\n",
    "if money < 20000:  \n",
    "    print(\"do not buy melon\")"
   ]
  },
  {
   "cell_type": "markdown",
   "metadata": {},
   "source": [
    "## 2.else\n",
    "- condition이 false면 코드가 실행\n",
    "```\n",
    "if <condition>:\n",
    "    <code_1>\n",
    "else:\n",
    "    <code_2>\n",
    "```"
   ]
  },
  {
   "cell_type": "code",
   "execution_count": 8,
   "metadata": {},
   "outputs": [
    {
     "name": "stdout",
     "output_type": "stream",
     "text": [
      "if\n"
     ]
    }
   ],
   "source": [
    "state = True\n",
    "if state:\n",
    "    print(\"if\")\n",
    "else:\n",
    "    print(\"else\")"
   ]
  },
  {
   "cell_type": "code",
   "execution_count": 9,
   "metadata": {},
   "outputs": [
    {
     "name": "stdout",
     "output_type": "stream",
     "text": [
      "do not buy melon\n"
     ]
    }
   ],
   "source": [
    "money = 10000\n",
    "if money >= 20000:\n",
    "    print(\"buy melon\")\n",
    "else:  \n",
    "    print(\"do not buy melon\")"
   ]
  },
  {
   "cell_type": "markdown",
   "metadata": {},
   "source": [
    "## 3.elif\n",
    "- 여러개의 조건 사용시 사용\n",
    "- condition_1 이 True면 code_1 실행, condition_2가 True면 code_2 실행\n",
    "- condition_1,condition_2 둘 다 False면 code_3 실행\n",
    "```\n",
    "if <condition_1>:\n",
    "    <code_1>\n",
    "elif <condition_2>:\n",
    "    <code_2>\n",
    "else <condition_3>:\n",
    "    <code_3>\n",
    "```"
   ]
  },
  {
   "cell_type": "code",
   "execution_count": 13,
   "metadata": {},
   "outputs": [
    {
     "name": "stdout",
     "output_type": "stream",
     "text": [
      "b가 크다\n"
     ]
    }
   ],
   "source": [
    "a,b = 30,31\n",
    "if a>b:\n",
    "    print(\"a가 크다\")\n",
    "elif a<b:\n",
    "    print(\"b가 크다\")\n",
    "else :\n",
    "    print(\"a와 b가 같다\")\n",
    "    "
   ]
  },
  {
   "cell_type": "code",
   "execution_count": 17,
   "metadata": {},
   "outputs": [
    {
     "name": "stdout",
     "output_type": "stream",
     "text": [
      "b가 크다\n"
     ]
    }
   ],
   "source": [
    "a,b = 30,31\n",
    "if a>b:\n",
    "    print(\"a가 크다\")\n",
    "if a<b:\n",
    "    print(\"b가 크다\")\n",
    "if a == b:\n",
    "    print(\"a와 b가 같다\")\n",
    "# 동일한 결과를 가져오지만, 연산을 결과와 상관없이 끝까지 해야하여 비효율적\n"
   ]
  },
  {
   "cell_type": "markdown",
   "metadata": {},
   "source": [
    "## quiz\n",
    "- 숫자를 입력받아서 짝수면 even 홀수면 odd를 출력하는 코드"
   ]
  },
  {
   "cell_type": "code",
   "execution_count": 23,
   "metadata": {},
   "outputs": [
    {
     "name": "stdout",
     "output_type": "stream",
     "text": [
      "input value : 3\n",
      "odd\n"
     ]
    }
   ],
   "source": [
    "value = int(input(\"input value : \"))\n",
    "if (value %2) == 0:\n",
    "    print(\"even\")\n",
    "else :\n",
    "    print(\"odd\")\n",
    "    "
   ]
  },
  {
   "cell_type": "markdown",
   "metadata": {},
   "source": [
    "### quiz\n",
    "- 점수를 입력받아서 학점을 출력하는 코드\n",
    "\n",
    "```\n",
    " 90 ~ 100 : A\n",
    " 80 ~ 89 : B\n",
    " 70 ~ 79 : C\n",
    " 60 ~ 69 : D\n",
    "0 ~ 59 : F\n",
    "```"
   ]
  },
  {
   "cell_type": "code",
   "execution_count": 30,
   "metadata": {},
   "outputs": [
    {
     "name": "stdout",
     "output_type": "stream",
     "text": [
      "your point:78\n",
      "C\n"
     ]
    }
   ],
   "source": [
    "point = int(input(\"your point:\"))\n",
    "if (point >= 90 and point <=100):\n",
    "    print(\"A\")\n",
    "elif (point >= 80 and point <90):\n",
    "    print(\"B\")\n",
    "elif (point >= 70 and point <80):\n",
    "    print(\"C\")\n",
    "elif (point >= 60 and point <70):\n",
    "    print(\"D\")\n",
    "elif (point >= 1and point <60):\n",
    "    print(\"F\")\n",
    "#어짜피 90미만은 당연한 것이므로 and 이후 추가 작성 필요 없음"
   ]
  },
  {
   "cell_type": "markdown",
   "metadata": {},
   "source": [
    "## quiz\n",
    "- 숫자를 입력받아서 3의 배수이면, fizz를 출력, 5의 배수면 buzz를 출력, 3과 5의 배수면 fizzbuzz를 출력하는 코드\n"
   ]
  },
  {
   "cell_type": "code",
   "execution_count": 38,
   "metadata": {},
   "outputs": [
    {
     "name": "stdout",
     "output_type": "stream",
     "text": [
      "number : 15\n",
      "fizzbuzz\n"
     ]
    }
   ],
   "source": [
    "number = int(input(\"number : \"))\n",
    "if (number % 15) == 0:\n",
    "    print(\"fizzbuzz\")\n",
    "elif (number % 3) == 0:\n",
    "    print(\"fizz\")\n",
    "elif (number % 5) == 0:\n",
    "    print(\"buzz\")\n",
    "else:\n",
    "    print(number)"
   ]
  },
  {
   "cell_type": "markdown",
   "metadata": {},
   "source": [
    "## quiz\n",
    "- 최초 계좌에 10000원 보유\n",
    "- 인출이 가능하면 True와 인출 후 잔액\n",
    "- 인출이 불가능하면 False와 현재 잔액"
   ]
  },
  {
   "cell_type": "code",
   "execution_count": 46,
   "metadata": {},
   "outputs": [
    {
     "name": "stdout",
     "output_type": "stream",
     "text": [
      "out : 400000\n",
      "False needs more  390000\n"
     ]
    }
   ],
   "source": [
    "account = 10000\n",
    "out = int(input(\"out : \"))\n",
    "if out <= account:\n",
    "    account -= out\n",
    "    print(\"True\",\"left : \",account)\n",
    "    if account > 0 :\n",
    "        out = int(input(\"out : \"))\n",
    "else:\n",
    "    print(\"False\",\"needs more \",out - account)\n"
   ]
  },
  {
   "cell_type": "code",
   "execution_count": 47,
   "metadata": {},
   "outputs": [
    {
     "name": "stdout",
     "output_type": "stream",
     "text": [
      "인출할 금액을 입력하세요 : 100000\n",
      "False 인출 금액이 90000원 부족합니다\n"
     ]
    }
   ],
   "source": [
    "withdraw = int(input(\"인출할 금액을 입력하세요 : \"))\n",
    "if account >= withdraw:\n",
    "    account -= withdraw\n",
    "    print(True,\"잔액이 {}원 남았습니다.\".format(account))\n",
    "else:\n",
    "    print(False,\"인출 금액이 {}원 부족합니다\".format(withdraw-account))"
   ]
  },
  {
   "cell_type": "markdown",
   "metadata": {},
   "source": [
    "## 4. 삼항영산\n",
    "- condition이 True면 A, False면 B\n",
    "```\n",
    "A if <condition> else B\n",
    "```"
   ]
  },
  {
   "cell_type": "code",
   "execution_count": 49,
   "metadata": {},
   "outputs": [
    {
     "name": "stdout",
     "output_type": "stream",
     "text": [
      "2\n"
     ]
    }
   ],
   "source": [
    "data = 0 \n",
    "if data:\n",
    "    print(1)\n",
    "else:\n",
    "    print(2)\n",
    "    "
   ]
  },
  {
   "cell_type": "code",
   "execution_count": 51,
   "metadata": {},
   "outputs": [
    {
     "name": "stdout",
     "output_type": "stream",
     "text": [
      "1\n"
     ]
    }
   ],
   "source": [
    "data = 10\n",
    "print(1) if data else print(2)"
   ]
  },
  {
   "cell_type": "code",
   "execution_count": 55,
   "metadata": {},
   "outputs": [
    {
     "name": "stdout",
     "output_type": "stream",
     "text": [
      "male\n"
     ]
    }
   ],
   "source": [
    "#data = 1:male, data = 2:female\n",
    "data = 1\n",
    "print(\"male\") if data == 1 else print(\"female\")\n"
   ]
  },
  {
   "cell_type": "code",
   "execution_count": 57,
   "metadata": {},
   "outputs": [
    {
     "data": {
      "text/plain": [
       "'male'"
      ]
     },
     "execution_count": 57,
     "metadata": {},
     "output_type": "execute_result"
    }
   ],
   "source": [
    "data = 1\n",
    "sex = \"male\" if data == 1 else \"Female\"\n",
    "sex"
   ]
  },
  {
   "cell_type": "markdown",
   "metadata": {},
   "source": [
    "## quiz\n",
    "- 숫자를 입력받아서 짝수면 even 홀수면 odd를 출력하는 코드\n"
   ]
  },
  {
   "cell_type": "code",
   "execution_count": 62,
   "metadata": {},
   "outputs": [
    {
     "name": "stdout",
     "output_type": "stream",
     "text": [
      "input number :1502389652013749\n",
      "odd\n"
     ]
    }
   ],
   "source": [
    "number = int(input(\"input number :\"))\n",
    "result = \"even\" if (number % 2) == 0 else \"odd\"\n",
    "print(result)"
   ]
  },
  {
   "cell_type": "code",
   "execution_count": 63,
   "metadata": {},
   "outputs": [
    {
     "data": {
      "text/plain": [
       "2"
      ]
     },
     "execution_count": 63,
     "metadata": {},
     "output_type": "execute_result"
    }
   ],
   "source": [
    " 10 // 5 "
   ]
  },
  {
   "cell_type": "code",
   "execution_count": 64,
   "metadata": {},
   "outputs": [
    {
     "data": {
      "text/plain": [
       "0"
      ]
     },
     "execution_count": 64,
     "metadata": {},
     "output_type": "execute_result"
    }
   ],
   "source": [
    "10 % 5"
   ]
  },
  {
   "cell_type": "code",
   "execution_count": 66,
   "metadata": {},
   "outputs": [
    {
     "name": "stdout",
     "output_type": "stream",
     "text": [
      "input number :4\n",
      "even\n"
     ]
    }
   ],
   "source": [
    "number = int(input(\"input number :\"))\n",
    "result = \"odd\" if number % 2 else \"even\"\n",
    "print(result)\n",
    "# 값이 0이면 false"
   ]
  },
  {
   "cell_type": "code",
   "execution_count": null,
   "metadata": {},
   "outputs": [],
   "source": []
  }
 ],
 "metadata": {
  "kernelspec": {
   "display_name": "Python 3",
   "language": "python",
   "name": "python3"
  },
  "language_info": {
   "codemirror_mode": {
    "name": "ipython",
    "version": 3
   },
   "file_extension": ".py",
   "mimetype": "text/x-python",
   "name": "python",
   "nbconvert_exporter": "python",
   "pygments_lexer": "ipython3",
   "version": "3.8.3"
  }
 },
 "nbformat": 4,
 "nbformat_minor": 4
}
