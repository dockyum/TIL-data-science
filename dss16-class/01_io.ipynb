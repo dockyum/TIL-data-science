{
 "cells": [
  {
   "cell_type": "markdown",
   "metadata": {},
   "source": [
    "# input output\n",
    "- RAM에 저장되어 있는 변수를 HDD, SDD로 저장하는 방법\n",
    "- pickle : input, output를 편하게 해주는 패키지\n",
    "- 학습된 모델을 저장하고 로드해서 사용할 때 많이 사용"
   ]
  },
  {
   "cell_type": "markdown",
   "metadata": {},
   "source": [
    "# 1. IO\n",
    "- 파일을 읽거나 쓰는 방법"
   ]
  },
  {
   "cell_type": "markdown",
   "metadata": {},
   "source": [
    "## 1. 파일쓰기 : txt, binary\n",
    "### .txt"
   ]
  },
  {
   "cell_type": "code",
   "execution_count": 10,
   "metadata": {},
   "outputs": [],
   "source": [
    "data = \"\"\"jupyter notebook\n",
    "notebook\n",
    "python\"\"\""
   ]
  },
  {
   "cell_type": "code",
   "execution_count": 6,
   "metadata": {},
   "outputs": [
    {
     "name": "stdout",
     "output_type": "stream",
     "text": [
      "mkdir: files: File exists\r\n"
     ]
    }
   ],
   "source": [
    "!mkdir files"
   ]
  },
  {
   "cell_type": "code",
   "execution_count": 7,
   "metadata": {},
   "outputs": [
    {
     "name": "stdout",
     "output_type": "stream",
     "text": [
      "01_io-MATL.ipynb                 07_modeling_titanic_kaggle.ipynb\r\n",
      "01_io.ipynb                      \u001b[1m\u001b[36marticles\u001b[m\u001b[m\r\n",
      "03_package-MATL.ipynb            \u001b[1m\u001b[36mcopy\u001b[m\u001b[m\r\n",
      "03_regex_day2.ipynb              \u001b[1m\u001b[36mdatas\u001b[m\u001b[m\r\n",
      "04_linked_list_new.ipynb         \u001b[1m\u001b[36mfiles\u001b[m\u001b[m\r\n",
      "05_numpy_pandas.ipynb            \u001b[1m\u001b[36mimgs\u001b[m\u001b[m\r\n",
      "06_preprocessing.ipynb\r\n"
     ]
    }
   ],
   "source": [
    "!ls"
   ]
  },
  {
   "cell_type": "code",
   "execution_count": 11,
   "metadata": {},
   "outputs": [],
   "source": [
    "file = open(\"files/test.txt\", \"wt\")\n",
    "file.write(data)\n",
    "file.close()\n",
    "# write() argument must be str, not bytes"
   ]
  },
  {
   "cell_type": "code",
   "execution_count": 12,
   "metadata": {},
   "outputs": [
    {
     "name": "stdout",
     "output_type": "stream",
     "text": [
      "\u001b[1m\u001b[36mtest\u001b[m\u001b[m/      test.txt   \u001b[31mtest1.txt\u001b[m\u001b[m* test2.txt\r\n"
     ]
    }
   ],
   "source": [
    "%ls files"
   ]
  },
  {
   "cell_type": "code",
   "execution_count": 13,
   "metadata": {},
   "outputs": [
    {
     "name": "stdout",
     "output_type": "stream",
     "text": [
      "jupyter notebook\r\n",
      "notebook\r\n",
      "python"
     ]
    }
   ],
   "source": [
    "%cat files/test.txt"
   ]
  },
  {
   "cell_type": "markdown",
   "metadata": {},
   "source": [
    "### .b : 바이너리 파일\n",
    "- 바이트 포멧의 데이터만 저장이 가능\n",
    "- RAM.파일형태 != SSD.파일형태\n",
    "- 직렬화(Serialization) : RAM의 파일 포멧을 SSD(HDD) 파일 포멧으로 변환해서 저장\n",
    "- bytes() "
   ]
  },
  {
   "cell_type": "code",
   "execution_count": 15,
   "metadata": {},
   "outputs": [],
   "source": [
    "data = bytes(range(5, 10))\n",
    "\n",
    "file = open(\"files/test.b\", \"wb\")\n",
    "file.write(data)\n",
    "file.close()"
   ]
  },
  {
   "cell_type": "code",
   "execution_count": 16,
   "metadata": {},
   "outputs": [
    {
     "data": {
      "text/plain": [
       "b'\\x05\\x06\\x07\\x08\\t'"
      ]
     },
     "execution_count": 16,
     "metadata": {},
     "output_type": "execute_result"
    }
   ],
   "source": [
    "data\n",
    "# binary file"
   ]
  },
  {
   "cell_type": "markdown",
   "metadata": {},
   "source": [
    "## 2. 파일 읽기 : txt, binary\n",
    "### .txt"
   ]
  },
  {
   "cell_type": "code",
   "execution_count": 17,
   "metadata": {},
   "outputs": [],
   "source": [
    "file = open(\"files/test.txt\", \"rt\")\n",
    "data = file.read()\n",
    "file.close()"
   ]
  },
  {
   "cell_type": "code",
   "execution_count": 18,
   "metadata": {},
   "outputs": [
    {
     "name": "stdout",
     "output_type": "stream",
     "text": [
      "jupyter notebook\n",
      "notebook\n",
      "python\n"
     ]
    }
   ],
   "source": [
    "print(data)"
   ]
  },
  {
   "cell_type": "markdown",
   "metadata": {},
   "source": [
    "### with 사용 (주로 이렇게 사용)\n",
    "- close를 자동으로 함"
   ]
  },
  {
   "cell_type": "markdown",
   "metadata": {},
   "source": [
    "### .txt"
   ]
  },
  {
   "cell_type": "code",
   "execution_count": 21,
   "metadata": {},
   "outputs": [],
   "source": [
    "with open(\"files/test.txt\", \"rt\") as f:\n",
    "    data = f.read()"
   ]
  },
  {
   "cell_type": "code",
   "execution_count": 22,
   "metadata": {},
   "outputs": [
    {
     "name": "stdout",
     "output_type": "stream",
     "text": [
      "jupyter notebook\n",
      "notebook\n",
      "python\n"
     ]
    }
   ],
   "source": [
    "print(data)"
   ]
  },
  {
   "cell_type": "markdown",
   "metadata": {},
   "source": [
    "### .b"
   ]
  },
  {
   "cell_type": "code",
   "execution_count": 23,
   "metadata": {},
   "outputs": [
    {
     "data": {
      "text/plain": [
       "[5, 6, 7, 8, 9]"
      ]
     },
     "execution_count": 23,
     "metadata": {},
     "output_type": "execute_result"
    }
   ],
   "source": [
    "with open(\"files/test.b\", \"rb\") as f:\n",
    "    data = f.read()\n",
    "    \n",
    "list(data)"
   ]
  },
  {
   "cell_type": "code",
   "execution_count": 25,
   "metadata": {},
   "outputs": [
    {
     "name": "stdout",
     "output_type": "stream",
     "text": [
      "\u001b[1m\u001b[36mtest\u001b[m\u001b[m/      test.b     test.txt   \u001b[31mtest1.txt\u001b[m\u001b[m* test2.txt\r\n"
     ]
    }
   ],
   "source": [
    "%ls files"
   ]
  },
  {
   "cell_type": "markdown",
   "metadata": {},
   "source": [
    "## 3. pickle\n",
    "\n",
    "- open 함수로 만든 file 객체로 입출력하는것보다 속도가 빠릅니다.\n",
    "- 직렬화를 자동으로 해줍니다."
   ]
  },
  {
   "cell_type": "code",
   "execution_count": 27,
   "metadata": {},
   "outputs": [],
   "source": [
    "data = bytes(range(5,10))\n",
    "\n",
    "file = open(\"files/test.b\", \"wb\")\n",
    "file.write(data)\n",
    "file.close()"
   ]
  },
  {
   "cell_type": "code",
   "execution_count": 28,
   "metadata": {},
   "outputs": [],
   "source": [
    "import pickle"
   ]
  },
  {
   "cell_type": "code",
   "execution_count": 30,
   "metadata": {},
   "outputs": [],
   "source": [
    "## 쓰기\n",
    "data = range(5,10)\n",
    "\n",
    "with open(\"files/test2.pkl\", \"wb\") as file:\n",
    "    pickle.dump(data, file)"
   ]
  },
  {
   "cell_type": "code",
   "execution_count": 31,
   "metadata": {},
   "outputs": [],
   "source": [
    "## 읽기\n",
    "data = range(5,10)\n",
    "\n",
    "with open(\"files/test2.pkl\", \"rb\") as file:\n",
    "    load_data = pickle.load(file)"
   ]
  },
  {
   "cell_type": "code",
   "execution_count": 33,
   "metadata": {},
   "outputs": [
    {
     "data": {
      "text/plain": [
       "[5, 6, 7, 8, 9]"
      ]
     },
     "execution_count": 33,
     "metadata": {},
     "output_type": "execute_result"
    }
   ],
   "source": [
    "list(load_data)"
   ]
  },
  {
   "cell_type": "markdown",
   "metadata": {},
   "source": [
    "## 2. OS\n",
    "- 파이썬 코드로 파일 시스템(디렉토리와 파일들)을 다루는 방법"
   ]
  },
  {
   "cell_type": "code",
   "execution_count": 35,
   "metadata": {},
   "outputs": [],
   "source": [
    "import os"
   ]
  },
  {
   "cell_type": "markdown",
   "metadata": {},
   "source": [
    "#### 디렉토리 만들기"
   ]
  },
  {
   "cell_type": "code",
   "execution_count": 36,
   "metadata": {},
   "outputs": [
    {
     "name": "stdout",
     "output_type": "stream",
     "text": [
      "01_io.ipynb           04_linked_list.ipynb  python_summary.ipynb\r\n",
      "02_regex.ipynb        \u001b[1m\u001b[36mfile\u001b[m\u001b[m/\r\n",
      "03_package.ipynb      io.ipynb\r\n"
     ]
    }
   ],
   "source": [
    "%ls"
   ]
  },
  {
   "cell_type": "code",
   "execution_count": 37,
   "metadata": {},
   "outputs": [],
   "source": [
    "os.makedirs(\"dir\")"
   ]
  },
  {
   "cell_type": "code",
   "execution_count": 38,
   "metadata": {},
   "outputs": [
    {
     "name": "stdout",
     "output_type": "stream",
     "text": [
      "01_io.ipynb           04_linked_list.ipynb  io.ipynb\r\n",
      "02_regex.ipynb        \u001b[1m\u001b[36mdir\u001b[m\u001b[m/                  python_summary.ipynb\r\n",
      "03_package.ipynb      \u001b[1m\u001b[36mfile\u001b[m\u001b[m/\r\n"
     ]
    }
   ],
   "source": [
    "%ls"
   ]
  },
  {
   "cell_type": "markdown",
   "metadata": {},
   "source": [
    "#### 파일리스트 읽기"
   ]
  },
  {
   "cell_type": "code",
   "execution_count": 39,
   "metadata": {},
   "outputs": [
    {
     "data": {
      "text/plain": [
       "['test.txt', 'test.b']"
      ]
     },
     "execution_count": 39,
     "metadata": {},
     "output_type": "execute_result"
    }
   ],
   "source": [
    "os.listdir(\"file\")"
   ]
  },
  {
   "cell_type": "markdown",
   "metadata": {},
   "source": [
    "#### 파일 삭제"
   ]
  },
  {
   "cell_type": "code",
   "execution_count": 40,
   "metadata": {},
   "outputs": [],
   "source": [
    "os.remove(\"file/test.b\")"
   ]
  },
  {
   "cell_type": "code",
   "execution_count": 41,
   "metadata": {},
   "outputs": [
    {
     "data": {
      "text/plain": [
       "['test.txt']"
      ]
     },
     "execution_count": 41,
     "metadata": {},
     "output_type": "execute_result"
    }
   ],
   "source": [
    "os.listdir(\"file\")"
   ]
  },
  {
   "cell_type": "markdown",
   "metadata": {},
   "source": [
    "#### 디렉토리 삭제"
   ]
  },
  {
   "cell_type": "code",
   "execution_count": 46,
   "metadata": {},
   "outputs": [
    {
     "name": "stdout",
     "output_type": "stream",
     "text": [
      "01_io.ipynb           04_linked_list.ipynb  io.ipynb\r\n",
      "02_regex.ipynb        \u001b[1m\u001b[36mdir\u001b[m\u001b[m/                  python_summary.ipynb\r\n",
      "03_package.ipynb      \u001b[1m\u001b[36mfile\u001b[m\u001b[m/\r\n"
     ]
    }
   ],
   "source": [
    "%ls"
   ]
  },
  {
   "cell_type": "code",
   "execution_count": 47,
   "metadata": {},
   "outputs": [],
   "source": [
    "os.removedirs(\"dir\")"
   ]
  },
  {
   "cell_type": "code",
   "execution_count": 48,
   "metadata": {},
   "outputs": [
    {
     "name": "stdout",
     "output_type": "stream",
     "text": [
      "01_io.ipynb           04_linked_list.ipynb  python_summary.ipynb\r\n",
      "02_regex.ipynb        \u001b[1m\u001b[36mfile\u001b[m\u001b[m/\r\n",
      "03_package.ipynb      io.ipynb\r\n"
     ]
    }
   ],
   "source": [
    "%ls"
   ]
  },
  {
   "cell_type": "code",
   "execution_count": 49,
   "metadata": {},
   "outputs": [
    {
     "ename": "OSError",
     "evalue": "[Errno 66] Directory not empty: 'file'",
     "output_type": "error",
     "traceback": [
      "\u001b[0;31m---------------------------------------------------------------------------\u001b[0m",
      "\u001b[0;31mOSError\u001b[0m                                   Traceback (most recent call last)",
      "\u001b[0;32m<ipython-input-49-69e112a10ace>\u001b[0m in \u001b[0;36m<module>\u001b[0;34m\u001b[0m\n\u001b[0;32m----> 1\u001b[0;31m \u001b[0mos\u001b[0m\u001b[0;34m.\u001b[0m\u001b[0mremovedirs\u001b[0m\u001b[0;34m(\u001b[0m\u001b[0;34m\"file\"\u001b[0m\u001b[0;34m)\u001b[0m\u001b[0;34m\u001b[0m\u001b[0;34m\u001b[0m\u001b[0m\n\u001b[0m",
      "\u001b[0;32m/opt/anaconda3/lib/python3.8/os.py\u001b[0m in \u001b[0;36mremovedirs\u001b[0;34m(name)\u001b[0m\n\u001b[1;32m    239\u001b[0m \u001b[0;34m\u001b[0m\u001b[0m\n\u001b[1;32m    240\u001b[0m     \"\"\"\n\u001b[0;32m--> 241\u001b[0;31m     \u001b[0mrmdir\u001b[0m\u001b[0;34m(\u001b[0m\u001b[0mname\u001b[0m\u001b[0;34m)\u001b[0m\u001b[0;34m\u001b[0m\u001b[0;34m\u001b[0m\u001b[0m\n\u001b[0m\u001b[1;32m    242\u001b[0m     \u001b[0mhead\u001b[0m\u001b[0;34m,\u001b[0m \u001b[0mtail\u001b[0m \u001b[0;34m=\u001b[0m \u001b[0mpath\u001b[0m\u001b[0;34m.\u001b[0m\u001b[0msplit\u001b[0m\u001b[0;34m(\u001b[0m\u001b[0mname\u001b[0m\u001b[0;34m)\u001b[0m\u001b[0;34m\u001b[0m\u001b[0;34m\u001b[0m\u001b[0m\n\u001b[1;32m    243\u001b[0m     \u001b[0;32mif\u001b[0m \u001b[0;32mnot\u001b[0m \u001b[0mtail\u001b[0m\u001b[0;34m:\u001b[0m\u001b[0;34m\u001b[0m\u001b[0;34m\u001b[0m\u001b[0m\n",
      "\u001b[0;31mOSError\u001b[0m: [Errno 66] Directory not empty: 'file'"
     ]
    }
   ],
   "source": [
    "os.removedirs(\"file\")"
   ]
  },
  {
   "cell_type": "code",
   "execution_count": 68,
   "metadata": {},
   "outputs": [],
   "source": [
    "# quiz\n",
    "# 디렉토리 안에 있는 파일을 모두 삭제\n",
    "# 디렉토리 삭제"
   ]
  },
  {
   "cell_type": "code",
   "execution_count": 64,
   "metadata": {},
   "outputs": [],
   "source": [
    "def force_remove(dpath):\n",
    "    # 해당 디렉토리에 있는 파일 리스트\n",
    "    file_list = os.listdir(dpath)\n",
    "    \n",
    "    # 파일 리스트의 파일 삭제\n",
    "    for file in file_list:\n",
    "        os.remove(\"{}/{}\".format(dpath,file))\n",
    "        \n",
    "    # 디렉토리 삭제\n",
    "    os.removedirs(dpath)    \n"
   ]
  },
  {
   "cell_type": "code",
   "execution_count": 65,
   "metadata": {},
   "outputs": [],
   "source": [
    "force_remove(\"file\")"
   ]
  },
  {
   "cell_type": "code",
   "execution_count": 66,
   "metadata": {},
   "outputs": [
    {
     "name": "stdout",
     "output_type": "stream",
     "text": [
      "01_io.ipynb           03_package.ipynb      io.ipynb\r\n",
      "02_regex.ipynb        04_linked_list.ipynb  python_summary.ipynb\r\n"
     ]
    }
   ],
   "source": [
    "%ls"
   ]
  },
  {
   "cell_type": "code",
   "execution_count": 74,
   "metadata": {},
   "outputs": [],
   "source": [
    "os.makedirs(\"files\")"
   ]
  },
  {
   "cell_type": "code",
   "execution_count": 75,
   "metadata": {},
   "outputs": [],
   "source": [
    "data = \"1234\"\n",
    "with open(\"files/test1.txt\", \"wt\") as file:\n",
    "    file.write(data)\n",
    "\n",
    "with open(\"files/test1.csv\", \"wt\") as file:\n",
    "    file.write(data)"
   ]
  },
  {
   "cell_type": "code",
   "execution_count": 70,
   "metadata": {},
   "outputs": [
    {
     "name": "stdout",
     "output_type": "stream",
     "text": [
      "test1.csv test1.txt\r\n"
     ]
    }
   ],
   "source": [
    "!ls files"
   ]
  },
  {
   "cell_type": "code",
   "execution_count": 71,
   "metadata": {},
   "outputs": [],
   "source": [
    "import shutil"
   ]
  },
  {
   "cell_type": "code",
   "execution_count": 72,
   "metadata": {},
   "outputs": [],
   "source": [
    "## 강제 삭제 rmtree()\n",
    "shutil.rmtree(\"files\")"
   ]
  },
  {
   "cell_type": "code",
   "execution_count": 73,
   "metadata": {},
   "outputs": [
    {
     "name": "stdout",
     "output_type": "stream",
     "text": [
      "01_io.ipynb           03_package.ipynb      io.ipynb\r\n",
      "02_regex.ipynb        04_linked_list.ipynb  python_summary.ipynb\r\n"
     ]
    }
   ],
   "source": [
    "%ls"
   ]
  },
  {
   "cell_type": "markdown",
   "metadata": {},
   "source": [
    "#### 파일 복사하기"
   ]
  },
  {
   "cell_type": "code",
   "execution_count": 76,
   "metadata": {},
   "outputs": [],
   "source": [
    "!mkdir copy"
   ]
  },
  {
   "cell_type": "code",
   "execution_count": 78,
   "metadata": {},
   "outputs": [
    {
     "data": {
      "text/plain": [
       "'copy/test.txt'"
      ]
     },
     "execution_count": 78,
     "metadata": {},
     "output_type": "execute_result"
    }
   ],
   "source": [
    "shutil.copy(\"files/test1.csv\", \"copy/test.txt\")"
   ]
  },
  {
   "cell_type": "code",
   "execution_count": 79,
   "metadata": {},
   "outputs": [
    {
     "name": "stdout",
     "output_type": "stream",
     "text": [
      "test.txt\r\n"
     ]
    }
   ],
   "source": [
    "%ls copy"
   ]
  },
  {
   "cell_type": "code",
   "execution_count": 80,
   "metadata": {},
   "outputs": [
    {
     "name": "stdout",
     "output_type": "stream",
     "text": [
      "1234"
     ]
    }
   ],
   "source": [
    "!cat copy/test.txt"
   ]
  },
  {
   "cell_type": "markdown",
   "metadata": {},
   "source": [
    "#### 파일 이름 변경"
   ]
  },
  {
   "cell_type": "code",
   "execution_count": 81,
   "metadata": {},
   "outputs": [],
   "source": [
    "os.rename(\"files/test1.csv\", \"files/test2.txt\")"
   ]
  },
  {
   "cell_type": "code",
   "execution_count": 82,
   "metadata": {},
   "outputs": [
    {
     "name": "stdout",
     "output_type": "stream",
     "text": [
      "test1.txt  test2.txt\r\n"
     ]
    }
   ],
   "source": [
    "%ls files"
   ]
  },
  {
   "cell_type": "markdown",
   "metadata": {},
   "source": [
    "#### 권한 설정"
   ]
  },
  {
   "cell_type": "code",
   "execution_count": 84,
   "metadata": {},
   "outputs": [],
   "source": [
    "!mkdir files/test"
   ]
  },
  {
   "cell_type": "code",
   "execution_count": 85,
   "metadata": {},
   "outputs": [
    {
     "name": "stdout",
     "output_type": "stream",
     "text": [
      "total 16\r\n",
      "drwxr-xr-x   5 dokyum  staff  160 12 23 16:22 \u001b[1m\u001b[36m.\u001b[m\u001b[m\r\n",
      "drwxr-xr-x@ 11 dokyum  staff  352 12 23 16:20 \u001b[1m\u001b[36m..\u001b[m\u001b[m\r\n",
      "drwxr-xr-x   2 dokyum  staff   64 12 23 16:22 \u001b[1m\u001b[36mtest\u001b[m\u001b[m\r\n",
      "-rw-r--r--   1 dokyum  staff    4 12 23 16:17 test1.txt\r\n",
      "-rw-r--r--   1 dokyum  staff    4 12 23 16:17 test2.txt\r\n"
     ]
    }
   ],
   "source": [
    "!ls -al files"
   ]
  },
  {
   "cell_type": "code",
   "execution_count": 86,
   "metadata": {},
   "outputs": [],
   "source": [
    "# d : directory\n",
    "# r : read , w : write, x : execute\n",
    "# 첫 세개 , 소유자에 대한 권한\n",
    "# 다음 세개 , 그룹에 대한 권한\n",
    "# 그 다음 세개, 모든 사용자에 대한 권한"
   ]
  },
  {
   "cell_type": "code",
   "execution_count": 87,
   "metadata": {},
   "outputs": [],
   "source": [
    "#  rwx rwx rwx : (8) 진수로 표현"
   ]
  },
  {
   "cell_type": "code",
   "execution_count": 90,
   "metadata": {},
   "outputs": [],
   "source": [
    "os.chmod(\"files/test1.txt\",0o756)\n",
    "## 0o : 8진수"
   ]
  },
  {
   "cell_type": "code",
   "execution_count": 91,
   "metadata": {},
   "outputs": [
    {
     "name": "stdout",
     "output_type": "stream",
     "text": [
      "-rwxr-xrw-  1 dokyum  staff  4 12 23 16:17 \u001b[31mfiles/test1.txt\u001b[m\u001b[m\r\n"
     ]
    }
   ],
   "source": [
    "!ls -al files/test1.txt"
   ]
  },
  {
   "cell_type": "code",
   "execution_count": 92,
   "metadata": {},
   "outputs": [],
   "source": [
    "# rwx(7:111) rw-(6:110) r-x(5:101)"
   ]
  },
  {
   "cell_type": "markdown",
   "metadata": {},
   "source": [
    "#### 기사 카테고리 분류해서 각 디렉토리로 파일 복사하기\n",
    "- text : 기사가 txt 파일로 저장\n",
    "- model.pkl : 텍스트 문장의 카테고리를 분류해주는 모델 객체 (AI)\n",
    "- 6가지의 카테고리 : 100, 101, 102, 103, 104, 105\n",
    "- text 디렉토리에 있는 .txt 파일을 model로 카테고리를 분류해서 해당 디렉토리에 저장하기"
   ]
  },
  {
   "cell_type": "code",
   "execution_count": 94,
   "metadata": {},
   "outputs": [
    {
     "name": "stdout",
     "output_type": "stream",
     "text": [
      "model.pkl  \u001b[1m\u001b[36mtexts\u001b[m\u001b[m/\r\n"
     ]
    }
   ],
   "source": [
    "%ls articles/"
   ]
  },
  {
   "cell_type": "code",
   "execution_count": 95,
   "metadata": {},
   "outputs": [
    {
     "data": {
      "text/plain": [
       "{100: '정치 ', 101: '경제', 102: '사회', 103: '생활/문화', 104: '세계 ', 105: 'IT/과학'}"
      ]
     },
     "execution_count": 95,
     "metadata": {},
     "output_type": "execute_result"
    }
   ],
   "source": [
    "categories = {100 : \"정치 \",  101: \"경제\" , 102 : \"사회\" , 103 : \"생활/문화\" , 104 : \"세계 \" , 105 : \"IT/과학\"}\n",
    "categories"
   ]
  },
  {
   "cell_type": "code",
   "execution_count": 96,
   "metadata": {},
   "outputs": [],
   "source": [
    "# 1. 카테고리별 디렉토리 만들기"
   ]
  },
  {
   "cell_type": "code",
   "execution_count": 103,
   "metadata": {},
   "outputs": [],
   "source": [
    "for dname in categories.keys():\n",
    "    os.makedirs(\"articles/{}\".format(dname)) "
   ]
  },
  {
   "cell_type": "code",
   "execution_count": 104,
   "metadata": {},
   "outputs": [
    {
     "name": "stdout",
     "output_type": "stream",
     "text": [
      "\u001b[1m\u001b[36m100\u001b[m\u001b[m/       \u001b[1m\u001b[36m102\u001b[m\u001b[m/       \u001b[1m\u001b[36m104\u001b[m\u001b[m/       model.pkl\r\n",
      "\u001b[1m\u001b[36m101\u001b[m\u001b[m/       \u001b[1m\u001b[36m103\u001b[m\u001b[m/       \u001b[1m\u001b[36m105\u001b[m\u001b[m/       \u001b[1m\u001b[36mtexts\u001b[m\u001b[m/\r\n"
     ]
    }
   ],
   "source": [
    "%ls articles/"
   ]
  },
  {
   "cell_type": "code",
   "execution_count": null,
   "metadata": {},
   "outputs": [],
   "source": [
    "# 2. 텍스트 리스트 불러오기 : texts 디렉토리 안에 있는 txt 파일 리스트"
   ]
  },
  {
   "cell_type": "code",
   "execution_count": 108,
   "metadata": {},
   "outputs": [
    {
     "data": {
      "text/plain": [
       "(237,\n",
       " ['101_일본차3만대수입할때한국차는고작32대수출.txt',\n",
       "  '102_한라산에기습폭우고립됐던초등생·교사28명구조.txt'])"
      ]
     },
     "execution_count": 108,
     "metadata": {},
     "output_type": "execute_result"
    }
   ],
   "source": [
    "articles = os.listdir(\"articles/texts\")\n",
    "len(articles), articles[:2]"
   ]
  },
  {
   "cell_type": "code",
   "execution_count": 97,
   "metadata": {},
   "outputs": [],
   "source": [
    "# 3. 모델 객체 불러오기"
   ]
  },
  {
   "cell_type": "code",
   "execution_count": 109,
   "metadata": {},
   "outputs": [
    {
     "name": "stderr",
     "output_type": "stream",
     "text": [
      "/opt/anaconda3/lib/python3.8/site-packages/sklearn/base.py:329: UserWarning: Trying to unpickle estimator TfidfTransformer from version 0.22.2.post1 when using version 0.23.1. This might lead to breaking code or invalid results. Use at your own risk.\n",
      "  warnings.warn(\n",
      "/opt/anaconda3/lib/python3.8/site-packages/sklearn/base.py:329: UserWarning: Trying to unpickle estimator TfidfVectorizer from version 0.22.2.post1 when using version 0.23.1. This might lead to breaking code or invalid results. Use at your own risk.\n",
      "  warnings.warn(\n",
      "/opt/anaconda3/lib/python3.8/site-packages/sklearn/base.py:329: UserWarning: Trying to unpickle estimator MultinomialNB from version 0.22.2.post1 when using version 0.23.1. This might lead to breaking code or invalid results. Use at your own risk.\n",
      "  warnings.warn(\n",
      "/opt/anaconda3/lib/python3.8/site-packages/sklearn/base.py:329: UserWarning: Trying to unpickle estimator Pipeline from version 0.22.2.post1 when using version 0.23.1. This might lead to breaking code or invalid results. Use at your own risk.\n",
      "  warnings.warn(\n"
     ]
    }
   ],
   "source": [
    "with open(\"articles/model.pkl\", \"rb\") as file:\n",
    "    model = pickle.load(file)"
   ]
  },
  {
   "cell_type": "code",
   "execution_count": 113,
   "metadata": {},
   "outputs": [
    {
     "data": {
      "text/plain": [
       "(103, '생활/문화')"
      ]
     },
     "execution_count": 113,
     "metadata": {},
     "output_type": "execute_result"
    }
   ],
   "source": [
    "result = model.predict([\"일본차3만대수입할때한국차는고작32대수출\"])[0]\n",
    "result, categories[result]"
   ]
  },
  {
   "cell_type": "code",
   "execution_count": 98,
   "metadata": {},
   "outputs": [],
   "source": [
    "# 4. 텍스트 리스트에 있는 파일을 변수에 불러오기"
   ]
  },
  {
   "cell_type": "code",
   "execution_count": 115,
   "metadata": {},
   "outputs": [
    {
     "data": {
      "text/plain": [
       "'그동안 일본 수입차'"
      ]
     },
     "execution_count": 115,
     "metadata": {},
     "output_type": "execute_result"
    }
   ],
   "source": [
    "with open(\"articles/texts/{}\".format(articles[0]), \"rt\") as file:\n",
    "    txt = file.read()\n",
    "    \n",
    "txt[:10]"
   ]
  },
  {
   "cell_type": "code",
   "execution_count": 99,
   "metadata": {},
   "outputs": [],
   "source": [
    "# 5. 불러온 텍스트 데이터를 모델로 예측하기"
   ]
  },
  {
   "cell_type": "code",
   "execution_count": 116,
   "metadata": {},
   "outputs": [
    {
     "data": {
      "text/plain": [
       "(101, '경제')"
      ]
     },
     "execution_count": 116,
     "metadata": {},
     "output_type": "execute_result"
    }
   ],
   "source": [
    "result = model.predict([txt])[0]\n",
    "result, categories[result]"
   ]
  },
  {
   "cell_type": "code",
   "execution_count": 117,
   "metadata": {},
   "outputs": [],
   "source": [
    "# 6. 파일을 해당 카테고리의 디렉토리로 복사하기"
   ]
  },
  {
   "cell_type": "code",
   "execution_count": 118,
   "metadata": {},
   "outputs": [
    {
     "data": {
      "text/plain": [
       "'articles/texts/101_일본차3만대수입할때한국차는고작32대수출.txt'"
      ]
     },
     "execution_count": 118,
     "metadata": {},
     "output_type": "execute_result"
    }
   ],
   "source": [
    "\"articles/texts/{}\".format(articles[0])"
   ]
  },
  {
   "cell_type": "code",
   "execution_count": 119,
   "metadata": {},
   "outputs": [
    {
     "data": {
      "text/plain": [
       "'articles/101/101_일본차3만대수입할때한국차는고작32대수출.txt'"
      ]
     },
     "execution_count": 119,
     "metadata": {},
     "output_type": "execute_result"
    }
   ],
   "source": [
    "shutil.copy(\"articles/texts/{}\".format(articles[0]), \"articles/{}/{}\".format(result, articles[0]))"
   ]
  },
  {
   "cell_type": "code",
   "execution_count": 120,
   "metadata": {},
   "outputs": [
    {
     "name": "stdout",
     "output_type": "stream",
     "text": [
      "101_일본차3만대수입할때한국차는고작32대수출.txt\r\n"
     ]
    }
   ],
   "source": [
    "!ls articles/101"
   ]
  },
  {
   "cell_type": "code",
   "execution_count": 121,
   "metadata": {},
   "outputs": [],
   "source": [
    "# 7. 반복문으로 만들기"
   ]
  },
  {
   "cell_type": "code",
   "execution_count": 122,
   "metadata": {},
   "outputs": [
    {
     "data": {
      "text/plain": [
       "{100: '정치 ', 101: '경제', 102: '사회', 103: '생활/문화', 104: '세계 ', 105: 'IT/과학'}"
      ]
     },
     "execution_count": 122,
     "metadata": {},
     "output_type": "execute_result"
    }
   ],
   "source": [
    "categories"
   ]
  },
  {
   "cell_type": "code",
   "execution_count": 123,
   "metadata": {},
   "outputs": [
    {
     "data": {
      "text/plain": [
       "['101_일본차3만대수입할때한국차는고작32대수출.txt',\n",
       " '102_한라산에기습폭우고립됐던초등생·교사28명구조.txt']"
      ]
     },
     "execution_count": 123,
     "metadata": {},
     "output_type": "execute_result"
    }
   ],
   "source": [
    "articles[:2]"
   ]
  },
  {
   "cell_type": "code",
   "execution_count": 124,
   "metadata": {},
   "outputs": [
    {
     "data": {
      "text/plain": [
       "Pipeline(steps=[('vect', TfidfVectorizer()),\n",
       "                ('clf', MultinomialNB(alpha=0.01))])"
      ]
     },
     "execution_count": 124,
     "metadata": {},
     "output_type": "execute_result"
    }
   ],
   "source": [
    "model"
   ]
  },
  {
   "cell_type": "code",
   "execution_count": 126,
   "metadata": {},
   "outputs": [
    {
     "name": "stdout",
     "output_type": "stream",
     "text": [
      "0 1 2 3 4 5 6 7 8 9 10 11 12 13 14 15 16 17 18 19 20 21 22 23 24 25 26 27 28 29 30 31 32 33 34 35 36 37 38 39 40 41 42 43 44 45 46 47 48 49 50 51 52 53 54 55 56 57 58 59 60 61 62 63 64 65 66 67 68 69 70 71 72 73 74 75 76 77 78 79 80 81 82 83 84 85 86 87 88 89 90 91 92 93 94 95 96 97 98 99 100 101 102 103 104 105 106 107 108 109 110 111 112 113 114 115 116 117 118 119 120 121 122 123 124 125 126 127 128 129 130 131 132 133 134 135 136 137 138 139 140 141 142 143 144 145 146 147 148 149 150 151 152 153 154 155 156 157 158 159 160 161 162 163 164 165 166 167 168 169 170 171 172 173 174 175 176 177 178 179 180 181 182 183 184 185 186 187 188 189 190 191 192 193 194 195 196 197 198 199 200 201 202 203 204 205 206 207 208 209 210 211 212 213 214 215 216 217 218 219 220 221 222 223 224 225 226 227 228 229 230 231 232 233 234 235 236 "
     ]
    }
   ],
   "source": [
    "for idx, filename in enumerate(articles):\n",
    "    \n",
    "    # 기사 파일을 읽어오기\n",
    "    with open(\"articles/texts/{}\".format(filename), \"rt\") as file:\n",
    "        txt = file.read()\n",
    "    \n",
    "    # 모델로 카테고리를 예측하기\n",
    "    result = model.predict([txt])[0]\n",
    "    \n",
    "    # 파일 복사하기\n",
    "    shutil.copy(\"articles/texts/{}\".format(filename), \"articles/{}/{}\".format(result, filename))\n",
    "    \n",
    "    print(idx, end=\" \")"
   ]
  },
  {
   "cell_type": "code",
   "execution_count": 128,
   "metadata": {},
   "outputs": [
    {
     "name": "stdout",
     "output_type": "stream",
     "text": [
      "102_부산온천천서숭어·잉어·붕어물고기수천마리떼죽음.txt\r\n",
      "103_1500자의학상식자궁경부무력증조산막으려면.txt\r\n",
      "103_2019이효석문학상최종심진출작최종심진출작④장은진`외진곳`生의나이테에새겨진빈곤의무늬.txt\r\n",
      "103__드라이브취소하고카페로_주말장맛비에실내로피신.txt\r\n",
      "103__내그림은낚시처럼결과예측못해_.txt\r\n",
      "103_일본3만대팔릴때국산차日수출32대.txt\r\n",
      "103_프로듀스X투표조작의혹결국법의판단받는다.txt\r\n",
      "103_열대림·독특한동식물·다양한부족문화해적의역사간직한코뿔새의땅사라왁.txt\r\n",
      "103_제니홀저·전광영·양혜규출격아트페어에2만점상차림.txt\r\n",
      "103_신안산선8월착공현지선시큰둥.txt\r\n",
      "103_토마토효능암,골다공증막고,다이어트효과도.txt\r\n",
      "103_중부내일까지100mm큰비영남은폭염주의보.txt\r\n",
      "103_현장에서車업계,이제볕드나했는데아쉬운‘하투’.txt\r\n",
      "103_세대별평균월9069원내고1인당130만원받는다.txt\r\n",
      "103_잘나가는책은`유튜버셀러`뿐이네.txt\r\n",
      "103_상반기일본車수입26_↑62억달러로역대최대치.txt\r\n",
      "103_기세꺾인장마열대야·무더위온다.txt\r\n",
      "103_시승기작아도속은꽉~`혼라이프SUV`너로정했다.txt\r\n",
      "103_김태호놀면뭐하니시청률4_“역시신선““산만하더라_.txt\r\n",
      "103_출판사들도유튜브에빠졌다.txt\r\n",
      "103_쓰레기봉투와테이프가탈출도구_한국형클라이밍액션극‘엑시트’.txt\r\n",
      "103_인니대통령만난정의선현대차,1조원규모인니전기차공장설립_.txt\r\n",
      "103_기아‘니로’없어서못판다생산계획20_확대키로.txt\r\n",
      "103_글로벌명의명클리닉대장암환자3000여명에새삶복강경수술2시간내종료.txt\r\n",
      "103_밤부터내일새벽까지중부지방천둥·번개동반강한비(종합).txt\r\n",
      "103_이굴뚝을보면윤선도가아른거린다.txt\r\n",
      "103_멀어지는역세권청년주택누굴믿나.txt\r\n",
      "103_인도에도뒤처진현대車중국공장의굴욕.txt\r\n",
      "103_신용카드해외위변조심각이대로당해야하나.txt\r\n",
      "103_눈앞에서고래가풀쩍쿡아일랜드에푹빠지다.txt\r\n",
      "103_로마보다앞선신비의고대국가에트루리아를만나다.txt\r\n",
      "103_“일본은없다”대형마트는지금新물산장려운동.txt\r\n",
      "103_기대수명높아지는데건강자신감은계속낮아진다.txt\r\n",
      "103_서울시전기버스구매기준첫마련중국車배제허들될까.txt\r\n",
      "103_중부지방막바지장맛비주룩주룩남부는찜통더위시작.txt\r\n",
      "103_박서준“적당히뜨거운나이에한국형히어로물맡아행운”.txt\r\n",
      "103_“반일에역행하면안되지”유통점들일본색빼기안간힘.txt\r\n",
      "103_“인간의품격갖춘지도자는‘민중가슴’에영원히살아남죠”.txt\r\n",
      "103_신비와생명의땅에티오피아그리스신전닮은교회가땅속에있네!.txt\r\n",
      "103_‘항공성중이염’늘시달리신다면탑승전이비인후과진료필수.txt\r\n",
      "105_IR52장영실상오티에스CCTV승하강장치.txt\r\n"
     ]
    }
   ],
   "source": [
    "%ls articles/103"
   ]
  },
  {
   "cell_type": "code",
   "execution_count": null,
   "metadata": {},
   "outputs": [],
   "source": []
  }
 ],
 "metadata": {
  "kernelspec": {
   "display_name": "Python 3",
   "language": "python",
   "name": "python3"
  },
  "language_info": {
   "codemirror_mode": {
    "name": "ipython",
    "version": 3
   },
   "file_extension": ".py",
   "mimetype": "text/x-python",
   "name": "python",
   "nbconvert_exporter": "python",
   "pygments_lexer": "ipython3",
   "version": "3.8.3"
  }
 },
 "nbformat": 4,
 "nbformat_minor": 4
}
