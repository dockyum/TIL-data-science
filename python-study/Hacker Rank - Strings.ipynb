{
 "cells": [
  {
   "cell_type": "markdown",
   "metadata": {},
   "source": [
    "## String Validators \n",
    "find out if the string S contains: alphanumeric characters, alphabetical characters, digits, lowercase and uppercase characters"
   ]
  },
  {
   "cell_type": "markdown",
   "metadata": {},
   "source": [
    "### 1. 무식한 풀이"
   ]
  },
  {
   "cell_type": "code",
   "execution_count": 35,
   "metadata": {},
   "outputs": [
    {
     "data": {
      "text/plain": [
       "(True, True, True, True, True)"
      ]
     },
     "execution_count": 35,
     "metadata": {},
     "output_type": "execute_result"
    }
   ],
   "source": [
    "s = \"qA2\"\n",
    "\n",
    "def _isalnum(s):\n",
    "    for i in s:\n",
    "        if i.isalnum() == True:\n",
    "            return True\n",
    "    return False\n",
    "\n",
    "def _isalpha(s):\n",
    "    for i in s:\n",
    "        if i.isalpha() == True:\n",
    "            return True\n",
    "    return False\n",
    "\n",
    "def _isdigit(s):\n",
    "    for i in s:\n",
    "        if i in list(map(str,range(10))):\n",
    "            return True\n",
    "    return False\n",
    "\n",
    "def _islower(s):\n",
    "    for i in s:\n",
    "        if i.islower() == True:\n",
    "            return True\n",
    "    return False\n",
    "\n",
    "def _isupper(s):\n",
    "    for i in s:\n",
    "        if i.isupper() == True:\n",
    "            return True\n",
    "    return False\n",
    "\n",
    "_isalnum(s), _isalpha(s), _isdigit(s), _islower(s), _isupper(s)"
   ]
  },
  {
   "cell_type": "markdown",
   "metadata": {},
   "source": [
    "### 2. 세련된 풀이\n",
    "- any() 함수가 있습니다\n",
    "- Remember that class methods are just functions with an object as the first parameter"
   ]
  },
  {
   "cell_type": "markdown",
   "metadata": {},
   "source": [
    "#### 답"
   ]
  },
  {
   "cell_type": "code",
   "execution_count": 45,
   "metadata": {},
   "outputs": [
    {
     "name": "stdout",
     "output_type": "stream",
     "text": [
      "True\n",
      "True\n",
      "True\n",
      "True\n",
      "True\n"
     ]
    }
   ],
   "source": [
    "s = \"qA2\"\n",
    "\n",
    "for method in [str.isalnum, str.isalpha, str.isdigit, str.islower, str.isupper]:\n",
    "    print (any(method(c) for c in s))"
   ]
  },
  {
   "cell_type": "markdown",
   "metadata": {},
   "source": [
    "#### 풀이"
   ]
  },
  {
   "cell_type": "code",
   "execution_count": 20,
   "metadata": {},
   "outputs": [
    {
     "data": {
      "text/plain": [
       "(method_descriptor,\n",
       " <method 'lower' of 'str' objects>,\n",
       " <method 'append' of 'list' objects>)"
      ]
     },
     "execution_count": 20,
     "metadata": {},
     "output_type": "execute_result"
    }
   ],
   "source": [
    "## `type.method_name` 으로 메소드를 descriptor로 전달 가능\n",
    "type(str.isalnum), str.lower, list.append"
   ]
  },
  {
   "cell_type": "code",
   "execution_count": 6,
   "metadata": {},
   "outputs": [
    {
     "data": {
      "text/plain": [
       "method_descriptor"
      ]
     },
     "execution_count": 6,
     "metadata": {},
     "output_type": "execute_result"
    }
   ],
   "source": [
    "type(str.isalnum)"
   ]
  },
  {
   "cell_type": "code",
   "execution_count": 5,
   "metadata": {},
   "outputs": [
    {
     "name": "stdout",
     "output_type": "stream",
     "text": [
      "True\n",
      "True\n",
      "False\n",
      "True\n",
      "False\n"
     ]
    }
   ],
   "source": [
    "## 메소드를 loop.\n",
    "for method in [str.isalnum, str.isalpha, str.isdigit, str.islower, str.isupper]:\n",
    "    print (method(\"name\"))"
   ]
  },
  {
   "cell_type": "code",
   "execution_count": 10,
   "metadata": {},
   "outputs": [
    {
     "name": "stdout",
     "output_type": "stream",
     "text": [
      "haf2\n",
      "True\n",
      "True\n",
      "True\n",
      "True\n",
      "False\n"
     ]
    }
   ],
   "source": [
    "## 각 메소드에 loop string을 넣고 any()\n",
    "string = input()\n",
    "\n",
    "for method in [str.isalnum, str.isalpha, str.isdigit, str.islower, str.isupper]:\n",
    "    print (any(method(s) for s in string))"
   ]
  },
  {
   "cell_type": "markdown",
   "metadata": {},
   "source": [
    "## Text Wrap"
   ]
  },
  {
   "cell_type": "markdown",
   "metadata": {},
   "source": [
    "You are given a string `S` and width `w`. \\\n",
    "Your task is to wrap the string into a paragraph of width `w`."
   ]
  },
  {
   "cell_type": "markdown",
   "metadata": {},
   "source": [
    "### textwrap module 사용"
   ]
  },
  {
   "cell_type": "code",
   "execution_count": 8,
   "metadata": {
    "scrolled": true
   },
   "outputs": [
    {
     "name": "stdout",
     "output_type": "stream",
     "text": [
      "ABCD\n",
      "EFGH\n",
      "IJKL\n",
      "IMNO\n",
      "QRST\n",
      "UVWX\n",
      "YZ\n"
     ]
    }
   ],
   "source": [
    "import textwrap\n",
    "\n",
    "s = 'ABCDEFGHIJKLIMNOQRSTUVWXYZ'\n",
    "\n",
    "wrapper = textwrap.TextWrapper(width=4)\n",
    "\n",
    "word_list = wrapper.wrap(text=s)\n",
    "\n",
    "for i in word_list:\n",
    "    print(i)"
   ]
  },
  {
   "cell_type": "code",
   "execution_count": 16,
   "metadata": {},
   "outputs": [
    {
     "name": "stdout",
     "output_type": "stream",
     "text": [
      "ABCD\n",
      "EFGH\n",
      "IJKL\n",
      "IMNO\n",
      "QRST\n",
      "UVWX\n",
      "YZ\n"
     ]
    }
   ],
   "source": [
    "def wrap(string, max_width):\n",
    "    \n",
    "    wrapper = textwrap.TextWrapper(width=max_width)\n",
    "\n",
    "    word_list = wrapper.wrap(text=string)\n",
    "    \n",
    "    return \"\\n\".join(word_list)\n",
    "    \n",
    "resulting = wrap(s, 4)\n",
    "print(resulting)"
   ]
  },
  {
   "cell_type": "code",
   "execution_count": null,
   "metadata": {},
   "outputs": [],
   "source": []
  }
 ],
 "metadata": {
  "kernelspec": {
   "display_name": "Python 3",
   "language": "python",
   "name": "python3"
  },
  "language_info": {
   "codemirror_mode": {
    "name": "ipython",
    "version": 3
   },
   "file_extension": ".py",
   "mimetype": "text/x-python",
   "name": "python",
   "nbconvert_exporter": "python",
   "pygments_lexer": "ipython3",
   "version": "3.8.3"
  }
 },
 "nbformat": 4,
 "nbformat_minor": 4
}
