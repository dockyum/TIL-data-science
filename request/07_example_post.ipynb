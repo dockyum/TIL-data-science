{
 "cells": [
  {
   "cell_type": "markdown",
   "metadata": {},
   "source": [
    "# 행정안전부 보도자료 \n",
    "- POST 방식"
   ]
  },
  {
   "cell_type": "code",
   "execution_count": 1,
   "metadata": {},
   "outputs": [],
   "source": [
    "import requests\n",
    "import pandas as pd\n",
    "from bs4 import BeautifulSoup"
   ]
  },
  {
   "cell_type": "code",
   "execution_count": 2,
   "metadata": {},
   "outputs": [],
   "source": [
    "url = \"https://mois.go.kr/frt/bbs/type010/commonSelectBoardList.do?bbsId=BBSMSTR_000000000008\""
   ]
  },
  {
   "cell_type": "code",
   "execution_count": 6,
   "metadata": {},
   "outputs": [
    {
     "data": {
      "text/plain": [
       "{'nttId': 0,\n",
       " 'bbsTyCode': 'BBST03',\n",
       " 'bbsAttrbCode': 'BBSA03',\n",
       " 'authFlag': 'Y',\n",
       " 'pageIndex': 1,\n",
       " 'cal_url': '/sym/cal/EgovNormalCalPopup.do',\n",
       " 'searchCnd': 0}"
      ]
     },
     "execution_count": 6,
     "metadata": {},
     "output_type": "execute_result"
    }
   ],
   "source": [
    "page = 1\n",
    "params = {\n",
    "    \"nttId\": 0,\n",
    "    \"bbsTyCode\": \"BBST03\",\n",
    "    \"bbsAttrbCode\": \"BBSA03\",\n",
    "    \"authFlag\": \"Y\",\n",
    "    \"pageIndex\": page,\n",
    "    \"cal_url\": \"/sym/cal/EgovNormalCalPopup.do\",\n",
    "    \"searchCnd\": 0,\n",
    "}\n",
    "params"
   ]
  },
  {
   "cell_type": "code",
   "execution_count": 8,
   "metadata": {},
   "outputs": [
    {
     "data": {
      "text/plain": [
       "<Response [200]>"
      ]
     },
     "execution_count": 8,
     "metadata": {},
     "output_type": "execute_result"
    }
   ],
   "source": [
    "response = requests.post(url, params)\n",
    "response"
   ]
  },
  {
   "cell_type": "code",
   "execution_count": 9,
   "metadata": {},
   "outputs": [],
   "source": [
    "dom = BeautifulSoup(response.content, \"html.parser\")"
   ]
  },
  {
   "cell_type": "code",
   "execution_count": 10,
   "metadata": {},
   "outputs": [
    {
     "data": {
      "text/plain": [
       "10"
      ]
     },
     "execution_count": 10,
     "metadata": {},
     "output_type": "execute_result"
    }
   ],
   "source": [
    "elements = dom.select(\".table_style1 > tbody > tr\")\n",
    "len(elements)"
   ]
  },
  {
   "cell_type": "code",
   "execution_count": 33,
   "metadata": {},
   "outputs": [
    {
     "data": {
      "text/plain": [
       "[<td class=\"res_hide\">\n",
       " \t\t\t\t\t\t\t\t11610\n",
       " \t\t\t\t\t\t\t</td>,\n",
       " <td class=\"l\">\n",
       " <div class=\"wrap\">\n",
       " <a href=\"/frt/bbs/type010/commonSelectBoardArticle.do;jsessionid=dQZRFZzTvbcxyH1sZWDVfXHQ.node50?bbsId=BBSMSTR_000000000008&amp;nttId=81881\" onclick=\"javascript:fn_egov_inqire_notice('81881', 'BBSMSTR_000000000008'); return false;\">행안부, 공무직노조와 소통하여 단체협약 및 임금단체협약 체결 </a>\n",
       " </div>\n",
       " </td>,\n",
       " <td class=\"res_hide\">\n",
       " <img alt=\"첨부파일\" src=\"/images/board/icon_file.gif;jsessionid=dQZRFZzTvbcxyH1sZWDVfXHQ.node50\"/>\n",
       " </td>,\n",
       " <td class=\"res_hide\">\n",
       " \t\t\t\t\t\t\t\t홍보담당관\n",
       " \t\t\t\t\t\t\t</td>,\n",
       " <td>\n",
       " \t\t\t\t\t\t\t\t2020.12.24.\n",
       " \t\t\t\t\t\t\t</td>,\n",
       " <td class=\"res_hide\">\n",
       " \t\t\t\t\t\t\t\t68\n",
       " \t\t\t\t\t\t\t</td>]"
      ]
     },
     "execution_count": 33,
     "metadata": {},
     "output_type": "execute_result"
    }
   ],
   "source": [
    "elements[0].select(\"td\")"
   ]
  },
  {
   "cell_type": "code",
   "execution_count": 35,
   "metadata": {},
   "outputs": [
    {
     "data": {
      "text/plain": [
       "'2020.12.24.'"
      ]
     },
     "execution_count": 35,
     "metadata": {},
     "output_type": "execute_result"
    }
   ],
   "source": [
    "elements[0].select_one(\"td:nth-child(5)\").text.strip()"
   ]
  },
  {
   "cell_type": "code",
   "execution_count": 38,
   "metadata": {},
   "outputs": [
    {
     "data": {
      "text/html": [
       "<div>\n",
       "<style scoped>\n",
       "    .dataframe tbody tr th:only-of-type {\n",
       "        vertical-align: middle;\n",
       "    }\n",
       "\n",
       "    .dataframe tbody tr th {\n",
       "        vertical-align: top;\n",
       "    }\n",
       "\n",
       "    .dataframe thead th {\n",
       "        text-align: right;\n",
       "    }\n",
       "</style>\n",
       "<table border=\"1\" class=\"dataframe\">\n",
       "  <thead>\n",
       "    <tr style=\"text-align: right;\">\n",
       "      <th></th>\n",
       "      <th>no</th>\n",
       "      <th>title</th>\n",
       "      <th>writer</th>\n",
       "      <th>data</th>\n",
       "      <th>pv</th>\n",
       "    </tr>\n",
       "  </thead>\n",
       "  <tbody>\n",
       "    <tr>\n",
       "      <th>8</th>\n",
       "      <td>11602</td>\n",
       "      <td>국내 최초 인공지능(AI) 기반 한글 타자기록 문자인식 기술 개발</td>\n",
       "      <td>복원관리과</td>\n",
       "      <td>2020.12.22.</td>\n",
       "      <td>398</td>\n",
       "    </tr>\n",
       "    <tr>\n",
       "      <th>9</th>\n",
       "      <td>11601</td>\n",
       "      <td>올해 첫 실시된 ‘지자체 우수 안전조례’에 강원도, 마포구, 동래구 선정</td>\n",
       "      <td>안전제도과</td>\n",
       "      <td>2020.12.22.</td>\n",
       "      <td>405</td>\n",
       "    </tr>\n",
       "  </tbody>\n",
       "</table>\n",
       "</div>"
      ],
      "text/plain": [
       "      no                                     title writer         data   pv\n",
       "8  11602      국내 최초 인공지능(AI) 기반 한글 타자기록 문자인식 기술 개발  복원관리과  2020.12.22.  398\n",
       "9  11601  올해 첫 실시된 ‘지자체 우수 안전조례’에 강원도, 마포구, 동래구 선정  안전제도과  2020.12.22.  405"
      ]
     },
     "execution_count": 38,
     "metadata": {},
     "output_type": "execute_result"
    }
   ],
   "source": [
    "datas = []\n",
    "for element in elements:\n",
    "    datas.append({\n",
    "        \"no\" : element.select_one(\"td:nth-child(1)\").text.strip(),\n",
    "        \"title\" : element.select_one(\"td:nth-child(2)\").text.strip(),\n",
    "        \"writer\" : element.select_one(\"td:nth-child(4)\").text.strip(),\n",
    "        \"data\" : element.select_one(\"td:nth-child(5)\").text.strip(),\n",
    "        \"pv\" : element.select_one(\"td:nth-child(6)\").text.strip(),\n",
    "    })\n",
    "    \n",
    "mois_df = pd.DataFrame(datas)\n",
    "mois_df.tail(2)"
   ]
  },
  {
   "cell_type": "code",
   "execution_count": null,
   "metadata": {},
   "outputs": [],
   "source": []
  }
 ],
 "metadata": {
  "kernelspec": {
   "display_name": "Python 3",
   "language": "python",
   "name": "python3"
  },
  "language_info": {
   "codemirror_mode": {
    "name": "ipython",
    "version": 3
   },
   "file_extension": ".py",
   "mimetype": "text/x-python",
   "name": "python",
   "nbconvert_exporter": "python",
   "pygments_lexer": "ipython3",
   "version": "3.8.3"
  }
 },
 "nbformat": 4,
 "nbformat_minor": 4
}
