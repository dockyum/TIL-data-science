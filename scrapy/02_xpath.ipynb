{
 "cells": [
  {
   "cell_type": "markdown",
   "metadata": {},
   "source": [
    "# xpath\n",
    "- html element를 선택하는 방법\n",
    "- scrapy에서는 기본적으로 html selector로 xpath를 사용\n",
    "- `$ pip install scrapy`"
   ]
  },
  {
   "cell_type": "code",
   "execution_count": 3,
   "metadata": {},
   "outputs": [],
   "source": [
    "import scrapy\n",
    "import requests\n",
    "\n",
    "from scrapy.http import TextResponse"
   ]
  },
  {
   "cell_type": "code",
   "execution_count": 5,
   "metadata": {},
   "outputs": [
    {
     "data": {
      "text/plain": [
       "<Response [200]>"
      ]
     },
     "execution_count": 5,
     "metadata": {},
     "output_type": "execute_result"
    }
   ],
   "source": [
    "url = \"https://search.naver.com/search.naver?query=삼성전자\"\n",
    "headers= {\"user-agent\": \"Mozilla/5.0 (Macintosh; Intel Mac OS X 10_15_7) AppleWebKit/537.36 (KHTML, like Gecko) Chrome/87.0.4280.88 Safari/537.36\"}\n",
    "response = requests.get(url, headers=headers)\n",
    "response"
   ]
  },
  {
   "cell_type": "code",
   "execution_count": 6,
   "metadata": {},
   "outputs": [],
   "source": [
    "## dom = BeautifulSoup(response.content, 'html.parser')"
   ]
  },
  {
   "cell_type": "code",
   "execution_count": 7,
   "metadata": {},
   "outputs": [],
   "source": [
    "dom = TextResponse(response.url, body=response.text, encoding='utf-8')"
   ]
  },
  {
   "cell_type": "code",
   "execution_count": null,
   "metadata": {},
   "outputs": [],
   "source": [
    "dom.xpath('//*[@id=\"nx_right_related_keywords\"]/div/div[2]/ul/li[1]')"
   ]
  },
  {
   "cell_type": "markdown",
   "metadata": {},
   "source": [
    "## xpath 문법\n",
    "- `//` : 가장 상위 엘리먼트\n",
    "- `*` : 모든 하위 엘리먼트에서 검색\n",
    "- `/` : 한 단계 아래 하위 엘리먼트에서 검색\n",
    "- `[]` :\n",
    "    - `div[2]` : 2번째 div 엘리먼트 선택\n",
    "    - `[@(attribute key)=(attribute value)]`\n",
    "    - `[not@(class=\"data\")]` : class = data 가 아닌 element"
   ]
  },
  {
   "cell_type": "code",
   "execution_count": 15,
   "metadata": {},
   "outputs": [
    {
     "data": {
      "text/plain": [
       "10"
      ]
     },
     "execution_count": 15,
     "metadata": {},
     "output_type": "execute_result"
    }
   ],
   "source": [
    "elements = dom.xpath('//*[@id=\"nx_right_related_keywords\"]/div/div[2]/ul/li')\n",
    "len(elements)"
   ]
  },
  {
   "cell_type": "code",
   "execution_count": 18,
   "metadata": {},
   "outputs": [
    {
     "data": {
      "text/plain": [
       "[<Selector xpath='//*[@id=\"nx_right_related_keywords\"]/div/div[2]/ul/li' data='<li class=\"item\"> <a class=\"keyword\" ...'>,\n",
       " <Selector xpath='//*[@id=\"nx_right_related_keywords\"]/div/div[2]/ul/li' data='<li class=\"item\"> <a class=\"keyword\" ...'>,\n",
       " <Selector xpath='//*[@id=\"nx_right_related_keywords\"]/div/div[2]/ul/li' data='<li class=\"item\"> <a class=\"keyword\" ...'>,\n",
       " <Selector xpath='//*[@id=\"nx_right_related_keywords\"]/div/div[2]/ul/li' data='<li class=\"item\"> <a class=\"keyword\" ...'>,\n",
       " <Selector xpath='//*[@id=\"nx_right_related_keywords\"]/div/div[2]/ul/li' data='<li class=\"item\"> <a class=\"keyword\" ...'>,\n",
       " <Selector xpath='//*[@id=\"nx_right_related_keywords\"]/div/div[2]/ul/li' data='<li class=\"item\"> <a class=\"keyword\" ...'>,\n",
       " <Selector xpath='//*[@id=\"nx_right_related_keywords\"]/div/div[2]/ul/li' data='<li class=\"item\"> <a class=\"keyword\" ...'>,\n",
       " <Selector xpath='//*[@id=\"nx_right_related_keywords\"]/div/div[2]/ul/li' data='<li class=\"item\"> <a class=\"keyword\" ...'>,\n",
       " <Selector xpath='//*[@id=\"nx_right_related_keywords\"]/div/div[2]/ul/li' data='<li class=\"item\"> <a class=\"keyword\" ...'>,\n",
       " <Selector xpath='//*[@id=\"nx_right_related_keywords\"]/div/div[2]/ul/li' data='<li class=\"item\"> <a class=\"keyword\" ...'>]"
      ]
     },
     "execution_count": 18,
     "metadata": {},
     "output_type": "execute_result"
    }
   ],
   "source": [
    "elements"
   ]
  },
  {
   "cell_type": "code",
   "execution_count": 21,
   "metadata": {},
   "outputs": [
    {
     "name": "stdout",
     "output_type": "stream",
     "text": [
      "['삼성전자우', 'lg전자', '삼성', '셀트리온', '카카오', 'sk하이닉스', '엘지전자', '현대자동차', '코스피', '삼성전자 배당금']\n"
     ]
    }
   ],
   "source": [
    "keywords =[]\n",
    "\n",
    "for element in elements:\n",
    "    keyword = element.xpath('./a/div/text()')[0].extract()\n",
    "    keywords.append(keyword)\n",
    "print(keywords)"
   ]
  },
  {
   "cell_type": "code",
   "execution_count": 23,
   "metadata": {},
   "outputs": [
    {
     "name": "stdout",
     "output_type": "stream",
     "text": [
      "['삼성전자우', 'lg전자', '삼성', '셀트리온', '카카오', 'sk하이닉스', '엘지전자', '현대자동차', '코스피', '삼성전자 배당금']\n"
     ]
    }
   ],
   "source": [
    "## 하나의 xpath로 keywords 출력\n",
    "\n",
    "keywords = dom.xpath('//*[@id=\"nx_right_related_keywords\"]/div/div[2]/ul/li/a/div/text()').extract()\n",
    "print(keywords)"
   ]
  },
  {
   "cell_type": "code",
   "execution_count": null,
   "metadata": {},
   "outputs": [],
   "source": []
  }
 ],
 "metadata": {
  "kernelspec": {
   "display_name": "Python 3",
   "language": "python",
   "name": "python3"
  },
  "language_info": {
   "codemirror_mode": {
    "name": "ipython",
    "version": 3
   },
   "file_extension": ".py",
   "mimetype": "text/x-python",
   "name": "python",
   "nbconvert_exporter": "python",
   "pygments_lexer": "ipython3",
   "version": "3.8.3"
  }
 },
 "nbformat": 4,
 "nbformat_minor": 4
}
