{
 "cells": [
  {
   "cell_type": "markdown",
   "metadata": {},
   "source": [
    "# Jupyter Notebook\n",
    "\n",
    "## 셀의 모드\n",
    "- 명령모드 : 파란색의 상태, 셀 선택을 한 상태\n",
    "- 편집모드 : 초록색의 상태, 입력 중인 상태\n",
    "\n",
    "## 단축키\n",
    "\n",
    "### 명령 모드에서\n",
    "- H : show keyboard shortcut\n",
    "- 1,2,3,4,5,6 : change to heading\n",
    "- alt + enter : run cell and insert below\n",
    "- I + I : interupt the kernal\n",
    "\n",
    "- M : markdown\n",
    "- Y : code \n",
    "\n",
    "- B : 아래에 새로운 셀 생성\n",
    "- A : 위에 새로운 셀 생성\n",
    "- L : 현재 코드의 라인 표시\n",
    "- X : 삭제 (cut)\n",
    "- shift + V : 위에 붙이기\n",
    "- Z : 되돌리기\n",
    "- Shift + M : merge selected cell \n",
    "    (or below cell if only one cell is sellected )\n",
    "\n",
    "### 편집 모드에서\n",
    "- tab : 자동완성\n",
    "\n",
    "# Markdown\n",
    "## 1. 머릿말\n",
    "\n",
    "# heading1 \n",
    "## heading2\n",
    "### heading3\n",
    "#### heading4\n",
    "##### heading5\n",
    "\n",
    "## 2. 리스트\n",
    "- 리스트 1\n",
    "- 리스트 2\n",
    "    - 리스트 2-1\n",
    "    - 리스트 2-2\n",
    "        - 리스트 2-2-1\n",
    "        - 리스트 2-2-2\n",
    "        \n",
    "## 3.코드블럭\n",
    "`codeblock`(영어로 해야)\n",
    "\n",
    "```\n",
    "multi-line\n",
    "codeblock\n",
    "###data\n",
    "```\n",
    "\n",
    "# Magic Command\n",
    "- 셀 내부에서 특별하게 동작하는 커맨드\n",
    "- % : 한 줄의 magic command를 동작\n",
    "- %% : 셀 단위의 magic command를 동작\n",
    "- 주요 magic command\n",
    "    - pwd : 현재 주피터 노트북 파일의 경로\n",
    "    - ls :현재 디렉토리(폴더)의 파일 리스트\n",
    "    - whos : 현재 선언된 변수"
   ]
  },
  {
   "cell_type": "code",
   "execution_count": 5,
   "metadata": {},
   "outputs": [
    {
     "data": {
      "text/plain": [
       "'/Users/dokyum/Workspace/DSS - /TIL-data-science/python-basic'"
      ]
     },
     "execution_count": 5,
     "metadata": {},
     "output_type": "execute_result"
    }
   ],
   "source": [
    "%pwd"
   ]
  },
  {
   "cell_type": "code",
   "execution_count": 6,
   "metadata": {},
   "outputs": [],
   "source": [
    "a = 5"
   ]
  },
  {
   "cell_type": "code",
   "execution_count": 7,
   "metadata": {},
   "outputs": [
    {
     "name": "stdout",
     "output_type": "stream",
     "text": [
      "Variable   Type    Data/Info\n",
      "----------------------------\n",
      "a          int     5\n"
     ]
    }
   ],
   "source": [
    "%whos"
   ]
  },
  {
   "cell_type": "markdown",
   "metadata": {},
   "source": [
    "## shell Command\n",
    "- 쉘 환경의 명령어 사용 가능\n",
    "- 명령어 앞에 !\n",
    "- 주요 명령어\n",
    "    - ls, cat, echo, ...\n",
    "    "
   ]
  },
  {
   "cell_type": "code",
   "execution_count": 8,
   "metadata": {},
   "outputs": [
    {
     "name": "stdout",
     "output_type": "stream",
     "text": [
      "/opt/anaconda3/bin/python\r\n"
     ]
    }
   ],
   "source": [
    "!which python"
   ]
  },
  {
   "cell_type": "code",
   "execution_count": 9,
   "metadata": {},
   "outputs": [
    {
     "name": "stdout",
     "output_type": "stream",
     "text": [
      "01_jupyter_notebook.ipynb 05_change_data_type.ipynb 09_loop.ipynb\r\n",
      "02_basic_syntax.ipynb     06_input_print.ipynb      README.md\r\n",
      "03_data_type1.ipynb       07_operators.ipynb\r\n",
      "04_data_type2.ipynb       08_condition.ipynb\r\n"
     ]
    }
   ],
   "source": [
    "!ls"
   ]
  },
  {
   "cell_type": "markdown",
   "metadata": {},
   "source": [
    "## Ipython 설정\n",
    "### startup 파일 설정\n",
    "주피터 노트북 실행 시 미리 실행되는 코드 설정\n",
    "- 설정 방법\n",
    "    - 프로필 파일 생성 : `$ ipython profile create`\n",
    "    - 이동 : `cd ~/.ipython/profile_default/startup`\n",
    "    - `$ vi 00-first.py`\n",
    "    \n",
    "```\n",
    "# basic\n",
    "import time\n",
    "import random\n",
    "\n",
    "# data analytics\n",
    "import numpy as np\n",
    "import pandas as pd\n",
    "\n",
    "# web crawling\n",
    "import requests\n",
    "from bs4 import Beatifulsoup\n",
    "\n",
    "# visualazation\n",
    "import matplotlib as mpl\n",
    "import matplotlib.pyplot as plt\n",
    "import seaborn as sns\n",
    "\n",
    "sns.set()\n",
    "```"
   ]
  },
  {
   "cell_type": "markdown",
   "metadata": {},
   "source": [
    "### inline 설정\n",
    "- `$ cd /Users/dokyum/.ipython/profile_default`\n",
    "- `$ vi ipython_kernel_config.py`\n",
    "```\n",
    "c.IPKernelApp.matplotlib = 'inline'\n",
    "c.InlineBackend.figure_format = 'retina'\n",
    "```"
   ]
  },
  {
   "cell_type": "markdown",
   "metadata": {},
   "source": [
    "### auto PEP8 추가\n",
    "- nbextensions config 설치\n",
    "- `$ conda install -c conda-forge jupyter_codtrib_nbextensions`\n",
    "- 전체 수정 : ctr + shif + l\n",
    "- 단일 셀 수정 : ctr + l"
   ]
  },
  {
   "cell_type": "code",
   "execution_count": null,
   "metadata": {},
   "outputs": [],
   "source": []
  }
 ],
 "metadata": {
  "kernelspec": {
   "display_name": "Python 3",
   "language": "python",
   "name": "python3"
  },
  "language_info": {
   "codemirror_mode": {
    "name": "ipython",
    "version": 3
   },
   "file_extension": ".py",
   "mimetype": "text/x-python",
   "name": "python",
   "nbconvert_exporter": "python",
   "pygments_lexer": "ipython3",
   "version": "3.8.3"
  }
 },
 "nbformat": 4,
 "nbformat_minor": 4
}
