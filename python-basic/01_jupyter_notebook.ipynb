{
 "cells": [
  {
   "cell_type": "markdown",
   "metadata": {},
   "source": [
    "# 시작\n",
    "\n",
    "## 셀의 모드\n",
    "- 명령모드 : 파란색의 상태, 셀 선택을 한 상태\n",
    "- 편집모드 : 초록색의 상태, 입력 중인 상태\n",
    "\n",
    "## 단축키\n",
    "### 셀 스타일 변경 단축키(명령 모드에서)\n",
    "- m : markdown\n",
    "- y : code \n",
    "\n",
    "### 명령 모드에서\n",
    "- b : 아래에 새로운 셀 생성\n",
    "- a : 위에 새로운 셀 생성\n",
    "- l : 현재 코드의 라인 표시\n",
    "- x : 삭제\n",
    "- z : 되돌리기\n",
    "\n",
    "### 편집 모드에서\n",
    "- shift+enter : 실행\n",
    "- tab : 자동완성"
   ]
  },
  {
   "cell_type": "code",
   "execution_count": 3,
   "metadata": {},
   "outputs": [
    {
     "name": "stdout",
     "output_type": "stream",
     "text": [
      "1234\n"
     ]
    }
   ],
   "source": [
    "print(1234)"
   ]
  },
  {
   "cell_type": "markdown",
   "metadata": {},
   "source": [
    "# 마크다운 문법\n",
    "## 1. 머릿말\n",
    "\n",
    "# heading1 \n",
    "## heading2\n",
    "### heading3\n",
    "#### heading4\n",
    "##### heading5\n",
    "\n",
    "## 2. 리스트\n",
    "- 리스트 1\n",
    "- 리스트 2\n",
    "    - 리스트 2-1\n",
    "    - 리스트 2-2\n",
    "        - 리스트 2-2-1\n",
    "        - 리스트 2-2-2\n",
    "        \n",
    "## 3.코드블럭\n",
    "`codeblock`(영어로 해야)\n",
    "\n",
    "```\n",
    "multi-line\n",
    "codeblock\n",
    "###data\n",
    "```"
   ]
  },
  {
   "cell_type": "code",
   "execution_count": null,
   "metadata": {},
   "outputs": [],
   "source": []
  },
  {
   "cell_type": "code",
   "execution_count": null,
   "metadata": {},
   "outputs": [],
   "source": []
  }
 ],
 "metadata": {
  "kernelspec": {
   "display_name": "Python 3",
   "language": "python",
   "name": "python3"
  },
  "language_info": {
   "codemirror_mode": {
    "name": "ipython",
    "version": 3
   },
   "file_extension": ".py",
   "mimetype": "text/x-python",
   "name": "python",
   "nbconvert_exporter": "python",
   "pygments_lexer": "ipython3",
   "version": "3.8.3"
  }
 },
 "nbformat": 4,
 "nbformat_minor": 4
}
